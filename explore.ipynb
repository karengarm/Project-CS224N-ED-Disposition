{
 "cells": [
  {
   "cell_type": "code",
   "execution_count": 3,
   "id": "cdba7c2f",
   "metadata": {},
   "outputs": [
    {
     "data": {
      "text/html": [
       "<div>\n",
       "<style scoped>\n",
       "    .dataframe tbody tr th:only-of-type {\n",
       "        vertical-align: middle;\n",
       "    }\n",
       "\n",
       "    .dataframe tbody tr th {\n",
       "        vertical-align: top;\n",
       "    }\n",
       "\n",
       "    .dataframe thead th {\n",
       "        text-align: right;\n",
       "    }\n",
       "</style>\n",
       "<table border=\"1\" class=\"dataframe\">\n",
       "  <thead>\n",
       "    <tr style=\"text-align: right;\">\n",
       "      <th></th>\n",
       "      <th>index</th>\n",
       "      <th>CSN</th>\n",
       "      <th>Rads_order_ID</th>\n",
       "      <th>Study</th>\n",
       "      <th>Impression</th>\n",
       "      <th>ED_dispo</th>\n",
       "    </tr>\n",
       "  </thead>\n",
       "  <tbody>\n",
       "    <tr>\n",
       "      <th>0</th>\n",
       "      <td>0</td>\n",
       "      <td>131290418105</td>\n",
       "      <td>674819827</td>\n",
       "      <td>XR CHEST 2 VIEWS</td>\n",
       "      <td>1.  Interval increase in perihilar opacities a...</td>\n",
       "      <td>Place in Observation</td>\n",
       "    </tr>\n",
       "    <tr>\n",
       "      <th>1</th>\n",
       "      <td>1</td>\n",
       "      <td>131290415760</td>\n",
       "      <td>674821169</td>\n",
       "      <td>CT HEAD WO IV CONTRAST</td>\n",
       "      <td>1.  No acute intracranial abnormality. 2.  Mil...</td>\n",
       "      <td>Admit to Inpatient</td>\n",
       "    </tr>\n",
       "    <tr>\n",
       "      <th>2</th>\n",
       "      <td>2</td>\n",
       "      <td>131290418527</td>\n",
       "      <td>674823260</td>\n",
       "      <td>CT ABDOMEN PELVIS W IV CONTRAST</td>\n",
       "      <td>1.  Multiple loops of dilated small bowel with...</td>\n",
       "      <td>Admit to Inpatient</td>\n",
       "    </tr>\n",
       "    <tr>\n",
       "      <th>3</th>\n",
       "      <td>3</td>\n",
       "      <td>131290418527</td>\n",
       "      <td>674823261</td>\n",
       "      <td>XR CHEST 2 VIEWS</td>\n",
       "      <td>1.  Interval increased loculated moderate meta...</td>\n",
       "      <td>Admit to Inpatient</td>\n",
       "    </tr>\n",
       "    <tr>\n",
       "      <th>4</th>\n",
       "      <td>4</td>\n",
       "      <td>131290415760</td>\n",
       "      <td>674823291</td>\n",
       "      <td>XR PELVIS AND HIP 1 VIEW LEFT</td>\n",
       "      <td>1.  Redemonstrated fracture of the femoral hea...</td>\n",
       "      <td>Admit to Inpatient</td>\n",
       "    </tr>\n",
       "  </tbody>\n",
       "</table>\n",
       "</div>"
      ],
      "text/plain": [
       "   index           CSN  Rads_order_ID                            Study  \\\n",
       "0      0  131290418105      674819827                 XR CHEST 2 VIEWS   \n",
       "1      1  131290415760      674821169           CT HEAD WO IV CONTRAST   \n",
       "2      2  131290418527      674823260  CT ABDOMEN PELVIS W IV CONTRAST   \n",
       "3      3  131290418527      674823261                 XR CHEST 2 VIEWS   \n",
       "4      4  131290415760      674823291    XR PELVIS AND HIP 1 VIEW LEFT   \n",
       "\n",
       "                                          Impression              ED_dispo  \n",
       "0  1.  Interval increase in perihilar opacities a...  Place in Observation  \n",
       "1  1.  No acute intracranial abnormality. 2.  Mil...    Admit to Inpatient  \n",
       "2  1.  Multiple loops of dilated small bowel with...    Admit to Inpatient  \n",
       "3  1.  Interval increased loculated moderate meta...    Admit to Inpatient  \n",
       "4  1.  Redemonstrated fracture of the femoral hea...    Admit to Inpatient  "
      ]
     },
     "execution_count": 3,
     "metadata": {},
     "output_type": "execute_result"
    }
   ],
   "source": [
    "import pandas as pd\n",
    "\n",
    "df = pd.read_csv('~/rads_dispo_lim_2023_02_23.csv')\n",
    "df = df.reset_index()\n",
    "df.head()"
   ]
  },
  {
   "cell_type": "code",
   "execution_count": null,
   "id": "ca02d376",
   "metadata": {},
   "outputs": [],
   "source": [
    "for impression in df[df[\"Impression\"].str.contains(\"pneumonia\")][\"Impression\"][:10]:\n",
    "    print(impression)"
   ]
  },
  {
   "cell_type": "code",
   "execution_count": 2,
   "id": "726fd444",
   "metadata": {},
   "outputs": [
    {
     "data": {
      "text/plain": [
       "Discharge                   71379\n",
       "Admit to Inpatient          66309\n",
       "Place in Observation         7530\n",
       "Place in Observation-CDU      931\n",
       "Name: ED_dispo, dtype: int64"
      ]
     },
     "execution_count": 2,
     "metadata": {},
     "output_type": "execute_result"
    }
   ],
   "source": [
    "df[\"ED_dispo\"].value_counts()"
   ]
  },
  {
   "cell_type": "code",
   "execution_count": 6,
   "id": "7f7e65a0",
   "metadata": {},
   "outputs": [
    {
     "data": {
      "text/plain": [
       "<Axes: >"
      ]
     },
     "execution_count": 6,
     "metadata": {},
     "output_type": "execute_result"
    },
    {
     "data": {
      "image/png": "[encoded data removed]",
      "text/plain": [
       "<Figure size 640x480 with 1 Axes>"
      ]
     },
     "metadata": {},
     "output_type": "display_data"
    }
   ],
   "source": [
    "counts = df['Impression'].str.split().str.len()\n",
    "counts.hist()"
   ]
  },
  {
   "cell_type": "code",
   "execution_count": 7,
   "id": "73f207a7",
   "metadata": {},
   "outputs": [
    {
     "data": {
      "text/plain": [
       "(1, 2800)"
      ]
     },
     "execution_count": 7,
     "metadata": {},
     "output_type": "execute_result"
    }
   ],
   "source": [
    "counts.min(), counts.max()"
   ]
  },
  {
   "cell_type": "code",
   "execution_count": 14,
   "id": "cd987926",
   "metadata": {},
   "outputs": [
    {
     "data": {
      "text/html": [
       "<div>\n",
       "<style scoped>\n",
       "    .dataframe tbody tr th:only-of-type {\n",
       "        vertical-align: middle;\n",
       "    }\n",
       "\n",
       "    .dataframe tbody tr th {\n",
       "        vertical-align: top;\n",
       "    }\n",
       "\n",
       "    .dataframe thead th {\n",
       "        text-align: right;\n",
       "    }\n",
       "</style>\n",
       "<table border=\"1\" class=\"dataframe\">\n",
       "  <thead>\n",
       "    <tr style=\"text-align: right;\">\n",
       "      <th></th>\n",
       "      <th>urgent</th>\n",
       "      <th>phone</th>\n",
       "      <th>computer</th>\n",
       "      <th>not urgent</th>\n",
       "      <th>tablet</th>\n",
       "      <th>Impression</th>\n",
       "    </tr>\n",
       "  </thead>\n",
       "  <tbody>\n",
       "  </tbody>\n",
       "</table>\n",
       "</div>"
      ],
      "text/plain": [
       "Empty DataFrame\n",
       "Columns: [urgent, phone, computer, not urgent, tablet, Impression]\n",
       "Index: []"
      ]
     },
     "execution_count": 14,
     "metadata": {},
     "output_type": "execute_result"
    }
   ],
   "source": [
    "# labels = [\"Fracture\", \"Edema\", \"Cardiomegaly\", \"Pneumonia\", \"Atelectasis\", \"Pneumothorax\", \"Pleural Effusion\"]\n",
    "labels = ['urgent', 'phone', 'computer', 'not urgent', 'tablet']\n",
    "schema = {col_name: pd.Series(dtype=\"float64\") for col_name in labels}\n",
    "schema[\"Impression\"] = pd.Series(dtype=\"object\")\n",
    "rdf = pd.DataFrame(schema)\n",
    "rdf"
   ]
  },
  {
   "cell_type": "code",
   "execution_count": 15,
   "id": "6279ee88",
   "metadata": {},
   "outputs": [],
   "source": [
    "results = [{'sequence': 'I have a problem with my iphone that needs to be resolved asap!',\n",
    " 'labels': ['urgent', 'phone', 'computer', 'not urgent', 'tablet'],\n",
    " 'scores': [0.9987171292304993,\n",
    "  0.9945850372314453,\n",
    "  0.18990309536457062,\n",
    "  0.0007674154476262629,\n",
    "  0.00038260864675976336]}]"
   ]
  },
  {
   "cell_type": "code",
   "execution_count": 28,
   "id": "b4cd79f4",
   "metadata": {},
   "outputs": [
    {
     "name": "stderr",
     "output_type": "stream",
     "text": [
      "/tmp/ipykernel_7866/3809587057.py:10: FutureWarning: The frame.append method is deprecated and will be removed from pandas in a future version. Use pandas.concat instead.\n",
      "  rdf = rdf.append(row, ignore_index=True)\n"
     ]
    },
    {
     "data": {
      "text/html": [
       "<div>\n",
       "<style scoped>\n",
       "    .dataframe tbody tr th:only-of-type {\n",
       "        vertical-align: middle;\n",
       "    }\n",
       "\n",
       "    .dataframe tbody tr th {\n",
       "        vertical-align: top;\n",
       "    }\n",
       "\n",
       "    .dataframe thead th {\n",
       "        text-align: right;\n",
       "    }\n",
       "</style>\n",
       "<table border=\"1\" class=\"dataframe\">\n",
       "  <thead>\n",
       "    <tr style=\"text-align: right;\">\n",
       "      <th></th>\n",
       "      <th>urgent</th>\n",
       "      <th>phone</th>\n",
       "      <th>computer</th>\n",
       "      <th>not urgent</th>\n",
       "      <th>tablet</th>\n",
       "      <th>Impression</th>\n",
       "    </tr>\n",
       "  </thead>\n",
       "  <tbody>\n",
       "    <tr>\n",
       "      <th>0</th>\n",
       "      <td>0.998717</td>\n",
       "      <td>0.994585</td>\n",
       "      <td>0.189903</td>\n",
       "      <td>0.000767</td>\n",
       "      <td>0.000383</td>\n",
       "      <td>I have a problem with my iphone that needs to ...</td>\n",
       "    </tr>\n",
       "  </tbody>\n",
       "</table>\n",
       "</div>"
      ],
      "text/plain": [
       "     urgent     phone  computer  not urgent    tablet  \\\n",
       "0  0.998717  0.994585  0.189903    0.000767  0.000383   \n",
       "\n",
       "                                          Impression  \n",
       "0  I have a problem with my iphone that needs to ...  "
      ]
     },
     "execution_count": 28,
     "metadata": {},
     "output_type": "execute_result"
    }
   ],
   "source": [
    "def to_pandas(results_list):\n",
    "#     labels = [\"Fracture\", \"Edema\", \"Cardiomegaly\", \"Pneumonia\", \"Atelectasis\", \"Pneumothorax\", \"Pleural Effusion\"]\n",
    "    labels = ['urgent', 'phone', 'computer', 'not urgent', 'tablet']\n",
    "    schema = {col_name: pd.Series(dtype=\"float64\") for col_name in labels}\n",
    "    schema[\"Impression\"] = pd.Series(dtype=\"object\")\n",
    "    rdf = pd.DataFrame(schema)\n",
    "    for result in results:\n",
    "        row = {label: score for label, score in zip(result[\"labels\"], result[\"scores\"])}\n",
    "        row[\"Impression\"] = result[\"sequence\"]\n",
    "        rdf = rdf.append(row, ignore_index=True)\n",
    "    #     rdf = pd.concat([rdf, pd.DataFrame(row)])\n",
    "    return rdf\n",
    "\n",
    "pred_df = to_pandas(results)\n",
    "pred_df"
   ]
  },
  {
   "cell_type": "code",
   "execution_count": 31,
   "id": "fe3fac09",
   "metadata": {},
   "outputs": [
    {
     "data": {
      "text/html": [
       "<div>\n",
       "<style scoped>\n",
       "    .dataframe tbody tr th:only-of-type {\n",
       "        vertical-align: middle;\n",
       "    }\n",
       "\n",
       "    .dataframe tbody tr th {\n",
       "        vertical-align: top;\n",
       "    }\n",
       "\n",
       "    .dataframe thead th {\n",
       "        text-align: right;\n",
       "    }\n",
       "</style>\n",
       "<table border=\"1\" class=\"dataframe\">\n",
       "  <thead>\n",
       "    <tr style=\"text-align: right;\">\n",
       "      <th></th>\n",
       "      <th>urgent</th>\n",
       "      <th>phone</th>\n",
       "      <th>computer</th>\n",
       "      <th>not urgent</th>\n",
       "      <th>tablet</th>\n",
       "      <th>Impression</th>\n",
       "    </tr>\n",
       "  </thead>\n",
       "  <tbody>\n",
       "    <tr>\n",
       "      <th>0</th>\n",
       "      <td>0.998717</td>\n",
       "      <td>0.994585</td>\n",
       "      <td>0.189903</td>\n",
       "      <td>0.000767</td>\n",
       "      <td>0.000383</td>\n",
       "      <td>I have a problem with my iphone that needs to ...</td>\n",
       "    </tr>\n",
       "  </tbody>\n",
       "</table>\n",
       "</div>"
      ],
      "text/plain": [
       "     urgent     phone  computer  not urgent    tablet  \\\n",
       "0  0.998717  0.994585  0.189903    0.000767  0.000383   \n",
       "\n",
       "                                          Impression  \n",
       "0  I have a problem with my iphone that needs to ...  "
      ]
     },
     "execution_count": 31,
     "metadata": {},
     "output_type": "execute_result"
    }
   ],
   "source": [
    "threshold = 0.9\n",
    "col_name = \"phone\"\n",
    "pred_df[pred_df[col_name] > threshold]"
   ]
  },
  {
   "cell_type": "code",
   "execution_count": null,
   "id": "e923711c",
   "metadata": {},
   "outputs": [],
   "source": [
    "def naive_bayes(y_pred, y_true, col_name):\n",
    "    X = y_pred[[col_name]]\n",
    "    y = y_true.mask(y_true != 1, 0)\n",
    "\n",
    "    nb = GaussianNB()\n",
    "    nb.fit(X, y)\n",
    "    # training accuracy\n",
    "    print(nb.score(X, y))\n",
    "    print(metrics.classification_report(y, nb.predict(X)))\n",
    "    return nb\n",
    "\n",
    "nb_frac = naive_bayes(pred_df, chexbert_df, col_name)"
   ]
  }
 ],
 "metadata": {
  "kernelspec": {
   "display_name": "Python 3 (ipykernel)",
   "language": "python",
   "name": "python3"
  },
  "language_info": {
   "codemirror_mode": {
    "name": "ipython",
    "version": 3
   },
   "file_extension": ".py",
   "mimetype": "text/x-python",
   "name": "python",
   "nbconvert_exporter": "python",
   "pygments_lexer": "ipython3",
   "version": "3.10.9"
  }
 },
 "nbformat": 4,
 "nbformat_minor": 5
}
