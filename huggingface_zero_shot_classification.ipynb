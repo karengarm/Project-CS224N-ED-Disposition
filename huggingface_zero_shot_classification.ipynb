{
 "cells": [
  {
   "cell_type": "code",
   "execution_count": null,
   "id": "516edd4f",
   "metadata": {},
   "outputs": [],
   "source": [
    "from transformers import pipeline\n",
    "import numpy as np\n",
    "import pandas as pd\n",
    "from sklearn import metrics\n",
    "import torch\n",
    "from datasets import Dataset\n",
    "from transformers.pipelines.pt_utils import KeyDataset\n",
    "from tqdm.auto import tqdm"
   ]
  },
  {
   "cell_type": "code",
   "execution_count": null,
   "id": "224814a9",
   "metadata": {},
   "outputs": [],
   "source": [
    "# https://huggingface.co/docs/transformers/v4.26.1/en/main_classes/pipelines#transformers.ZeroShotClassificationPipeline\n",
    "pipe = pipeline(\n",
    "    model=\"facebook/bart-large-mnli\",\n",
    "    framework=\"pt\",\n",
    "    device=0,\n",
    ")"
   ]
  },
  {
   "cell_type": "code",
   "execution_count": null,
   "id": "96c8c3bc",
   "metadata": {},
   "outputs": [],
   "source": [
    "assert pipe.device.type == \"cuda\""
   ]
  },
  {
   "cell_type": "code",
   "execution_count": null,
   "id": "1beeca36",
   "metadata": {},
   "outputs": [],
   "source": [
    "pipe(\"I have a problem with my iphone that needs to be resolved asap!\",\n",
    "     candidate_labels=[\"urgent\", \"not urgent\", \"phone\", \"tablet\", \"computer\"],\n",
    "     multi_label=True,\n",
    ")"
   ]
  },
  {
   "cell_type": "code",
   "execution_count": null,
   "id": "e08d4786",
   "metadata": {},
   "outputs": [],
   "source": [
    "chexbert_results = pd.read_csv('/root/Project-CS224N-ED-Disposition/CheXbert-Labeler/labeled_reports_output.csv')\n",
    "chexbert_results.head()"
   ]
  },
  {
   "cell_type": "code",
   "execution_count": null,
   "id": "6d5dbd07",
   "metadata": {},
   "outputs": [],
   "source": [
    "chexbert_results[\"Report Impression\"].head()"
   ]
  },
  {
   "cell_type": "code",
   "execution_count": null,
   "id": "4864406c",
   "metadata": {},
   "outputs": [],
   "source": [
    "# all_labels = l2v_scores.columns.tolist()[4:]\n",
    "# print(len(all_labels))\n",
    "labels = [\"Fracture\", \"Edema\", \"Cardiomegaly\", \"Pneumonia\", \"Atelectasis\", \"Pneumothorax\", \"Pleural Effusion\"]"
   ]
  },
  {
   "cell_type": "code",
   "execution_count": null,
   "id": "bbe09435",
   "metadata": {},
   "outputs": [],
   "source": [
    "chexbert_results[\"Report Impression\"].head().tolist()"
   ]
  },
  {
   "cell_type": "code",
   "execution_count": null,
   "id": "97c43829",
   "metadata": {},
   "outputs": [],
   "source": [
    "pred5 = pipe(\n",
    "    sequences=chexbert_results[\"Report Impression\"].head().tolist(),\n",
    "    candidate_labels=labels,\n",
    "    multi_label=True,\n",
    ")\n",
    "len(pred5)"
   ]
  },
  {
   "cell_type": "code",
   "execution_count": null,
   "id": "f5fcef48",
   "metadata": {},
   "outputs": [],
   "source": [
    "dataset = Dataset.from_pandas(chexbert_results[[\"Report Impression\"]])"
   ]
  },
  {
   "cell_type": "code",
   "execution_count": null,
   "id": "0f60ec45",
   "metadata": {},
   "outputs": [],
   "source": [
    "pred_all = pipe(\n",
    "    sequences=KeyDataset(dataset, \"Report Impression\"),\n",
    "    candidate_labels=labels,\n",
    "    multi_label=True,\n",
    "    batch_size=1,\n",
    ")\n",
    "len(pred_all)"
   ]
  },
  {
   "cell_type": "code",
   "execution_count": null,
   "id": "8da3ff67",
   "metadata": {},
   "outputs": [],
   "source": [
    "results = []\n",
    "for out in tqdm(pred_all):\n",
    "    results.append(out)\n",
    "#     print(out)\n",
    "#     break"
   ]
  },
  {
   "cell_type": "code",
   "execution_count": null,
   "id": "a68958b2",
   "metadata": {},
   "outputs": [],
   "source": [
    "import pickle\n",
    "dict_a = {'A':0, 'B':1, 'C':2}\n",
    "pickle.dump(results, open('hug_results.pkl', 'wb'))"
   ]
  },
  {
   "cell_type": "code",
   "execution_count": null,
   "id": "6a9875ad",
   "metadata": {},
   "outputs": [],
   "source": [
    "print(1 + 2)"
   ]
  },
  {
   "cell_type": "code",
   "execution_count": null,
   "id": "45e65848",
   "metadata": {},
   "outputs": [],
   "source": [
    "results[0]"
   ]
  },
  {
   "cell_type": "code",
   "execution_count": null,
   "id": "5b028cfa",
   "metadata": {},
   "outputs": [],
   "source": [
    "\"\"\"\n",
    "compare against chexbert, assuming chexbert is truth\n",
    "\"\"\"\n",
    "threshold=0.75\n",
    "def to_pandas(results_list):\n",
    "    labels = [\"Fracture\", \"Edema\", \"Cardiomegaly\", \"Pneumonia\", \"Atelectasis\", \"Pneumothorax\", \"Pleural Effusion\"]\n",
    "#     labels = ['urgent', 'phone', 'computer', 'not urgent', 'tablet']\n",
    "    schema = {col_name: pd.Series(dtype=\"float64\") for col_name in labels}\n",
    "    schema[\"Impression\"] = pd.Series(dtype=\"object\")\n",
    "    rdf = pd.DataFrame(schema)\n",
    "    for result in results:\n",
    "        row = {label: score for label, score in zip(result[\"labels\"], result[\"scores\"])}\n",
    "        row[\"Impression\"] = result[\"sequence\"]\n",
    "        rdf = rdf.append(row, ignore_index=True)\n",
    "    #     rdf = pd.concat([rdf, pd.DataFrame(row)])\n",
    "    return rdf\n",
    "\n",
    "results_df = to_pandas(results)"
   ]
  },
  {
   "cell_type": "code",
   "execution_count": null,
   "id": "affa36d0",
   "metadata": {},
   "outputs": [],
   "source": [
    "def naive_bayes(y_pred, y_true, col_name):\n",
    "    X = y_pred[[col_name]]\n",
    "    y_true = y_true[col_name]\n",
    "    y = y_true.mask(y_true != 1, 0)\n",
    "\n",
    "    nb = GaussianNB()\n",
    "    nb.fit(X, y)\n",
    "    return nb\n",
    "\n",
    "def evaluate(pred_df, true_df, col_name):\n",
    "    \"\"\"\n",
    "    compare results against chexbert ground truth\n",
    "    \"\"\"\n",
    "    nb = naive_bayes(pred_df, true_df, col_name)\n",
    "    \n",
    "    y_pred = nb.predict(X)\n",
    "    print(label)\n",
    "    print(metrics.classification_report(y, y_pred))\n",
    "    fpr, tpr, thresholds = metrics.roc_curve(y, y_pred, pos_label=1)\n",
    "    auc = metrics.auc(fpr, tpr)\n",
    "    print(\"AUC\", auc)\n",
    "    return nb\n",
    "    \n",
    "def compare_hist(y_pred, y_true, scale=\"\", title=\"\"):\n",
    "    assert y_pred.shape == y_true.shape\n",
    "    df = pd.DataFrame({ 'y_pred': y_pred, 'y_true': y_true })\n",
    "    \n",
    "    true_scores = df[df[\"y_true\"] == 1][\"y_pred\"]\n",
    "    false_scores = df[df[\"y_true\"] != 1][\"y_pred\"]\n",
    "#     print(true)\n",
    "    bins = np.linspace(-1, 1, 100)\n",
    "\n",
    "    plt.hist(true_scores, bins, alpha=0.5, label='true_scores')\n",
    "    plt.hist(false_scores, bins, alpha=0.5, label='false_scores')\n",
    "    plt.legend(loc='upper right')\n",
    "    if scale == 'log':\n",
    "        plt.yscale('log')\n",
    "    plt.title(title)\n",
    "    plt.show()"
   ]
  },
  {
   "cell_type": "code",
   "execution_count": null,
   "id": "1d0b9b39",
   "metadata": {},
   "outputs": [],
   "source": [
    "compare_hist(results_df[\"Pneumonia\"], chex_df[\"Pneumonia\"], title=\"Pneumonia\")"
   ]
  },
  {
   "cell_type": "code",
   "execution_count": null,
   "id": "4c4dc758",
   "metadata": {},
   "outputs": [],
   "source": [
    "for label in labels:\n",
    "    evaluate(results_df, chex_df, label)"
   ]
  }
 ],
 "metadata": {
  "kernelspec": {
   "display_name": "Python 3 (ipykernel)",
   "language": "python",
   "name": "python3"
  },
  "language_info": {
   "codemirror_mode": {
    "name": "ipython",
    "version": 3
   },
   "file_extension": ".py",
   "mimetype": "text/x-python",
   "name": "python",
   "nbconvert_exporter": "python",
   "pygments_lexer": "ipython3",
   "version": "3.10.9"
  }
 },
 "nbformat": 4,
 "nbformat_minor": 5
}
