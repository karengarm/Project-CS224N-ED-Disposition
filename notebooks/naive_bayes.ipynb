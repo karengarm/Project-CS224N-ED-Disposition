{
 "cells": [
  {
   "cell_type": "code",
   "execution_count": 1,
   "id": "cfe1fc1a",
   "metadata": {},
   "outputs": [],
   "source": [
    "import numpy as np\n",
    "import pandas as pd\n",
    "from sklearn import metrics\n",
    "from sklearn.naive_bayes import GaussianNB # https://scikit-learn.org/stable/modules/naive_bayes.html#gaussian-naive-bayes\n",
    "from matplotlib import pyplot as plt"
   ]
  },
  {
   "cell_type": "code",
   "execution_count": 2,
   "id": "2afc7611",
   "metadata": {},
   "outputs": [
    {
     "data": {
      "text/html": [
       "<div>\n",
       "<style scoped>\n",
       "    .dataframe tbody tr th:only-of-type {\n",
       "        vertical-align: middle;\n",
       "    }\n",
       "\n",
       "    .dataframe tbody tr th {\n",
       "        vertical-align: top;\n",
       "    }\n",
       "\n",
       "    .dataframe thead th {\n",
       "        text-align: right;\n",
       "    }\n",
       "</style>\n",
       "<table border=\"1\" class=\"dataframe\">\n",
       "  <thead>\n",
       "    <tr style=\"text-align: right;\">\n",
       "      <th></th>\n",
       "      <th>doc_key</th>\n",
       "      <th>most_similar_label</th>\n",
       "      <th>highest_similarity_score</th>\n",
       "      <th>Pneumonia</th>\n",
       "      <th>Pneumothorax</th>\n",
       "      <th>Pleural Effusion</th>\n",
       "      <th>Edema</th>\n",
       "      <th>Fracture</th>\n",
       "      <th>Infection</th>\n",
       "      <th>Aspiration</th>\n",
       "      <th>...</th>\n",
       "      <th>Small bowel obstruction</th>\n",
       "      <th>Pancreatitis</th>\n",
       "      <th>Splenic laceration</th>\n",
       "      <th>Liver laceration</th>\n",
       "      <th>Colitis</th>\n",
       "      <th>Pyelonephritis</th>\n",
       "      <th>Nephrolithiasis</th>\n",
       "      <th>Malignancy</th>\n",
       "      <th>Pericaridial effusion</th>\n",
       "      <th>Aortic dissection</th>\n",
       "    </tr>\n",
       "  </thead>\n",
       "  <tbody>\n",
       "    <tr>\n",
       "      <th>0</th>\n",
       "      <td>0</td>\n",
       "      <td>Edema</td>\n",
       "      <td>0.578399</td>\n",
       "      <td>0.372592</td>\n",
       "      <td>0.247433</td>\n",
       "      <td>0.358910</td>\n",
       "      <td>0.578399</td>\n",
       "      <td>0.182795</td>\n",
       "      <td>0.207012</td>\n",
       "      <td>0.343566</td>\n",
       "      <td>...</td>\n",
       "      <td>0.169550</td>\n",
       "      <td>0.192718</td>\n",
       "      <td>0.345765</td>\n",
       "      <td>0.305152</td>\n",
       "      <td>0.204453</td>\n",
       "      <td>0.156657</td>\n",
       "      <td>0.182370</td>\n",
       "      <td>0.183517</td>\n",
       "      <td>0.410827</td>\n",
       "      <td>0.373433</td>\n",
       "    </tr>\n",
       "    <tr>\n",
       "      <th>1</th>\n",
       "      <td>1</td>\n",
       "      <td>Intracranial hemorrhage</td>\n",
       "      <td>0.582300</td>\n",
       "      <td>0.237796</td>\n",
       "      <td>0.250413</td>\n",
       "      <td>0.370153</td>\n",
       "      <td>0.345871</td>\n",
       "      <td>0.336697</td>\n",
       "      <td>0.272991</td>\n",
       "      <td>0.176680</td>\n",
       "      <td>...</td>\n",
       "      <td>0.029468</td>\n",
       "      <td>0.160354</td>\n",
       "      <td>0.261489</td>\n",
       "      <td>0.260567</td>\n",
       "      <td>0.125200</td>\n",
       "      <td>-0.059761</td>\n",
       "      <td>0.153361</td>\n",
       "      <td>0.287208</td>\n",
       "      <td>0.293623</td>\n",
       "      <td>0.244099</td>\n",
       "    </tr>\n",
       "    <tr>\n",
       "      <th>2</th>\n",
       "      <td>2</td>\n",
       "      <td>Small bowel obstruction</td>\n",
       "      <td>0.474909</td>\n",
       "      <td>0.217554</td>\n",
       "      <td>0.246539</td>\n",
       "      <td>0.264413</td>\n",
       "      <td>0.174407</td>\n",
       "      <td>0.123908</td>\n",
       "      <td>0.196018</td>\n",
       "      <td>0.176534</td>\n",
       "      <td>...</td>\n",
       "      <td>0.474909</td>\n",
       "      <td>0.210745</td>\n",
       "      <td>0.273223</td>\n",
       "      <td>0.359711</td>\n",
       "      <td>0.308034</td>\n",
       "      <td>0.209882</td>\n",
       "      <td>0.241061</td>\n",
       "      <td>0.457533</td>\n",
       "      <td>0.285561</td>\n",
       "      <td>0.312840</td>\n",
       "    </tr>\n",
       "    <tr>\n",
       "      <th>3</th>\n",
       "      <td>3</td>\n",
       "      <td>Pleural Effusion</td>\n",
       "      <td>0.621735</td>\n",
       "      <td>0.359045</td>\n",
       "      <td>0.338094</td>\n",
       "      <td>0.621735</td>\n",
       "      <td>0.335418</td>\n",
       "      <td>0.162360</td>\n",
       "      <td>0.304121</td>\n",
       "      <td>0.368442</td>\n",
       "      <td>...</td>\n",
       "      <td>0.158806</td>\n",
       "      <td>0.166371</td>\n",
       "      <td>0.286434</td>\n",
       "      <td>0.240703</td>\n",
       "      <td>0.159598</td>\n",
       "      <td>0.180631</td>\n",
       "      <td>0.127161</td>\n",
       "      <td>0.249665</td>\n",
       "      <td>0.581129</td>\n",
       "      <td>0.400238</td>\n",
       "    </tr>\n",
       "    <tr>\n",
       "      <th>4</th>\n",
       "      <td>4</td>\n",
       "      <td>Fracture</td>\n",
       "      <td>0.445201</td>\n",
       "      <td>-0.059400</td>\n",
       "      <td>0.073702</td>\n",
       "      <td>0.176929</td>\n",
       "      <td>0.142462</td>\n",
       "      <td>0.445201</td>\n",
       "      <td>0.055870</td>\n",
       "      <td>0.049981</td>\n",
       "      <td>...</td>\n",
       "      <td>0.078360</td>\n",
       "      <td>0.119567</td>\n",
       "      <td>0.201127</td>\n",
       "      <td>0.227667</td>\n",
       "      <td>0.031279</td>\n",
       "      <td>0.070918</td>\n",
       "      <td>0.087323</td>\n",
       "      <td>0.166940</td>\n",
       "      <td>0.163892</td>\n",
       "      <td>0.306166</td>\n",
       "    </tr>\n",
       "  </tbody>\n",
       "</table>\n",
       "<p>5 rows × 34 columns</p>\n",
       "</div>"
      ],
      "text/plain": [
       "   doc_key       most_similar_label  highest_similarity_score  Pneumonia  \\\n",
       "0        0                    Edema                  0.578399   0.372592   \n",
       "1        1  Intracranial hemorrhage                  0.582300   0.237796   \n",
       "2        2  Small bowel obstruction                  0.474909   0.217554   \n",
       "3        3         Pleural Effusion                  0.621735   0.359045   \n",
       "4        4                 Fracture                  0.445201  -0.059400   \n",
       "\n",
       "   Pneumothorax  Pleural Effusion     Edema  Fracture  Infection  Aspiration  \\\n",
       "0      0.247433          0.358910  0.578399  0.182795   0.207012    0.343566   \n",
       "1      0.250413          0.370153  0.345871  0.336697   0.272991    0.176680   \n",
       "2      0.246539          0.264413  0.174407  0.123908   0.196018    0.176534   \n",
       "3      0.338094          0.621735  0.335418  0.162360   0.304121    0.368442   \n",
       "4      0.073702          0.176929  0.142462  0.445201   0.055870    0.049981   \n",
       "\n",
       "   ...  Small bowel obstruction  Pancreatitis  Splenic laceration  \\\n",
       "0  ...                 0.169550      0.192718            0.345765   \n",
       "1  ...                 0.029468      0.160354            0.261489   \n",
       "2  ...                 0.474909      0.210745            0.273223   \n",
       "3  ...                 0.158806      0.166371            0.286434   \n",
       "4  ...                 0.078360      0.119567            0.201127   \n",
       "\n",
       "   Liver laceration   Colitis  Pyelonephritis  Nephrolithiasis  Malignancy  \\\n",
       "0          0.305152  0.204453        0.156657         0.182370    0.183517   \n",
       "1          0.260567  0.125200       -0.059761         0.153361    0.287208   \n",
       "2          0.359711  0.308034        0.209882         0.241061    0.457533   \n",
       "3          0.240703  0.159598        0.180631         0.127161    0.249665   \n",
       "4          0.227667  0.031279        0.070918         0.087323    0.166940   \n",
       "\n",
       "   Pericaridial effusion  Aortic dissection  \n",
       "0               0.410827           0.373433  \n",
       "1               0.293623           0.244099  \n",
       "2               0.285561           0.312840  \n",
       "3               0.581129           0.400238  \n",
       "4               0.163892           0.306166  \n",
       "\n",
       "[5 rows x 34 columns]"
      ]
     },
     "execution_count": 2,
     "metadata": {},
     "output_type": "execute_result"
    }
   ],
   "source": [
    "result_l2v = pd.read_csv('/root/Project-CS224N-ED-Disposition/result_l2v_v1.csv')\n",
    "result_l2v.head()"
   ]
  },
  {
   "cell_type": "code",
   "execution_count": 3,
   "id": "65695a89",
   "metadata": {},
   "outputs": [
    {
     "data": {
      "text/plain": [
       "(146149, 34)"
      ]
     },
     "execution_count": 3,
     "metadata": {},
     "output_type": "execute_result"
    }
   ],
   "source": [
    "result_l2v.shape"
   ]
  },
  {
   "cell_type": "code",
   "execution_count": 5,
   "id": "1e425853",
   "metadata": {},
   "outputs": [
    {
     "data": {
      "text/plain": [
       "0         0.372592\n",
       "1         0.237796\n",
       "2         0.217554\n",
       "3         0.359045\n",
       "4        -0.059400\n",
       "            ...   \n",
       "146144    0.038144\n",
       "146145    0.244592\n",
       "146146    0.082351\n",
       "146147    0.404529\n",
       "146148    0.374256\n",
       "Name: Pneumonia, Length: 146149, dtype: float64"
      ]
     },
     "execution_count": 5,
     "metadata": {},
     "output_type": "execute_result"
    }
   ],
   "source": [
    "pneumonia = result_l2v['Pneumonia']\n",
    "pneumonia"
   ]
  },
  {
   "cell_type": "code",
   "execution_count": 6,
   "id": "8da51775",
   "metadata": {},
   "outputs": [
    {
     "data": {
      "text/plain": [
       "<Axes: >"
      ]
     },
     "execution_count": 6,
     "metadata": {},
     "output_type": "execute_result"
    },
    {
     "data": {
      "image/png": "[encoded data removed]",
      "text/plain": [
       "<Figure size 640x480 with 1 Axes>"
      ]
     },
     "metadata": {},
     "output_type": "display_data"
    }
   ],
   "source": [
    "pneumonia.hist(bins=20)"
   ]
  },
  {
   "cell_type": "code",
   "execution_count": 7,
   "id": "21ab89fe",
   "metadata": {},
   "outputs": [
    {
     "data": {
      "text/plain": [
       "<Axes: >"
      ]
     },
     "execution_count": 7,
     "metadata": {},
     "output_type": "execute_result"
    },
    {
     "data": {
      "image/png": "[encoded data removed]",
      "text/plain": [
       "<Figure size 640x480 with 1 Axes>"
      ]
     },
     "metadata": {},
     "output_type": "display_data"
    }
   ],
   "source": [
    "pneumonia.hist(bins=20, cumulative=True)"
   ]
  },
  {
   "cell_type": "markdown",
   "id": "dfe9394c",
   "metadata": {},
   "source": [
    "# Get true percentage of pneumonia reports from chexbert labels"
   ]
  },
  {
   "cell_type": "code",
   "execution_count": 4,
   "id": "070cd81a",
   "metadata": {},
   "outputs": [
    {
     "data": {
      "text/html": [
       "<div>\n",
       "<style scoped>\n",
       "    .dataframe tbody tr th:only-of-type {\n",
       "        vertical-align: middle;\n",
       "    }\n",
       "\n",
       "    .dataframe tbody tr th {\n",
       "        vertical-align: top;\n",
       "    }\n",
       "\n",
       "    .dataframe thead th {\n",
       "        text-align: right;\n",
       "    }\n",
       "</style>\n",
       "<table border=\"1\" class=\"dataframe\">\n",
       "  <thead>\n",
       "    <tr style=\"text-align: right;\">\n",
       "      <th></th>\n",
       "      <th>Report Impression</th>\n",
       "      <th>Enlarged Cardiomediastinum</th>\n",
       "      <th>Cardiomegaly</th>\n",
       "      <th>Lung Opacity</th>\n",
       "      <th>Lung Lesion</th>\n",
       "      <th>Edema</th>\n",
       "      <th>Consolidation</th>\n",
       "      <th>Pneumonia</th>\n",
       "      <th>Atelectasis</th>\n",
       "      <th>Pneumothorax</th>\n",
       "      <th>Pleural Effusion</th>\n",
       "      <th>Pleural Other</th>\n",
       "      <th>Fracture</th>\n",
       "      <th>Support Devices</th>\n",
       "      <th>No Finding</th>\n",
       "    </tr>\n",
       "  </thead>\n",
       "  <tbody>\n",
       "    <tr>\n",
       "      <th>0</th>\n",
       "      <td>1.  Interval increase in perihilar opacities a...</td>\n",
       "      <td>NaN</td>\n",
       "      <td>NaN</td>\n",
       "      <td>1.0</td>\n",
       "      <td>NaN</td>\n",
       "      <td>1.0</td>\n",
       "      <td>0.0</td>\n",
       "      <td>NaN</td>\n",
       "      <td>NaN</td>\n",
       "      <td>NaN</td>\n",
       "      <td>NaN</td>\n",
       "      <td>NaN</td>\n",
       "      <td>NaN</td>\n",
       "      <td>NaN</td>\n",
       "      <td>NaN</td>\n",
       "    </tr>\n",
       "    <tr>\n",
       "      <th>1</th>\n",
       "      <td>1.  No acute intracranial abnormality. 2.  Mil...</td>\n",
       "      <td>NaN</td>\n",
       "      <td>NaN</td>\n",
       "      <td>NaN</td>\n",
       "      <td>NaN</td>\n",
       "      <td>NaN</td>\n",
       "      <td>NaN</td>\n",
       "      <td>NaN</td>\n",
       "      <td>NaN</td>\n",
       "      <td>NaN</td>\n",
       "      <td>NaN</td>\n",
       "      <td>NaN</td>\n",
       "      <td>0.0</td>\n",
       "      <td>NaN</td>\n",
       "      <td>NaN</td>\n",
       "    </tr>\n",
       "    <tr>\n",
       "      <th>2</th>\n",
       "      <td>1.  Multiple loops of dilated small bowel with...</td>\n",
       "      <td>NaN</td>\n",
       "      <td>NaN</td>\n",
       "      <td>NaN</td>\n",
       "      <td>1.0</td>\n",
       "      <td>NaN</td>\n",
       "      <td>NaN</td>\n",
       "      <td>NaN</td>\n",
       "      <td>NaN</td>\n",
       "      <td>NaN</td>\n",
       "      <td>1.0</td>\n",
       "      <td>NaN</td>\n",
       "      <td>NaN</td>\n",
       "      <td>NaN</td>\n",
       "      <td>NaN</td>\n",
       "    </tr>\n",
       "    <tr>\n",
       "      <th>3</th>\n",
       "      <td>1.  Interval increased loculated moderate meta...</td>\n",
       "      <td>NaN</td>\n",
       "      <td>NaN</td>\n",
       "      <td>NaN</td>\n",
       "      <td>NaN</td>\n",
       "      <td>NaN</td>\n",
       "      <td>1.0</td>\n",
       "      <td>-1.0</td>\n",
       "      <td>-1.0</td>\n",
       "      <td>NaN</td>\n",
       "      <td>1.0</td>\n",
       "      <td>NaN</td>\n",
       "      <td>NaN</td>\n",
       "      <td>NaN</td>\n",
       "      <td>NaN</td>\n",
       "    </tr>\n",
       "    <tr>\n",
       "      <th>4</th>\n",
       "      <td>1.  Redemonstrated fracture of the femoral hea...</td>\n",
       "      <td>NaN</td>\n",
       "      <td>NaN</td>\n",
       "      <td>NaN</td>\n",
       "      <td>NaN</td>\n",
       "      <td>NaN</td>\n",
       "      <td>NaN</td>\n",
       "      <td>NaN</td>\n",
       "      <td>NaN</td>\n",
       "      <td>NaN</td>\n",
       "      <td>NaN</td>\n",
       "      <td>NaN</td>\n",
       "      <td>1.0</td>\n",
       "      <td>NaN</td>\n",
       "      <td>NaN</td>\n",
       "    </tr>\n",
       "  </tbody>\n",
       "</table>\n",
       "</div>"
      ],
      "text/plain": [
       "                                   Report Impression  \\\n",
       "0  1.  Interval increase in perihilar opacities a...   \n",
       "1  1.  No acute intracranial abnormality. 2.  Mil...   \n",
       "2  1.  Multiple loops of dilated small bowel with...   \n",
       "3  1.  Interval increased loculated moderate meta...   \n",
       "4  1.  Redemonstrated fracture of the femoral hea...   \n",
       "\n",
       "   Enlarged Cardiomediastinum  Cardiomegaly  Lung Opacity  Lung Lesion  Edema  \\\n",
       "0                         NaN           NaN           1.0          NaN    1.0   \n",
       "1                         NaN           NaN           NaN          NaN    NaN   \n",
       "2                         NaN           NaN           NaN          1.0    NaN   \n",
       "3                         NaN           NaN           NaN          NaN    NaN   \n",
       "4                         NaN           NaN           NaN          NaN    NaN   \n",
       "\n",
       "   Consolidation  Pneumonia  Atelectasis  Pneumothorax  Pleural Effusion  \\\n",
       "0            0.0        NaN          NaN           NaN               NaN   \n",
       "1            NaN        NaN          NaN           NaN               NaN   \n",
       "2            NaN        NaN          NaN           NaN               1.0   \n",
       "3            1.0       -1.0         -1.0           NaN               1.0   \n",
       "4            NaN        NaN          NaN           NaN               NaN   \n",
       "\n",
       "   Pleural Other  Fracture  Support Devices  No Finding  \n",
       "0            NaN       NaN              NaN         NaN  \n",
       "1            NaN       0.0              NaN         NaN  \n",
       "2            NaN       NaN              NaN         NaN  \n",
       "3            NaN       NaN              NaN         NaN  \n",
       "4            NaN       1.0              NaN         NaN  "
      ]
     },
     "execution_count": 4,
     "metadata": {},
     "output_type": "execute_result"
    }
   ],
   "source": [
    "result_chexbert = pd.read_csv('/root/Project-CS224N-ED-Disposition/CheXbert-Labeler/labeled_reports_output.csv')\n",
    "result_chexbert.head()"
   ]
  },
  {
   "cell_type": "code",
   "execution_count": 9,
   "id": "a32ede78",
   "metadata": {},
   "outputs": [
    {
     "data": {
      "text/plain": [
       "(146149, 15)"
      ]
     },
     "execution_count": 9,
     "metadata": {},
     "output_type": "execute_result"
    }
   ],
   "source": [
    "result_chexbert.shape"
   ]
  },
  {
   "cell_type": "code",
   "execution_count": 10,
   "id": "bd674fe2",
   "metadata": {},
   "outputs": [
    {
     "data": {
      "text/plain": [
       "0         NaN\n",
       "1         NaN\n",
       "2         NaN\n",
       "3        -1.0\n",
       "4         NaN\n",
       "         ... \n",
       "146144    NaN\n",
       "146145    NaN\n",
       "146146    NaN\n",
       "146147   -1.0\n",
       "146148   -1.0\n",
       "Name: Pneumonia, Length: 146149, dtype: float64"
      ]
     },
     "execution_count": 10,
     "metadata": {},
     "output_type": "execute_result"
    }
   ],
   "source": [
    "pneu_chex = result_chexbert[\"Pneumonia\"]\n",
    "pneu_chex"
   ]
  },
  {
   "cell_type": "code",
   "execution_count": 11,
   "id": "ff44ebf7",
   "metadata": {},
   "outputs": [
    {
     "data": {
      "text/plain": [
       "-1.0    11986\n",
       " 1.0     4043\n",
       " 0.0     1968\n",
       "Name: Pneumonia, dtype: int64"
      ]
     },
     "execution_count": 11,
     "metadata": {},
     "output_type": "execute_result"
    }
   ],
   "source": [
    "pneu_chex_counts = pneu_chex.value_counts()\n",
    "pneu_chex_counts"
   ]
  },
  {
   "cell_type": "code",
   "execution_count": 12,
   "id": "a110e024",
   "metadata": {},
   "outputs": [
    {
     "data": {
      "text/plain": [
       "0.027663548843987983"
      ]
     },
     "execution_count": 12,
     "metadata": {},
     "output_type": "execute_result"
    }
   ],
   "source": [
    "assert pneumonia.shape[0] == pneu_chex.shape[0]\n",
    "total_reports = pneumonia.shape[0]\n",
    "true_percent = pneu_chex_counts[1.0] / total_reports\n",
    "true_percent"
   ]
  },
  {
   "cell_type": "markdown",
   "id": "e16e044f",
   "metadata": {},
   "source": [
    "# Get top 2.8% of pneumonia cases from lbl2vec scores"
   ]
  },
  {
   "cell_type": "code",
   "execution_count": 15,
   "id": "f2beb190",
   "metadata": {},
   "outputs": [
    {
     "name": "stdout",
     "output_type": "stream",
     "text": [
      "146149\n",
      "4043\n"
     ]
    },
    {
     "data": {
      "text/plain": [
       "92391     1.000000\n",
       "105172    1.000000\n",
       "75470     0.906517\n",
       "124618    0.904518\n",
       "116105    0.830785\n",
       "            ...   \n",
       "86274     0.462419\n",
       "96584     0.462382\n",
       "63228     0.462290\n",
       "27160     0.462275\n",
       "129407    0.462192\n",
       "Name: Pneumonia, Length: 4043, dtype: float64"
      ]
     },
     "execution_count": 15,
     "metadata": {},
     "output_type": "execute_result"
    }
   ],
   "source": [
    "total_reports = pneumonia.shape[0]\n",
    "top_n = round(true_percent * total_reports)\n",
    "print(total_reports)\n",
    "print(top_n)\n",
    "pneumonia.nlargest(top_n)"
   ]
  },
  {
   "cell_type": "code",
   "execution_count": 16,
   "id": "38a2c3e8",
   "metadata": {},
   "outputs": [
    {
     "data": {
      "text/plain": [
       "0.4621828322915653"
      ]
     },
     "execution_count": 16,
     "metadata": {},
     "output_type": "execute_result"
    }
   ],
   "source": [
    "# this is the decision boundary: above this value, we label the report as pneumonia=True\n",
    "threshold = pneumonia.quantile(1-true_percent)\n",
    "threshold"
   ]
  },
  {
   "cell_type": "code",
   "execution_count": 17,
   "id": "ff7e3e35",
   "metadata": {},
   "outputs": [
    {
     "data": {
      "text/plain": [
       "0         False\n",
       "1         False\n",
       "2         False\n",
       "3         False\n",
       "4         False\n",
       "          ...  \n",
       "146144    False\n",
       "146145    False\n",
       "146146    False\n",
       "146147    False\n",
       "146148    False\n",
       "Name: Pneumonia, Length: 146149, dtype: bool"
      ]
     },
     "execution_count": 17,
     "metadata": {},
     "output_type": "execute_result"
    }
   ],
   "source": [
    "y_pred = pneumonia >= threshold\n",
    "y_pred"
   ]
  },
  {
   "cell_type": "code",
   "execution_count": 18,
   "id": "b719d08a",
   "metadata": {},
   "outputs": [
    {
     "data": {
      "text/plain": [
       "False    142106\n",
       "True       4043\n",
       "Name: Pneumonia, dtype: int64"
      ]
     },
     "execution_count": 18,
     "metadata": {},
     "output_type": "execute_result"
    }
   ],
   "source": [
    "y_pred.value_counts()"
   ]
  },
  {
   "cell_type": "code",
   "execution_count": 19,
   "id": "78cac4ba",
   "metadata": {},
   "outputs": [
    {
     "data": {
      "text/plain": [
       "False    142106\n",
       "True       4043\n",
       "Name: Pneumonia, dtype: int64"
      ]
     },
     "execution_count": 19,
     "metadata": {},
     "output_type": "execute_result"
    }
   ],
   "source": [
    "y_true = pneu_chex == 1.0\n",
    "y_true.value_counts()"
   ]
  },
  {
   "cell_type": "code",
   "execution_count": 20,
   "id": "62ae21a9",
   "metadata": {},
   "outputs": [
    {
     "name": "stdout",
     "output_type": "stream",
     "text": [
      "              precision    recall  f1-score   support\n",
      "\n",
      "       False       0.98      0.98      0.98    142106\n",
      "        True       0.42      0.42      0.42      4043\n",
      "\n",
      "    accuracy                           0.97    146149\n",
      "   macro avg       0.70      0.70      0.70    146149\n",
      "weighted avg       0.97      0.97      0.97    146149\n",
      "\n"
     ]
    }
   ],
   "source": [
    "print(metrics.classification_report(y_true, y_pred))"
   ]
  },
  {
   "cell_type": "code",
   "execution_count": 23,
   "id": "bbd9ca33",
   "metadata": {},
   "outputs": [
    {
     "name": "stdout",
     "output_type": "stream",
     "text": [
      "Cardiomegaly\n",
      "              precision    recall  f1-score   support\n",
      "\n",
      "       False       0.98      0.91      0.95    143048\n",
      "        True       0.08      0.34      0.12      3101\n",
      "\n",
      "    accuracy                           0.90    146149\n",
      "   macro avg       0.53      0.63      0.54    146149\n",
      "weighted avg       0.97      0.90      0.93    146149\n",
      "\n",
      "Pneumonia\n",
      "              precision    recall  f1-score   support\n",
      "\n",
      "       False       0.98      0.98      0.98    142106\n",
      "        True       0.42      0.42      0.42      4043\n",
      "\n",
      "    accuracy                           0.97    146149\n",
      "   macro avg       0.70      0.70      0.70    146149\n",
      "weighted avg       0.97      0.97      0.97    146149\n",
      "\n",
      "Atelectasis\n",
      "              precision    recall  f1-score   support\n",
      "\n",
      "       False       0.98      0.98      0.98    141417\n",
      "        True       0.37      0.37      0.37      4732\n",
      "\n",
      "    accuracy                           0.96    146149\n",
      "   macro avg       0.67      0.67      0.67    146149\n",
      "weighted avg       0.96      0.96      0.96    146149\n",
      "\n",
      "Pneumothorax\n",
      "              precision    recall  f1-score   support\n",
      "\n",
      "       False       0.99      0.99      0.99    144829\n",
      "        True       0.26      0.26      0.26      1320\n",
      "\n",
      "    accuracy                           0.99    146149\n",
      "   macro avg       0.63      0.63      0.63    146149\n",
      "weighted avg       0.99      0.99      0.99    146149\n",
      "\n",
      "Pleural Effusion\n",
      "              precision    recall  f1-score   support\n",
      "\n",
      "       False       0.96      0.96      0.96    134443\n",
      "        True       0.53      0.53      0.53     11706\n",
      "\n",
      "    accuracy                           0.92    146149\n",
      "   macro avg       0.74      0.74      0.74    146149\n",
      "weighted avg       0.92      0.92      0.92    146149\n",
      "\n"
     ]
    }
   ],
   "source": [
    "ed_keywords = [\"Cardiomegaly\", \"Pneumonia\", \"Atelectasis\", \"Pneumothorax\", \"Pleural Effusion\"]\n",
    "for keyword in ed_keywords:\n",
    "#     label = f\"label_{ed_keywords.index(keyword)}\"\n",
    "    l2v = result_l2v[keyword]\n",
    "    \n",
    "    chex = result_chexbert[keyword]\n",
    "    chex_counts = chex.value_counts()\n",
    "    total_reports = chex.shape[0]\n",
    "    true_percent = chex_counts[1.0] / total_reports\n",
    "    y_true = chex == 1.0\n",
    "    \n",
    "    threshold = l2v.quantile(1-true_percent)\n",
    "    y_pred = l2v >= threshold\n",
    "    \n",
    "    print(keyword)\n",
    "    print(metrics.classification_report(y_true, y_pred))"
   ]
  },
  {
   "cell_type": "code",
   "execution_count": 24,
   "id": "bd648eeb",
   "metadata": {},
   "outputs": [
    {
     "data": {
      "text/plain": [
       "0         NaN\n",
       "1         NaN\n",
       "2         NaN\n",
       "3        -1.0\n",
       "4         NaN\n",
       "         ... \n",
       "146144    NaN\n",
       "146145    NaN\n",
       "146146    NaN\n",
       "146147   -1.0\n",
       "146148   -1.0\n",
       "Name: Pneumonia, Length: 146149, dtype: float64"
      ]
     },
     "execution_count": 24,
     "metadata": {},
     "output_type": "execute_result"
    }
   ],
   "source": [
    "result_chexbert[\"Pneumonia\"]"
   ]
  },
  {
   "cell_type": "markdown",
   "id": "b7700db1",
   "metadata": {},
   "source": [
    "# Naive bayes"
   ]
  },
  {
   "cell_type": "code",
   "execution_count": 5,
   "id": "3f58b627",
   "metadata": {},
   "outputs": [
    {
     "data": {
      "image/png": "[encoded data removed]",
      "text/plain": [
       "<Figure size 640x480 with 1 Axes>"
      ]
     },
     "metadata": {},
     "output_type": "display_data"
    }
   ],
   "source": [
    "def compare_hist(y_pred, y_true, scale=\"\", title=\"\"):\n",
    "    assert y_pred.shape == y_true.shape\n",
    "    df = pd.DataFrame({ 'y_pred': y_pred, 'y_true': y_true })\n",
    "    \n",
    "    true_scores = df[df[\"y_true\"] == 1][\"y_pred\"]\n",
    "    false_scores = df[df[\"y_true\"] != 1][\"y_pred\"]\n",
    "#     print(true)\n",
    "    bins = np.linspace(0, 1, 100)\n",
    "\n",
    "    plt.hist(true_scores, bins, alpha=0.5, label='True positives')\n",
    "    plt.hist(false_scores, bins, alpha=0.5, label='True negatives')\n",
    "    plt.legend(loc='upper right')\n",
    "    if scale == 'log':\n",
    "        plt.yscale('log')\n",
    "    plt.title(title)\n",
    "    plt.xlabel(f\"P(x = {title})\")\n",
    "    plt.ylabel(f\"Number of reports\")\n",
    "    plt.show()\n",
    "\n",
    "compare_hist(result_l2v[\"Pneumonia\"], result_chexbert[\"Pneumonia\"], scale=\"\", title=\"Pneumonia\")"
   ]
  },
  {
   "cell_type": "code",
   "execution_count": 6,
   "id": "ab9df605",
   "metadata": {},
   "outputs": [
    {
     "data": {
      "image/png": "[encoded data removed]",
      "text/plain": [
       "<Figure size 640x480 with 1 Axes>"
      ]
     },
     "metadata": {},
     "output_type": "display_data"
    },
    {
     "data": {
      "image/png": "[encoded data removed]",
      "text/plain": [
       "<Figure size 640x480 with 1 Axes>"
      ]
     },
     "metadata": {},
     "output_type": "display_data"
    }
   ],
   "source": [
    "compare_hist(result_l2v[\"Edema\"], result_chexbert[\"Edema\"], title=\"Edema\")\n",
    "compare_hist(result_l2v[\"Fracture\"], result_chexbert[\"Fracture\"], title=\"Fracture\")"
   ]
  },
  {
   "cell_type": "code",
   "execution_count": 9,
   "id": "5f80808d",
   "metadata": {},
   "outputs": [
    {
     "data": {
      "image/png": "[encoded data removed]",
      "text/plain": [
       "<Figure size 640x480 with 1 Axes>"
      ]
     },
     "metadata": {},
     "output_type": "display_data"
    }
   ],
   "source": [
    "compare_hist(result_l2v[\"Pleural Effusion\"], result_chexbert[\"Pleural Effusion\"], title=\"Pleural Effusion\")"
   ]
  },
  {
   "cell_type": "code",
   "execution_count": 38,
   "id": "738b5251",
   "metadata": {},
   "outputs": [
    {
     "name": "stdout",
     "output_type": "stream",
     "text": [
      "Fracture\n",
      "              precision    recall  f1-score   support\n",
      "\n",
      "         0.0       0.89      1.00      0.94    130038\n",
      "         1.0       0.00      0.00      0.00     16111\n",
      "\n",
      "    accuracy                           0.89    146149\n",
      "   macro avg       0.44      0.50      0.47    146149\n",
      "weighted avg       0.79      0.89      0.84    146149\n",
      "\n",
      "AUC 0.5\n"
     ]
    },
    {
     "name": "stderr",
     "output_type": "stream",
     "text": [
      "/opt/conda/envs/l2v/lib/python3.10/site-packages/sklearn/metrics/_classification.py:1344: UndefinedMetricWarning: Precision and F-score are ill-defined and being set to 0.0 in labels with no predicted samples. Use `zero_division` parameter to control this behavior.\n",
      "  _warn_prf(average, modifier, msg_start, len(result))\n",
      "/opt/conda/envs/l2v/lib/python3.10/site-packages/sklearn/metrics/_classification.py:1344: UndefinedMetricWarning: Precision and F-score are ill-defined and being set to 0.0 in labels with no predicted samples. Use `zero_division` parameter to control this behavior.\n",
      "  _warn_prf(average, modifier, msg_start, len(result))\n",
      "/opt/conda/envs/l2v/lib/python3.10/site-packages/sklearn/metrics/_classification.py:1344: UndefinedMetricWarning: Precision and F-score are ill-defined and being set to 0.0 in labels with no predicted samples. Use `zero_division` parameter to control this behavior.\n",
      "  _warn_prf(average, modifier, msg_start, len(result))\n"
     ]
    }
   ],
   "source": [
    "def naive_bayes(l2v_scores, y_true, label):\n",
    "    X = pd.DataFrame({ 'l2v_scores': l2v_scores })\n",
    "    y = y_true.mask(y_true != 1, 0)\n",
    "\n",
    "    nb = GaussianNB()\n",
    "    nb.fit(X, y)\n",
    "    y_pred = nb.predict(X)\n",
    "    print(label)\n",
    "    print(metrics.classification_report(y, y_pred))\n",
    "    fpr, tpr, thresholds = metrics.roc_curve(y, y_pred, pos_label=1)\n",
    "    auc = metrics.auc(fpr, tpr)\n",
    "    print(\"AUC\", auc)\n",
    "    return nb\n",
    "\n",
    "nb_frac = naive_bayes(result_l2v[\"Fracture\"], result_chexbert[\"Fracture\"], \"Fracture\")"
   ]
  },
  {
   "cell_type": "code",
   "execution_count": 36,
   "id": "e9d08558",
   "metadata": {},
   "outputs": [
    {
     "name": "stdout",
     "output_type": "stream",
     "text": [
      "[0. 1.]\n",
      "[130038.  16111.]\n",
      "[0.88976319 0.11023681]\n",
      "[[0.30380844]\n",
      " [0.44816069]]\n",
      "{'priors': None, 'var_smoothing': 1e-09}\n"
     ]
    }
   ],
   "source": [
    "print(nb_frac.classes_)\n",
    "print(nb_frac.class_count_)\n",
    "print(nb_frac.class_prior_)\n",
    "print(nb_frac.theta_) # mean\n",
    "print(nb_frac.get_params())"
   ]
  },
  {
   "cell_type": "code",
   "execution_count": 39,
   "id": "30d61291",
   "metadata": {},
   "outputs": [
    {
     "name": "stdout",
     "output_type": "stream",
     "text": [
      "Fracture\n"
     ]
    },
    {
     "name": "stderr",
     "output_type": "stream",
     "text": [
      "/opt/conda/envs/l2v/lib/python3.10/site-packages/sklearn/metrics/_classification.py:1344: UndefinedMetricWarning: Precision and F-score are ill-defined and being set to 0.0 in labels with no predicted samples. Use `zero_division` parameter to control this behavior.\n",
      "  _warn_prf(average, modifier, msg_start, len(result))\n",
      "/opt/conda/envs/l2v/lib/python3.10/site-packages/sklearn/metrics/_classification.py:1344: UndefinedMetricWarning: Precision and F-score are ill-defined and being set to 0.0 in labels with no predicted samples. Use `zero_division` parameter to control this behavior.\n",
      "  _warn_prf(average, modifier, msg_start, len(result))\n",
      "/opt/conda/envs/l2v/lib/python3.10/site-packages/sklearn/metrics/_classification.py:1344: UndefinedMetricWarning: Precision and F-score are ill-defined and being set to 0.0 in labels with no predicted samples. Use `zero_division` parameter to control this behavior.\n",
      "  _warn_prf(average, modifier, msg_start, len(result))\n"
     ]
    },
    {
     "name": "stdout",
     "output_type": "stream",
     "text": [
      "              precision    recall  f1-score   support\n",
      "\n",
      "         0.0       0.89      1.00      0.94    130038\n",
      "         1.0       0.00      0.00      0.00     16111\n",
      "\n",
      "    accuracy                           0.89    146149\n",
      "   macro avg       0.44      0.50      0.47    146149\n",
      "weighted avg       0.79      0.89      0.84    146149\n",
      "\n",
      "AUC 0.5\n",
      "Edema\n",
      "              precision    recall  f1-score   support\n",
      "\n",
      "         0.0       0.96      0.99      0.98    139224\n",
      "         1.0       0.66      0.26      0.38      6925\n",
      "\n",
      "    accuracy                           0.96    146149\n",
      "   macro avg       0.81      0.63      0.68    146149\n",
      "weighted avg       0.95      0.96      0.95    146149\n",
      "\n",
      "AUC 0.6281333958147803\n",
      "Cardiomegaly\n",
      "              precision    recall  f1-score   support\n",
      "\n",
      "         0.0       0.98      1.00      0.99    143048\n",
      "         1.0       0.97      0.17      0.29      3101\n",
      "\n",
      "    accuracy                           0.98    146149\n",
      "   macro avg       0.98      0.59      0.64    146149\n",
      "weighted avg       0.98      0.98      0.98    146149\n",
      "\n",
      "AUC 0.5858875893950152\n",
      "Pneumonia\n",
      "              precision    recall  f1-score   support\n",
      "\n",
      "         0.0       0.98      1.00      0.99    142106\n",
      "         1.0       0.58      0.17      0.27      4043\n",
      "\n",
      "    accuracy                           0.97    146149\n",
      "   macro avg       0.78      0.59      0.63    146149\n",
      "weighted avg       0.97      0.97      0.97    146149\n",
      "\n",
      "AUC 0.5852344411978783\n",
      "Atelectasis\n",
      "              precision    recall  f1-score   support\n",
      "\n",
      "         0.0       0.98      0.99      0.98    141417\n",
      "         1.0       0.40      0.26      0.32      4732\n",
      "\n",
      "    accuracy                           0.96    146149\n",
      "   macro avg       0.69      0.62      0.65    146149\n",
      "weighted avg       0.96      0.96      0.96    146149\n",
      "\n",
      "AUC 0.6230171424700452\n",
      "Pneumothorax\n",
      "              precision    recall  f1-score   support\n",
      "\n",
      "         0.0       0.99      1.00      0.99    144829\n",
      "         1.0       0.20      0.06      0.09      1320\n",
      "\n",
      "    accuracy                           0.99    146149\n",
      "   macro avg       0.60      0.53      0.54    146149\n",
      "weighted avg       0.98      0.99      0.99    146149\n",
      "\n",
      "AUC 0.5270187652857905\n",
      "Pleural Effusion\n",
      "              precision    recall  f1-score   support\n",
      "\n",
      "         0.0       0.95      0.99      0.97    134443\n",
      "         1.0       0.77      0.44      0.56     11706\n",
      "\n",
      "    accuracy                           0.94    146149\n",
      "   macro avg       0.86      0.72      0.77    146149\n",
      "weighted avg       0.94      0.94      0.94    146149\n",
      "\n",
      "AUC 0.7161096075705939\n"
     ]
    }
   ],
   "source": [
    "ed_keywords = [\"Fracture\", \"Edema\", \"Cardiomegaly\", \"Pneumonia\", \"Atelectasis\", \"Pneumothorax\", \"Pleural Effusion\"]\n",
    "\n",
    "nbs = []\n",
    "for keyword in ed_keywords:\n",
    "    nb = naive_bayes(result_l2v[keyword], result_chexbert[keyword], keyword)\n",
    "    nbs.append(nb)"
   ]
  },
  {
   "cell_type": "code",
   "execution_count": null,
   "id": "84b436e9",
   "metadata": {},
   "outputs": [],
   "source": [
    "compare_hist(result_l2v[\"Pleural Effusion\"], result_chexbert[\"Pleural Effusion\"])"
   ]
  },
  {
   "cell_type": "markdown",
   "id": "06d441d9",
   "metadata": {},
   "source": [
    "TODO: evaluate on test set"
   ]
  },
  {
   "cell_type": "code",
   "execution_count": 41,
   "id": "7230ec54",
   "metadata": {},
   "outputs": [
    {
     "data": {
      "text/plain": [
       "3"
      ]
     },
     "execution_count": 41,
     "metadata": {},
     "output_type": "execute_result"
    }
   ],
   "source": [
    "\"\"\"\n",
    "fpr, tpr, thresholds = roc_curve(y_test, y_pred, pos_label=1)\n",
    "    mauc = auc(fpr, tpr)\n",
    "\"\"\""
   ]
  },
  {
   "cell_type": "code",
   "execution_count": null,
   "id": "cb15ed56",
   "metadata": {},
   "outputs": [],
   "source": []
  }
 ],
 "metadata": {
  "kernelspec": {
   "display_name": "Python 3 (ipykernel)",
   "language": "python",
   "name": "python3"
  },
  "language_info": {
   "codemirror_mode": {
    "name": "ipython",
    "version": 3
   },
   "file_extension": ".py",
   "mimetype": "text/x-python",
   "name": "python",
   "nbconvert_exporter": "python",
   "pygments_lexer": "ipython3",
   "version": "3.10.9"
  }
 },
 "nbformat": 4,
 "nbformat_minor": 5
}
