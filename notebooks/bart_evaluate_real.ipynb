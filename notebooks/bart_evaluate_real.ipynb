{
 "cells": [
  {
   "cell_type": "markdown",
   "id": "3c5994cc",
   "metadata": {},
   "source": [
    "Do not use this! The working evaluation for the fine-tuned BART model is implemented in scripts/zero_shot_all_labels_fine_tune.py"
   ]
  },
  {
   "cell_type": "code",
   "execution_count": 3,
   "id": "ac2baf12",
   "metadata": {},
   "outputs": [],
   "source": [
    "model_dir = \"/root/models/bart_frozen_base_3_12_23\""
   ]
  },
  {
   "cell_type": "code",
   "execution_count": 4,
   "id": "8882b8d1",
   "metadata": {},
   "outputs": [
    {
     "name": "stdout",
     "output_type": "stream",
     "text": [
      "GPU memory occupied: 438 MB.\n"
     ]
    }
   ],
   "source": [
    "from pynvml import *\n",
    "\n",
    "def print_gpu_utilization():\n",
    "    nvmlInit()\n",
    "    handle = nvmlDeviceGetHandleByIndex(0)\n",
    "    info = nvmlDeviceGetMemoryInfo(handle)\n",
    "    print(f\"GPU memory occupied: {info.used//1024**2} MB.\")\n",
    "\n",
    "\n",
    "def print_summary(result):\n",
    "    print(f\"Time: {result.metrics['train_runtime']:.2f}\")\n",
    "    print(f\"Samples/second: {result.metrics['train_samples_per_second']:.2f}\")\n",
    "    print_gpu_utilization()\n",
    "    \n",
    "print_gpu_utilization()"
   ]
  },
  {
   "cell_type": "code",
   "execution_count": 1,
   "id": "2edc2b79",
   "metadata": {},
   "outputs": [
    {
     "ename": "NameError",
     "evalue": "name 'print_gpu_utilization' is not defined",
     "output_type": "error",
     "traceback": [
      "\u001b[0;31m---------------------------------------------------------------------------\u001b[0m",
      "\u001b[0;31mNameError\u001b[0m                                 Traceback (most recent call last)",
      "Cell \u001b[0;32mIn[1], line 13\u001b[0m\n\u001b[1;32m     10\u001b[0m \u001b[38;5;28;01mimport\u001b[39;00m \u001b[38;5;21;01mos\u001b[39;00m\n\u001b[1;32m     11\u001b[0m os\u001b[38;5;241m.\u001b[39menviron[\u001b[38;5;124m'\u001b[39m\u001b[38;5;124mDISABLE_MLFLOW_INTEGRATION\u001b[39m\u001b[38;5;124m'\u001b[39m] \u001b[38;5;241m=\u001b[39m \u001b[38;5;124m'\u001b[39m\u001b[38;5;124mTRUE\u001b[39m\u001b[38;5;124m'\u001b[39m\n\u001b[0;32m---> 13\u001b[0m \u001b[43mprint_gpu_utilization\u001b[49m()\n",
      "\u001b[0;31mNameError\u001b[0m: name 'print_gpu_utilization' is not defined"
     ]
    }
   ],
   "source": [
    "from transformers import pipeline\n",
    "import numpy as np\n",
    "import pandas as pd\n",
    "from sklearn import metrics\n",
    "import torch\n",
    "import datasets\n",
    "from datasets import Dataset\n",
    "from transformers.pipelines.pt_utils import KeyDataset\n",
    "from tqdm.auto import tqdm\n",
    "import os\n",
    "os.environ['DISABLE_MLFLOW_INTEGRATION'] = 'TRUE'\n",
    "\n",
    "print_gpu_utilization()"
   ]
  },
  {
   "cell_type": "code",
   "execution_count": 7,
   "id": "c8498f61",
   "metadata": {},
   "outputs": [
    {
     "name": "stdout",
     "output_type": "stream",
     "text": [
      "GPU memory occupied: 438 MB.\n"
     ]
    },
    {
     "data": {
      "text/plain": [
       "{'contradiction': 0, 'entailment': 2, 'neutral': 1}"
      ]
     },
     "execution_count": 7,
     "metadata": {},
     "output_type": "execute_result"
    }
   ],
   "source": [
    "from transformers import AutoTokenizer\n",
    "from transformers import AutoModelForSequenceClassification\n",
    "\n",
    "tokenizer = AutoTokenizer.from_pretrained(\"facebook/bart-large-mnli\", local_files_only=True)\n",
    "model = AutoModelForSequenceClassification.from_pretrained(model_dir, local_files_only=True)\n",
    "print_gpu_utilization()\n",
    "model.config.label2id"
   ]
  },
  {
   "cell_type": "code",
   "execution_count": 28,
   "id": "47b7c5e7",
   "metadata": {},
   "outputs": [],
   "source": [
    "# train_tokenized = datasets.load_from_disk(\"/root/data/bart_train_labels\")\n",
    "# val_tokenized = datasets.load_from_disk(\"/root/data/bart_val_labels\")\n",
    "\n",
    "# from datasets import concatenate_datasets\n",
    "# train_concat = concatenate_datasets([train_tokenized['train'], train_tokenized['val']])\n",
    "# val_concat = concatenate_datasets([val_tokenized['train'], val_tokenized['val']])\n",
    "\n",
    "\n",
    "# small_train_dataset = train_concat.shuffle(seed=42)\n",
    "# small_val_dataset = val_concat.shuffle(seed=42).select(range(10))"
   ]
  },
  {
   "cell_type": "code",
   "execution_count": 2,
   "id": "ff87499a",
   "metadata": {},
   "outputs": [
    {
     "data": {
      "text/plain": [
       "DatasetDict({\n",
       "    train: Dataset({\n",
       "        features: ['id', 'labels', 'original_label', 'input_ids', 'attention_mask'],\n",
       "        num_rows: 511520\n",
       "    })\n",
       "    val: Dataset({\n",
       "        features: ['id', 'labels', 'original_label', 'input_ids', 'attention_mask'],\n",
       "        num_rows: 146150\n",
       "    })\n",
       "    test: Dataset({\n",
       "        features: ['id', 'labels', 'original_label', 'input_ids', 'attention_mask'],\n",
       "        num_rows: 73075\n",
       "    })\n",
       "})"
      ]
     },
     "execution_count": 2,
     "metadata": {},
     "output_type": "execute_result"
    }
   ],
   "source": [
    "train_tokenized = datasets.load_from_disk(\"/root/data/bart_train_labels\")\n",
    "val_tokenized = datasets.load_from_disk(\"/root/data/bart_val_labels\")\n",
    "test_tokenized = datasets.load_from_disk(\"/root/data/bart_test_labels\")\n",
    "train_tokenized"
   ]
  },
  {
   "cell_type": "code",
   "execution_count": 12,
   "id": "6340f0f3",
   "metadata": {},
   "outputs": [
    {
     "name": "stderr",
     "output_type": "stream",
     "text": [
      "Loading cached shuffled indices for dataset at /root/data/bart_val_labels/val/cache-7e5c3367322bc272.arrow\n"
     ]
    }
   ],
   "source": [
    "small_val_dataset = val_tokenized[\"val\"].shuffle(seed=42).select(range(10))"
   ]
  },
  {
   "cell_type": "code",
   "execution_count": 19,
   "id": "584bf8bf",
   "metadata": {},
   "outputs": [
    {
     "name": "stderr",
     "output_type": "stream",
     "text": [
      "PyTorch: setting up devices\n",
      "The default value for the training argument `--report_to` will change in v5 (from all installed integrations to none). In v5, you will need to use `--report_to all` to get the same behavior as now. You should start updating your code and make this info disappear :-).\n"
     ]
    }
   ],
   "source": [
    "from transformers import TrainingArguments, Trainer\n",
    "import numpy as np\n",
    "import evaluate\n",
    "\n",
    "metric = evaluate.load(\"accuracy\")\n",
    "\n",
    "def compute_metrics(eval_pred):\n",
    "    logits_tuple, labels = eval_pred\n",
    "    logits, _ = logits_tuple\n",
    "    predictions = np.argmax(logits, axis=-1)\n",
    "    return metric.compute(predictions=predictions, references=labels)\n",
    "\n",
    "\n",
    "training_args = TrainingArguments(\n",
    "    output_dir=f\"{model_dir}/output\",\n",
    "    evaluation_strategy=\"epoch\",\n",
    "    num_train_epochs=1,\n",
    "    logging_steps=10,\n",
    "    per_device_train_batch_size=3,\n",
    "    per_device_eval_batch_size=4, # TODO: adjust\n",
    "    gradient_accumulation_steps=10, # effective batch size is per_device_train_batch_size * gradient_accumulation_steps\n",
    ")\n",
    "\n",
    "trainer = Trainer(\n",
    "    model=model,\n",
    "    args=training_args,\n",
    "    train_dataset=train_tokenized,\n",
    "    eval_dataset=small_val_dataset,\n",
    "    compute_metrics=compute_metrics,\n",
    ")"
   ]
  },
  {
   "cell_type": "code",
   "execution_count": 20,
   "id": "c108a9a5",
   "metadata": {},
   "outputs": [
    {
     "name": "stderr",
     "output_type": "stream",
     "text": [
      "The following columns in the test set don't have a corresponding argument in `BartForSequenceClassification.forward` and have been ignored: id, original_label. If id, original_label are not expected by `BartForSequenceClassification.forward`,  you can safely ignore this message.\n",
      "***** Running Prediction *****\n",
      "  Num examples = 10\n",
      "  Batch size = 4\n"
     ]
    },
    {
     "data": {
      "text/html": [],
      "text/plain": [
       "<IPython.core.display.HTML object>"
      ]
     },
     "metadata": {},
     "output_type": "display_data"
    }
   ],
   "source": [
    "predictions = trainer.predict(small_val_dataset)"
   ]
  },
  {
   "cell_type": "code",
   "execution_count": null,
   "id": "3877bd55",
   "metadata": {},
   "outputs": [],
   "source": [
    "import pickle\n",
    "# for dataset, name in zip([train_tokenized, val_tokenized, test_tokenized], [\"train\", \"val\", \"test\"]):\n",
    "for dataset, name in zip([small_val_dataset], [\"zzz\"]):\n",
    "    print(f\"begin {name}\")\n",
    "    predictions = trainer.predict(dataset)\n",
    "    \n",
    "    # open a file, where you ant to store the data\n",
    "    file = open(f'/root/data/bart_fine_tune_pred/{name}.csv', 'wb')\n",
    "\n",
    "    # dump information to that file\n",
    "    pickle.dump(data, file)\n",
    "\n",
    "    # close the file\n",
    "    file.close()\n",
    "    print(f\"end {name}\")"
   ]
  },
  {
   "cell_type": "code",
   "execution_count": 25,
   "id": "06f65eaf",
   "metadata": {},
   "outputs": [
    {
     "data": {
      "text/plain": [
       "PredictionOutput(predictions=(array([[-3.0188463,  3.8209403, -1.3312486],\n",
       "       [-4.6022134,  6.457174 , -2.3633356],\n",
       "       [-1.8877857,  2.5640533, -1.138127 ],\n",
       "       [-2.2623603,  5.341508 , -3.3918443],\n",
       "       [-2.62325  ,  3.0805368, -1.234132 ],\n",
       "       [-1.6223269,  4.2531533, -3.119474 ],\n",
       "       [-3.0899057,  4.8664193, -1.9516855],\n",
       "       [-3.342742 ,  4.076881 , -1.359197 ],\n",
       "       [-2.9088228,  4.1623178, -1.8885658],\n",
       "       [-4.0659566,  5.1598377, -1.5097034]], dtype=float32), array([[[ 5.33955405e-03,  3.81233841e-02,  2.86328364e-02, ...,\n",
       "          1.56229492e-02,  6.21573487e-03, -1.65023957e-03],\n",
       "        [-2.43430808e-01,  5.03124446e-02, -2.65179813e-01, ...,\n",
       "         -5.84626421e-02,  1.53724223e-01, -1.01395264e-01],\n",
       "        [-6.28883252e-03,  2.62500998e-03,  3.67596932e-03, ...,\n",
       "          6.30748691e-03, -3.26891057e-03, -1.12911453e-04],\n",
       "        ...,\n",
       "        [ 5.33954380e-03,  3.81234027e-02,  2.86328327e-02, ...,\n",
       "          1.56229557e-02,  6.21572277e-03, -1.65023922e-03],\n",
       "        [ 5.33955172e-03,  3.81234027e-02,  2.86328327e-02, ...,\n",
       "          1.56229567e-02,  6.21571345e-03, -1.65025168e-03],\n",
       "        [ 5.33954520e-03,  3.81234102e-02,  2.86328513e-02, ...,\n",
       "          1.56229464e-02,  6.21574838e-03, -1.65024726e-03]],\n",
       "\n",
       "       [[ 7.54846353e-03,  3.73467840e-02,  2.40062457e-02, ...,\n",
       "          1.65205915e-02,  5.31749055e-03, -2.13512778e-03],\n",
       "        [-2.48619139e-01,  3.56625654e-02, -2.94546157e-01, ...,\n",
       "         -4.30307575e-02,  2.26964325e-01, -7.48787075e-02],\n",
       "        [-5.49626444e-03,  1.60281383e-03,  2.34599598e-03, ...,\n",
       "          4.85327281e-03, -7.70235201e-04, -1.06453692e-04],\n",
       "        ...,\n",
       "        [ 7.54845887e-03,  3.73467766e-02,  2.40062531e-02, ...,\n",
       "          1.65205691e-02,  5.31750545e-03, -2.13512382e-03],\n",
       "        [ 7.54845096e-03,  3.73467542e-02,  2.40062606e-02, ...,\n",
       "          1.65205821e-02,  5.31751011e-03, -2.13512289e-03],\n",
       "        [ 7.54846027e-03,  3.73467803e-02,  2.40062606e-02, ...,\n",
       "          1.65205877e-02,  5.31751756e-03, -2.13512965e-03]],\n",
       "\n",
       "       [[ 3.63952189e-04,  5.89267313e-02,  4.38662693e-02, ...,\n",
       "          1.32417614e-02,  1.71893947e-02,  1.62538072e-05],\n",
       "        [-1.25072345e-01,  2.06428349e-01, -4.45706695e-01, ...,\n",
       "         -1.57631829e-01,  1.11691914e-01, -1.43880472e-01],\n",
       "        [ 4.12782189e-03, -4.00522398e-03,  2.74657109e-03, ...,\n",
       "          1.45941158e-03, -2.67727207e-03, -3.75162624e-03],\n",
       "        ...,\n",
       "        [ 3.63950996e-04,  5.89267388e-02,  4.38662879e-02, ...,\n",
       "          1.32417493e-02,  1.71893947e-02,  1.62566248e-05],\n",
       "        [ 3.63945786e-04,  5.89267351e-02,  4.38662805e-02, ...,\n",
       "          1.32417595e-02,  1.71894114e-02,  1.62421293e-05],\n",
       "        [ 3.63956206e-04,  5.89267313e-02,  4.38662879e-02, ...,\n",
       "          1.32417493e-02,  1.71894263e-02,  1.62344786e-05]],\n",
       "\n",
       "       ...,\n",
       "\n",
       "       [[ 3.20650777e-03,  4.50301543e-02,  3.06600053e-02, ...,\n",
       "          1.86345242e-02,  7.95905944e-03, -1.03211799e-03],\n",
       "        [-8.11526626e-02,  2.04760909e-01, -3.04651380e-01, ...,\n",
       "         -1.78690523e-01,  9.41232666e-02, -1.44767806e-01],\n",
       "        [-1.93057628e-03, -1.35566061e-03,  8.13595369e-04, ...,\n",
       "          3.28859128e-03, -2.39673280e-03, -6.68728957e-04],\n",
       "        ...,\n",
       "        [ 3.20650940e-03,  4.50301692e-02,  3.06600090e-02, ...,\n",
       "          1.86345316e-02,  7.95908086e-03, -1.03211240e-03],\n",
       "        [ 3.20650707e-03,  4.50301729e-02,  3.06600016e-02, ...,\n",
       "          1.86345167e-02,  7.95906875e-03, -1.03211473e-03],\n",
       "        [ 3.20650870e-03,  4.50301766e-02,  3.06600109e-02, ...,\n",
       "          1.86345298e-02,  7.95906689e-03, -1.03212078e-03]],\n",
       "\n",
       "       [[ 8.75911023e-03,  3.96412499e-02,  2.89599430e-02, ...,\n",
       "          1.77579168e-02,  5.07158181e-03, -4.32883244e-04],\n",
       "        [-2.54040062e-01,  4.75248359e-02, -3.09290081e-01, ...,\n",
       "         -3.72796506e-02,  1.97661161e-01, -1.09361775e-01],\n",
       "        [-5.74598601e-03,  2.44213524e-03,  3.73049965e-03, ...,\n",
       "          5.65878395e-03, -2.00550770e-03, -4.14698268e-04],\n",
       "        ...,\n",
       "        [ 8.75910558e-03,  3.96412611e-02,  2.89599467e-02, ...,\n",
       "          1.77579224e-02,  5.07158507e-03, -4.32881207e-04],\n",
       "        [ 8.75910465e-03,  3.96412499e-02,  2.89599430e-02, ...,\n",
       "          1.77579243e-02,  5.07157901e-03, -4.32877190e-04],\n",
       "        [ 8.75910837e-03,  3.96412499e-02,  2.89599374e-02, ...,\n",
       "          1.77579224e-02,  5.07157296e-03, -4.32883244e-04]],\n",
       "\n",
       "       [[ 3.37897567e-03,  4.32261601e-02,  3.09581980e-02, ...,\n",
       "          1.71966441e-02,  9.35919583e-03, -4.46071354e-04],\n",
       "        [-1.02711126e-01,  2.02522874e-01, -2.65370548e-01, ...,\n",
       "         -1.66652828e-01,  1.10389866e-01, -1.34839550e-01],\n",
       "        [-2.95948470e-03, -2.09525111e-04,  1.98794017e-03, ...,\n",
       "          4.13928134e-03, -2.56520533e-03, -5.62845787e-04],\n",
       "        ...,\n",
       "        [ 3.37899569e-03,  4.32261601e-02,  3.09581980e-02, ...,\n",
       "          1.71966515e-02,  9.35916416e-03, -4.46054444e-04],\n",
       "        [ 3.37898522e-03,  4.32261676e-02,  3.09581868e-02, ...,\n",
       "          1.71966478e-02,  9.35916416e-03, -4.46059275e-04],\n",
       "        [ 3.37898755e-03,  4.32261676e-02,  3.09581924e-02, ...,\n",
       "          1.71966553e-02,  9.35916975e-03, -4.46062506e-04]]],\n",
       "      dtype=float32)), label_ids=array([1, 1, 1, 1, 1, 1, 1, 1, 1, 1]), metrics={'test_loss': 0.0074288262985646725, 'test_accuracy': 1.0, 'test_runtime': 1.4187, 'test_samples_per_second': 7.049, 'test_steps_per_second': 2.115})"
      ]
     },
     "execution_count": 25,
     "metadata": {},
     "output_type": "execute_result"
    }
   ],
   "source": [
    "import pickle\n",
    "\n",
    "# open a file, where you stored the pickled data\n",
    "file = open(f'/root/data/bart_fine_tune_pred/zzz.csv', 'rb')\n",
    "\n",
    "# dump information to that file\n",
    "data = pickle.load(file)\n",
    "\n",
    "# close the file\n",
    "file.close()\n",
    "data"
   ]
  },
  {
   "cell_type": "code",
   "execution_count": null,
   "id": "eb104d4d",
   "metadata": {},
   "outputs": [],
   "source": []
  }
 ],
 "metadata": {
  "kernelspec": {
   "display_name": "Python 3 (ipykernel)",
   "language": "python",
   "name": "python3"
  },
  "language_info": {
   "codemirror_mode": {
    "name": "ipython",
    "version": 3
   },
   "file_extension": ".py",
   "mimetype": "text/x-python",
   "name": "python",
   "nbconvert_exporter": "python",
   "pygments_lexer": "ipython3",
   "version": "3.10.9"
  }
 },
 "nbformat": 4,
 "nbformat_minor": 5
}
