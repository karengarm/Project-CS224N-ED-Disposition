{
 "cells": [
  {
   "cell_type": "markdown",
   "id": "100f53b8",
   "metadata": {},
   "source": [
    "Lbl2vec doesn't work very well.\n",
    "- The model doesn't work when keywords aren't in the vocabulary:\n",
    "WARNING - The following keywords from the 'keywords_list' are unknown to the Doc2Vec model and therefore not used to train the model: stroke\n",
    "- The keywords can't be phrases like \"Intraparenchymal hemorrhage\""
   ]
  },
  {
   "cell_type": "code",
   "execution_count": null,
   "id": "bac936db",
   "metadata": {},
   "outputs": [],
   "source": [
    "from gensim.models import doc2vec\n",
    "from lbl2vec import Lbl2Vec\n",
    "import pandas as pd\n",
    "# from tqdm import tqdm\n",
    "from tqdm.auto import tqdm\n",
    "\n",
    "tqdm.pandas()"
   ]
  },
  {
   "cell_type": "code",
   "execution_count": null,
   "id": "f3e939a7",
   "metadata": {},
   "outputs": [],
   "source": [
    "keywords = [\n",
    "\t[\"Pneumonia\"],\n",
    "\t[\"Pneumothorax\"],\n",
    "\t[\"Pleural Effusion\"],\n",
    "\t[\"Pulmonary edema\"],\n",
    "\t[\"Rib fracture\"],\n",
    "\t[\"Infection\"],\n",
    "\t[\"Aspiration\"],\n",
    "\t[\"Cardiomegaly\"],\n",
    "\t[\"Opacities\"],\n",
    "\t[\"Atelectasis\"],\n",
    "\t[\"Intracranial hemorrhage\"],\n",
    "\t[\"Subarachnoid hemorrhage\"],\n",
    "\t[\"Subdural hemorrhage\"],\n",
    "\t[\"Epidural hemorrhage\"],\n",
    "\t[\"Intraparenchymal hemorrhage\"],\n",
    "\t[\"Intraventricular hemorrhage\"],\n",
    "\t[\"Skull fracture\"],\n",
    "\t[\"Stroke\"],\n",
    "\t[\"Cerebral edema\"],\n",
    "\t[\"Diffuse axonal injury\"],\n",
    "\t[\"Appendicitis \"],\n",
    "\t[\"Cholecystitis\"],\n",
    "\t[\"Abdominal Aortic Aneurysm\"],\n",
    "\t[\"Small bowel obstruction\"],\n",
    "\t[\"Pancreatitis\"],\n",
    "\t[\"Splenic laceration\"],\n",
    "\t[\"Liver laceration\"],\n",
    "\t[\"Colitis\"],\n",
    "\t[\"Pyelonephritis\"],\n",
    "\t[\"Nephrolithiasis\"],\n",
    "\t[\"Malignancy\"],\n",
    "\t[\"Pneumonia\"],\n",
    "\t[\"Pneumothorax\"],\n",
    "\t[\"Pleural Effusion\"],\n",
    "\t[\"Pulmonary edema\"],\n",
    "\t[\"Rib fracture\"],\n",
    "\t[\"Pericaridial effusion\"],\n",
    "\t[\"Aortic dissection\"],\n",
    "\t[\"Malignancy\"],\n",
    "]\n",
    "\n",
    "keywords_small = [[\"infection\"], [\"edema\"]]\n",
    "keywords_small"
   ]
  },
  {
   "cell_type": "code",
   "execution_count": null,
   "id": "1b9a90fb",
   "metadata": {},
   "outputs": [],
   "source": [
    "df = pd.read_csv('~/rads_dispo_lim_2023_02_23.csv')\n",
    "df = df.reset_index()\n",
    "df.head()"
   ]
  },
  {
   "cell_type": "code",
   "execution_count": null,
   "id": "d3de8257",
   "metadata": {},
   "outputs": [],
   "source": [
    "df_small = df[:1000]"
   ]
  },
  {
   "cell_type": "code",
   "execution_count": null,
   "id": "696c8946",
   "metadata": {},
   "outputs": [],
   "source": [
    "def str_to_document(index, input_str):\n",
    "\t\"\"\"\n",
    "\tconvert string into TaggedDocument\n",
    "\t\"\"\"\n",
    "\treturn doc2vec.TaggedDocument(input_str.split(), tags=[str(index)])\n",
    "\n",
    "\n",
    "df_small[\"doc\"] = df_small.progress_apply(lambda x: str_to_document(x['index'], x['Impression']), axis=1)\n",
    "df_small.head()"
   ]
  },
  {
   "cell_type": "code",
   "execution_count": null,
   "id": "8f24e7d2",
   "metadata": {},
   "outputs": [],
   "source": [
    "# d2v_model = doc2vec.Doc2Vec(documents=df_small[\"doc\"], vector_size=10, window=2, min_count=2, workers=4, dbow_words=1, dm=0)\n",
    "# d2v_model.build_vocab(df_small[\"doc\"])\n",
    "# print(f\"Word appeared {d2v_model.wv.get_vecattr('interval', 'count')} times in the training corpus.\")\n",
    "# d2v_model.train(df_small[\"doc\"], total_examples=d2v_model.corpus_count, epochs=d2v_model.epochs)\n",
    "# vector = d2v_model.infer_vector(['only', 'you', 'can', 'prevent', 'forest', 'fires'])\n",
    "# vector"
   ]
  },
  {
   "cell_type": "code",
   "execution_count": null,
   "id": "9ad2f0ed",
   "metadata": {},
   "outputs": [],
   "source": [
    "d2v_model.dv.most_similar(positive=[vector])"
   ]
  },
  {
   "cell_type": "code",
   "execution_count": null,
   "id": "10db8dfe",
   "metadata": {},
   "outputs": [],
   "source": [
    "\"rib\" in d2v_model.wv.index_to_key"
   ]
  },
  {
   "cell_type": "code",
   "execution_count": null,
   "id": "d1970080",
   "metadata": {},
   "outputs": [],
   "source": [
    "d2v_model = doc2vec.Doc2Vec(documents=df_small[\"doc\"], vector_size=10, window=2, min_count=2, workers=4, dbow_words=1, dm=0)"
   ]
  },
  {
   "cell_type": "code",
   "execution_count": null,
   "id": "e8326d99",
   "metadata": {},
   "outputs": [],
   "source": [
    "\"pneumonia\" in d2v_model.wv.index_to_key"
   ]
  },
  {
   "cell_type": "code",
   "execution_count": null,
   "id": "41004fe7",
   "metadata": {},
   "outputs": [],
   "source": [
    "l2v_model = Lbl2Vec(keywords_list=[[\"pneumonia\"], [\"edema\"]], doc2vec_model=d2v_model)\n",
    "l2v_model.fit()\n",
    "l2v_model.predict_model_docs()"
   ]
  },
  {
   "cell_type": "code",
   "execution_count": null,
   "id": "e3e048a2",
   "metadata": {},
   "outputs": [],
   "source": [
    "l2v_model = Lbl2Vec(\n",
    "\tkeywords_list=keywords_small,\n",
    "\ttagged_documents=df_small[\"doc\"],\n",
    "\tmin_count=2,\n",
    "    \n",
    ")\n",
    "\n",
    "l2v_model.fit()\n",
    "l2v_model.predict_model_docs()"
   ]
  },
  {
   "cell_type": "code",
   "execution_count": null,
   "id": "a45a18ba",
   "metadata": {},
   "outputs": [],
   "source": []
  }
 ],
 "metadata": {
  "kernelspec": {
   "display_name": "Python 3 (ipykernel)",
   "language": "python",
   "name": "python3"
  },
  "language_info": {
   "codemirror_mode": {
    "name": "ipython",
    "version": 3
   },
   "file_extension": ".py",
   "mimetype": "text/x-python",
   "name": "python",
   "nbconvert_exporter": "python",
   "pygments_lexer": "ipython3",
   "version": "3.10.9"
  }
 },
 "nbformat": 4,
 "nbformat_minor": 5
}
