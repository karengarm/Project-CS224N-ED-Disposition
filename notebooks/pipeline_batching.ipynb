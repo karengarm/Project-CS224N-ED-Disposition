{
 "cells": [
  {
   "cell_type": "code",
   "execution_count": 1,
   "id": "d9fa5674",
   "metadata": {},
   "outputs": [
    {
     "name": "stderr",
     "output_type": "stream",
     "text": [
      "2023-03-06 07:03:06.573672: I tensorflow/core/platform/cpu_feature_guard.cc:193] This TensorFlow binary is optimized with oneAPI Deep Neural Network Library (oneDNN) to use the following CPU instructions in performance-critical operations:  AVX2 AVX512F AVX512_VNNI FMA\n",
      "To enable them in other operations, rebuild TensorFlow with the appropriate compiler flags.\n",
      "2023-03-06 07:03:06.690674: I tensorflow/core/util/port.cc:104] oneDNN custom operations are on. You may see slightly different numerical results due to floating-point round-off errors from different computation orders. To turn them off, set the environment variable `TF_ENABLE_ONEDNN_OPTS=0`.\n",
      "2023-03-06 07:03:07.264293: W tensorflow/compiler/xla/stream_executor/platform/default/dso_loader.cc:64] Could not load dynamic library 'libnvinfer.so.7'; dlerror: libnvinfer.so.7: cannot open shared object file: No such file or directory; LD_LIBRARY_PATH: /opt/amazon/efa/lib64:/opt/amazon/openmpi/lib64:/usr/local/cuda/efa/lib:/usr/local/cuda/lib:/usr/local/cuda:/usr/local/cuda/lib64:/usr/local/cuda/extras/CUPTI/lib64:/usr/local/cuda/targets/x86_64-linux/lib:/usr/local/lib:/usr/lib:/lib:/opt/amazon/efa/lib64:/opt/amazon/openmpi/lib64:/usr/local/cuda/efa/lib:/usr/local/cuda/lib:/usr/local/cuda:/usr/local/cuda/lib64:/usr/local/cuda/extras/CUPTI/lib64:/usr/local/cuda/targets/x86_64-linux/lib:/usr/local/lib:/usr/lib:/lib:\n",
      "2023-03-06 07:03:07.264399: W tensorflow/compiler/xla/stream_executor/platform/default/dso_loader.cc:64] Could not load dynamic library 'libnvinfer_plugin.so.7'; dlerror: libnvinfer_plugin.so.7: cannot open shared object file: No such file or directory; LD_LIBRARY_PATH: /opt/amazon/efa/lib64:/opt/amazon/openmpi/lib64:/usr/local/cuda/efa/lib:/usr/local/cuda/lib:/usr/local/cuda:/usr/local/cuda/lib64:/usr/local/cuda/extras/CUPTI/lib64:/usr/local/cuda/targets/x86_64-linux/lib:/usr/local/lib:/usr/lib:/lib:/opt/amazon/efa/lib64:/opt/amazon/openmpi/lib64:/usr/local/cuda/efa/lib:/usr/local/cuda/lib:/usr/local/cuda:/usr/local/cuda/lib64:/usr/local/cuda/extras/CUPTI/lib64:/usr/local/cuda/targets/x86_64-linux/lib:/usr/local/lib:/usr/lib:/lib:\n",
      "2023-03-06 07:03:07.264407: W tensorflow/compiler/tf2tensorrt/utils/py_utils.cc:38] TF-TRT Warning: Cannot dlopen some TensorRT libraries. If you would like to use Nvidia GPU with TensorRT, please make sure the missing libraries mentioned above are installed properly.\n",
      "No model was supplied, defaulted to distilbert-base-uncased-finetuned-sst-2-english and revision af0f99b (https://huggingface.co/distilbert-base-uncased-finetuned-sst-2-english).\n",
      "Using a pipeline without specifying a model name and revision in production is not recommended.\n"
     ]
    },
    {
     "name": "stdout",
     "output_type": "stream",
     "text": [
      "------------------------------\n",
      "Streaming batch_size=1\n"
     ]
    },
    {
     "data": {
      "application/vnd.jupyter.widget-view+json": {
       "model_id": "1a73839b1c7144d49b99c8dd2917e5f6",
       "version_major": 2,
       "version_minor": 0
      },
      "text/plain": [
       "  0%|          | 0/20 [00:00<?, ?it/s]"
      ]
     },
     "metadata": {},
     "output_type": "display_data"
    },
    {
     "name": "stdout",
     "output_type": "stream",
     "text": [
      "[{'label': 'NEGATIVE', 'score': 0.9670120477676392}]\n",
      "[{'label': 'NEGATIVE', 'score': 0.9670120477676392}, {'label': 'NEGATIVE', 'score': 0.9670120477676392}]\n",
      "[{'label': 'NEGATIVE', 'score': 0.9670120477676392}, {'label': 'NEGATIVE', 'score': 0.9670120477676392}, {'label': 'NEGATIVE', 'score': 0.9670120477676392}]\n",
      "[{'label': 'NEGATIVE', 'score': 0.9670120477676392}, {'label': 'NEGATIVE', 'score': 0.9670120477676392}, {'label': 'NEGATIVE', 'score': 0.9670120477676392}, {'label': 'NEGATIVE', 'score': 0.9670120477676392}]\n",
      "[{'label': 'NEGATIVE', 'score': 0.9670120477676392}, {'label': 'NEGATIVE', 'score': 0.9670120477676392}, {'label': 'NEGATIVE', 'score': 0.9670120477676392}, {'label': 'NEGATIVE', 'score': 0.9670120477676392}, {'label': 'NEGATIVE', 'score': 0.9670120477676392}]\n",
      "[{'label': 'NEGATIVE', 'score': 0.9670120477676392}, {'label': 'NEGATIVE', 'score': 0.9670120477676392}, {'label': 'NEGATIVE', 'score': 0.9670120477676392}, {'label': 'NEGATIVE', 'score': 0.9670120477676392}, {'label': 'NEGATIVE', 'score': 0.9670120477676392}, {'label': 'NEGATIVE', 'score': 0.9670120477676392}]\n",
      "[{'label': 'NEGATIVE', 'score': 0.9670120477676392}, {'label': 'NEGATIVE', 'score': 0.9670120477676392}, {'label': 'NEGATIVE', 'score': 0.9670120477676392}, {'label': 'NEGATIVE', 'score': 0.9670120477676392}, {'label': 'NEGATIVE', 'score': 0.9670120477676392}, {'label': 'NEGATIVE', 'score': 0.9670120477676392}, {'label': 'NEGATIVE', 'score': 0.9670120477676392}]\n",
      "[{'label': 'NEGATIVE', 'score': 0.9670120477676392}, {'label': 'NEGATIVE', 'score': 0.9670120477676392}, {'label': 'NEGATIVE', 'score': 0.9670120477676392}, {'label': 'NEGATIVE', 'score': 0.9670120477676392}, {'label': 'NEGATIVE', 'score': 0.9670120477676392}, {'label': 'NEGATIVE', 'score': 0.9670120477676392}, {'label': 'NEGATIVE', 'score': 0.9670120477676392}, {'label': 'NEGATIVE', 'score': 0.9670120477676392}]\n",
      "[{'label': 'NEGATIVE', 'score': 0.9670120477676392}, {'label': 'NEGATIVE', 'score': 0.9670120477676392}, {'label': 'NEGATIVE', 'score': 0.9670120477676392}, {'label': 'NEGATIVE', 'score': 0.9670120477676392}, {'label': 'NEGATIVE', 'score': 0.9670120477676392}, {'label': 'NEGATIVE', 'score': 0.9670120477676392}, {'label': 'NEGATIVE', 'score': 0.9670120477676392}, {'label': 'NEGATIVE', 'score': 0.9670120477676392}, {'label': 'NEGATIVE', 'score': 0.9670120477676392}]\n",
      "[{'label': 'NEGATIVE', 'score': 0.9670120477676392}, {'label': 'NEGATIVE', 'score': 0.9670120477676392}, {'label': 'NEGATIVE', 'score': 0.9670120477676392}, {'label': 'NEGATIVE', 'score': 0.9670120477676392}, {'label': 'NEGATIVE', 'score': 0.9670120477676392}, {'label': 'NEGATIVE', 'score': 0.9670120477676392}, {'label': 'NEGATIVE', 'score': 0.9670120477676392}, {'label': 'NEGATIVE', 'score': 0.9670120477676392}, {'label': 'NEGATIVE', 'score': 0.9670120477676392}, {'label': 'NEGATIVE', 'score': 0.9670120477676392}]\n",
      "[{'label': 'NEGATIVE', 'score': 0.9670120477676392}, {'label': 'NEGATIVE', 'score': 0.9670120477676392}, {'label': 'NEGATIVE', 'score': 0.9670120477676392}, {'label': 'NEGATIVE', 'score': 0.9670120477676392}, {'label': 'NEGATIVE', 'score': 0.9670120477676392}, {'label': 'NEGATIVE', 'score': 0.9670120477676392}, {'label': 'NEGATIVE', 'score': 0.9670120477676392}, {'label': 'NEGATIVE', 'score': 0.9670120477676392}, {'label': 'NEGATIVE', 'score': 0.9670120477676392}, {'label': 'NEGATIVE', 'score': 0.9670120477676392}, {'label': 'NEGATIVE', 'score': 0.9670120477676392}]\n",
      "[{'label': 'NEGATIVE', 'score': 0.9670120477676392}, {'label': 'NEGATIVE', 'score': 0.9670120477676392}, {'label': 'NEGATIVE', 'score': 0.9670120477676392}, {'label': 'NEGATIVE', 'score': 0.9670120477676392}, {'label': 'NEGATIVE', 'score': 0.9670120477676392}, {'label': 'NEGATIVE', 'score': 0.9670120477676392}, {'label': 'NEGATIVE', 'score': 0.9670120477676392}, {'label': 'NEGATIVE', 'score': 0.9670120477676392}, {'label': 'NEGATIVE', 'score': 0.9670120477676392}, {'label': 'NEGATIVE', 'score': 0.9670120477676392}, {'label': 'NEGATIVE', 'score': 0.9670120477676392}, {'label': 'NEGATIVE', 'score': 0.9670120477676392}]\n",
      "[{'label': 'NEGATIVE', 'score': 0.9670120477676392}, {'label': 'NEGATIVE', 'score': 0.9670120477676392}, {'label': 'NEGATIVE', 'score': 0.9670120477676392}, {'label': 'NEGATIVE', 'score': 0.9670120477676392}, {'label': 'NEGATIVE', 'score': 0.9670120477676392}, {'label': 'NEGATIVE', 'score': 0.9670120477676392}, {'label': 'NEGATIVE', 'score': 0.9670120477676392}, {'label': 'NEGATIVE', 'score': 0.9670120477676392}, {'label': 'NEGATIVE', 'score': 0.9670120477676392}, {'label': 'NEGATIVE', 'score': 0.9670120477676392}, {'label': 'NEGATIVE', 'score': 0.9670120477676392}, {'label': 'NEGATIVE', 'score': 0.9670120477676392}, {'label': 'NEGATIVE', 'score': 0.9670120477676392}]\n",
      "[{'label': 'NEGATIVE', 'score': 0.9670120477676392}, {'label': 'NEGATIVE', 'score': 0.9670120477676392}, {'label': 'NEGATIVE', 'score': 0.9670120477676392}, {'label': 'NEGATIVE', 'score': 0.9670120477676392}, {'label': 'NEGATIVE', 'score': 0.9670120477676392}, {'label': 'NEGATIVE', 'score': 0.9670120477676392}, {'label': 'NEGATIVE', 'score': 0.9670120477676392}, {'label': 'NEGATIVE', 'score': 0.9670120477676392}, {'label': 'NEGATIVE', 'score': 0.9670120477676392}, {'label': 'NEGATIVE', 'score': 0.9670120477676392}, {'label': 'NEGATIVE', 'score': 0.9670120477676392}, {'label': 'NEGATIVE', 'score': 0.9670120477676392}, {'label': 'NEGATIVE', 'score': 0.9670120477676392}, {'label': 'NEGATIVE', 'score': 0.9670120477676392}]\n",
      "[{'label': 'NEGATIVE', 'score': 0.9670120477676392}, {'label': 'NEGATIVE', 'score': 0.9670120477676392}, {'label': 'NEGATIVE', 'score': 0.9670120477676392}, {'label': 'NEGATIVE', 'score': 0.9670120477676392}, {'label': 'NEGATIVE', 'score': 0.9670120477676392}, {'label': 'NEGATIVE', 'score': 0.9670120477676392}, {'label': 'NEGATIVE', 'score': 0.9670120477676392}, {'label': 'NEGATIVE', 'score': 0.9670120477676392}, {'label': 'NEGATIVE', 'score': 0.9670120477676392}, {'label': 'NEGATIVE', 'score': 0.9670120477676392}, {'label': 'NEGATIVE', 'score': 0.9670120477676392}, {'label': 'NEGATIVE', 'score': 0.9670120477676392}, {'label': 'NEGATIVE', 'score': 0.9670120477676392}, {'label': 'NEGATIVE', 'score': 0.9670120477676392}, {'label': 'NEGATIVE', 'score': 0.9670120477676392}]\n",
      "[{'label': 'NEGATIVE', 'score': 0.9670120477676392}, {'label': 'NEGATIVE', 'score': 0.9670120477676392}, {'label': 'NEGATIVE', 'score': 0.9670120477676392}, {'label': 'NEGATIVE', 'score': 0.9670120477676392}, {'label': 'NEGATIVE', 'score': 0.9670120477676392}, {'label': 'NEGATIVE', 'score': 0.9670120477676392}, {'label': 'NEGATIVE', 'score': 0.9670120477676392}, {'label': 'NEGATIVE', 'score': 0.9670120477676392}, {'label': 'NEGATIVE', 'score': 0.9670120477676392}, {'label': 'NEGATIVE', 'score': 0.9670120477676392}, {'label': 'NEGATIVE', 'score': 0.9670120477676392}, {'label': 'NEGATIVE', 'score': 0.9670120477676392}, {'label': 'NEGATIVE', 'score': 0.9670120477676392}, {'label': 'NEGATIVE', 'score': 0.9670120477676392}, {'label': 'NEGATIVE', 'score': 0.9670120477676392}, {'label': 'NEGATIVE', 'score': 0.9670120477676392}]\n",
      "[{'label': 'NEGATIVE', 'score': 0.9670120477676392}, {'label': 'NEGATIVE', 'score': 0.9670120477676392}, {'label': 'NEGATIVE', 'score': 0.9670120477676392}, {'label': 'NEGATIVE', 'score': 0.9670120477676392}, {'label': 'NEGATIVE', 'score': 0.9670120477676392}, {'label': 'NEGATIVE', 'score': 0.9670120477676392}, {'label': 'NEGATIVE', 'score': 0.9670120477676392}, {'label': 'NEGATIVE', 'score': 0.9670120477676392}, {'label': 'NEGATIVE', 'score': 0.9670120477676392}, {'label': 'NEGATIVE', 'score': 0.9670120477676392}, {'label': 'NEGATIVE', 'score': 0.9670120477676392}, {'label': 'NEGATIVE', 'score': 0.9670120477676392}, {'label': 'NEGATIVE', 'score': 0.9670120477676392}, {'label': 'NEGATIVE', 'score': 0.9670120477676392}, {'label': 'NEGATIVE', 'score': 0.9670120477676392}, {'label': 'NEGATIVE', 'score': 0.9670120477676392}, {'label': 'NEGATIVE', 'score': 0.9670120477676392}]\n",
      "[{'label': 'NEGATIVE', 'score': 0.9670120477676392}, {'label': 'NEGATIVE', 'score': 0.9670120477676392}, {'label': 'NEGATIVE', 'score': 0.9670120477676392}, {'label': 'NEGATIVE', 'score': 0.9670120477676392}, {'label': 'NEGATIVE', 'score': 0.9670120477676392}, {'label': 'NEGATIVE', 'score': 0.9670120477676392}, {'label': 'NEGATIVE', 'score': 0.9670120477676392}, {'label': 'NEGATIVE', 'score': 0.9670120477676392}, {'label': 'NEGATIVE', 'score': 0.9670120477676392}, {'label': 'NEGATIVE', 'score': 0.9670120477676392}, {'label': 'NEGATIVE', 'score': 0.9670120477676392}, {'label': 'NEGATIVE', 'score': 0.9670120477676392}, {'label': 'NEGATIVE', 'score': 0.9670120477676392}, {'label': 'NEGATIVE', 'score': 0.9670120477676392}, {'label': 'NEGATIVE', 'score': 0.9670120477676392}, {'label': 'NEGATIVE', 'score': 0.9670120477676392}, {'label': 'NEGATIVE', 'score': 0.9670120477676392}, {'label': 'NEGATIVE', 'score': 0.9670120477676392}]\n",
      "[{'label': 'NEGATIVE', 'score': 0.9670120477676392}, {'label': 'NEGATIVE', 'score': 0.9670120477676392}, {'label': 'NEGATIVE', 'score': 0.9670120477676392}, {'label': 'NEGATIVE', 'score': 0.9670120477676392}, {'label': 'NEGATIVE', 'score': 0.9670120477676392}, {'label': 'NEGATIVE', 'score': 0.9670120477676392}, {'label': 'NEGATIVE', 'score': 0.9670120477676392}, {'label': 'NEGATIVE', 'score': 0.9670120477676392}, {'label': 'NEGATIVE', 'score': 0.9670120477676392}, {'label': 'NEGATIVE', 'score': 0.9670120477676392}, {'label': 'NEGATIVE', 'score': 0.9670120477676392}, {'label': 'NEGATIVE', 'score': 0.9670120477676392}, {'label': 'NEGATIVE', 'score': 0.9670120477676392}, {'label': 'NEGATIVE', 'score': 0.9670120477676392}, {'label': 'NEGATIVE', 'score': 0.9670120477676392}, {'label': 'NEGATIVE', 'score': 0.9670120477676392}, {'label': 'NEGATIVE', 'score': 0.9670120477676392}, {'label': 'NEGATIVE', 'score': 0.9670120477676392}, {'label': 'NEGATIVE', 'score': 0.9670120477676392}]\n",
      "[{'label': 'NEGATIVE', 'score': 0.9670120477676392}, {'label': 'NEGATIVE', 'score': 0.9670120477676392}, {'label': 'NEGATIVE', 'score': 0.9670120477676392}, {'label': 'NEGATIVE', 'score': 0.9670120477676392}, {'label': 'NEGATIVE', 'score': 0.9670120477676392}, {'label': 'NEGATIVE', 'score': 0.9670120477676392}, {'label': 'NEGATIVE', 'score': 0.9670120477676392}, {'label': 'NEGATIVE', 'score': 0.9670120477676392}, {'label': 'NEGATIVE', 'score': 0.9670120477676392}, {'label': 'NEGATIVE', 'score': 0.9670120477676392}, {'label': 'NEGATIVE', 'score': 0.9670120477676392}, {'label': 'NEGATIVE', 'score': 0.9670120477676392}, {'label': 'NEGATIVE', 'score': 0.9670120477676392}, {'label': 'NEGATIVE', 'score': 0.9670120477676392}, {'label': 'NEGATIVE', 'score': 0.9670120477676392}, {'label': 'NEGATIVE', 'score': 0.9670120477676392}, {'label': 'NEGATIVE', 'score': 0.9670120477676392}, {'label': 'NEGATIVE', 'score': 0.9670120477676392}, {'label': 'NEGATIVE', 'score': 0.9670120477676392}, {'label': 'NEGATIVE', 'score': 0.9670120477676392}]\n",
      "------------------------------\n",
      "Streaming batch_size=10\n"
     ]
    },
    {
     "data": {
      "application/vnd.jupyter.widget-view+json": {
       "model_id": "9f6f2064d7d8439b91ae88fe9391ba19",
       "version_major": 2,
       "version_minor": 0
      },
      "text/plain": [
       "  0%|          | 0/20 [00:00<?, ?it/s]"
      ]
     },
     "metadata": {},
     "output_type": "display_data"
    },
    {
     "name": "stdout",
     "output_type": "stream",
     "text": [
      "[{'label': 'NEGATIVE', 'score': 0.9670120477676392}]\n",
      "[{'label': 'NEGATIVE', 'score': 0.9670120477676392}, {'label': 'NEGATIVE', 'score': 0.9670120477676392}]\n",
      "[{'label': 'NEGATIVE', 'score': 0.9670120477676392}, {'label': 'NEGATIVE', 'score': 0.9670120477676392}, {'label': 'NEGATIVE', 'score': 0.9670120477676392}]\n",
      "[{'label': 'NEGATIVE', 'score': 0.9670120477676392}, {'label': 'NEGATIVE', 'score': 0.9670120477676392}, {'label': 'NEGATIVE', 'score': 0.9670120477676392}, {'label': 'NEGATIVE', 'score': 0.9670120477676392}]\n",
      "[{'label': 'NEGATIVE', 'score': 0.9670120477676392}, {'label': 'NEGATIVE', 'score': 0.9670120477676392}, {'label': 'NEGATIVE', 'score': 0.9670120477676392}, {'label': 'NEGATIVE', 'score': 0.9670120477676392}, {'label': 'NEGATIVE', 'score': 0.9670120477676392}]\n",
      "[{'label': 'NEGATIVE', 'score': 0.9670120477676392}, {'label': 'NEGATIVE', 'score': 0.9670120477676392}, {'label': 'NEGATIVE', 'score': 0.9670120477676392}, {'label': 'NEGATIVE', 'score': 0.9670120477676392}, {'label': 'NEGATIVE', 'score': 0.9670120477676392}, {'label': 'NEGATIVE', 'score': 0.9670120477676392}]\n",
      "[{'label': 'NEGATIVE', 'score': 0.9670120477676392}, {'label': 'NEGATIVE', 'score': 0.9670120477676392}, {'label': 'NEGATIVE', 'score': 0.9670120477676392}, {'label': 'NEGATIVE', 'score': 0.9670120477676392}, {'label': 'NEGATIVE', 'score': 0.9670120477676392}, {'label': 'NEGATIVE', 'score': 0.9670120477676392}, {'label': 'NEGATIVE', 'score': 0.9670120477676392}]\n",
      "[{'label': 'NEGATIVE', 'score': 0.9670120477676392}, {'label': 'NEGATIVE', 'score': 0.9670120477676392}, {'label': 'NEGATIVE', 'score': 0.9670120477676392}, {'label': 'NEGATIVE', 'score': 0.9670120477676392}, {'label': 'NEGATIVE', 'score': 0.9670120477676392}, {'label': 'NEGATIVE', 'score': 0.9670120477676392}, {'label': 'NEGATIVE', 'score': 0.9670120477676392}, {'label': 'NEGATIVE', 'score': 0.9670120477676392}]\n",
      "[{'label': 'NEGATIVE', 'score': 0.9670120477676392}, {'label': 'NEGATIVE', 'score': 0.9670120477676392}, {'label': 'NEGATIVE', 'score': 0.9670120477676392}, {'label': 'NEGATIVE', 'score': 0.9670120477676392}, {'label': 'NEGATIVE', 'score': 0.9670120477676392}, {'label': 'NEGATIVE', 'score': 0.9670120477676392}, {'label': 'NEGATIVE', 'score': 0.9670120477676392}, {'label': 'NEGATIVE', 'score': 0.9670120477676392}, {'label': 'NEGATIVE', 'score': 0.9670120477676392}]\n",
      "[{'label': 'NEGATIVE', 'score': 0.9670120477676392}, {'label': 'NEGATIVE', 'score': 0.9670120477676392}, {'label': 'NEGATIVE', 'score': 0.9670120477676392}, {'label': 'NEGATIVE', 'score': 0.9670120477676392}, {'label': 'NEGATIVE', 'score': 0.9670120477676392}, {'label': 'NEGATIVE', 'score': 0.9670120477676392}, {'label': 'NEGATIVE', 'score': 0.9670120477676392}, {'label': 'NEGATIVE', 'score': 0.9670120477676392}, {'label': 'NEGATIVE', 'score': 0.9670120477676392}, {'label': 'NEGATIVE', 'score': 0.9670120477676392}]\n",
      "[{'label': 'NEGATIVE', 'score': 0.9670120477676392}, {'label': 'NEGATIVE', 'score': 0.9670120477676392}, {'label': 'NEGATIVE', 'score': 0.9670120477676392}, {'label': 'NEGATIVE', 'score': 0.9670120477676392}, {'label': 'NEGATIVE', 'score': 0.9670120477676392}, {'label': 'NEGATIVE', 'score': 0.9670120477676392}, {'label': 'NEGATIVE', 'score': 0.9670120477676392}, {'label': 'NEGATIVE', 'score': 0.9670120477676392}, {'label': 'NEGATIVE', 'score': 0.9670120477676392}, {'label': 'NEGATIVE', 'score': 0.9670120477676392}, {'label': 'NEGATIVE', 'score': 0.9670120477676392}]\n",
      "[{'label': 'NEGATIVE', 'score': 0.9670120477676392}, {'label': 'NEGATIVE', 'score': 0.9670120477676392}, {'label': 'NEGATIVE', 'score': 0.9670120477676392}, {'label': 'NEGATIVE', 'score': 0.9670120477676392}, {'label': 'NEGATIVE', 'score': 0.9670120477676392}, {'label': 'NEGATIVE', 'score': 0.9670120477676392}, {'label': 'NEGATIVE', 'score': 0.9670120477676392}, {'label': 'NEGATIVE', 'score': 0.9670120477676392}, {'label': 'NEGATIVE', 'score': 0.9670120477676392}, {'label': 'NEGATIVE', 'score': 0.9670120477676392}, {'label': 'NEGATIVE', 'score': 0.9670120477676392}, {'label': 'NEGATIVE', 'score': 0.9670120477676392}]\n",
      "[{'label': 'NEGATIVE', 'score': 0.9670120477676392}, {'label': 'NEGATIVE', 'score': 0.9670120477676392}, {'label': 'NEGATIVE', 'score': 0.9670120477676392}, {'label': 'NEGATIVE', 'score': 0.9670120477676392}, {'label': 'NEGATIVE', 'score': 0.9670120477676392}, {'label': 'NEGATIVE', 'score': 0.9670120477676392}, {'label': 'NEGATIVE', 'score': 0.9670120477676392}, {'label': 'NEGATIVE', 'score': 0.9670120477676392}, {'label': 'NEGATIVE', 'score': 0.9670120477676392}, {'label': 'NEGATIVE', 'score': 0.9670120477676392}, {'label': 'NEGATIVE', 'score': 0.9670120477676392}, {'label': 'NEGATIVE', 'score': 0.9670120477676392}, {'label': 'NEGATIVE', 'score': 0.9670120477676392}]\n",
      "[{'label': 'NEGATIVE', 'score': 0.9670120477676392}, {'label': 'NEGATIVE', 'score': 0.9670120477676392}, {'label': 'NEGATIVE', 'score': 0.9670120477676392}, {'label': 'NEGATIVE', 'score': 0.9670120477676392}, {'label': 'NEGATIVE', 'score': 0.9670120477676392}, {'label': 'NEGATIVE', 'score': 0.9670120477676392}, {'label': 'NEGATIVE', 'score': 0.9670120477676392}, {'label': 'NEGATIVE', 'score': 0.9670120477676392}, {'label': 'NEGATIVE', 'score': 0.9670120477676392}, {'label': 'NEGATIVE', 'score': 0.9670120477676392}, {'label': 'NEGATIVE', 'score': 0.9670120477676392}, {'label': 'NEGATIVE', 'score': 0.9670120477676392}, {'label': 'NEGATIVE', 'score': 0.9670120477676392}, {'label': 'NEGATIVE', 'score': 0.9670120477676392}]\n",
      "[{'label': 'NEGATIVE', 'score': 0.9670120477676392}, {'label': 'NEGATIVE', 'score': 0.9670120477676392}, {'label': 'NEGATIVE', 'score': 0.9670120477676392}, {'label': 'NEGATIVE', 'score': 0.9670120477676392}, {'label': 'NEGATIVE', 'score': 0.9670120477676392}, {'label': 'NEGATIVE', 'score': 0.9670120477676392}, {'label': 'NEGATIVE', 'score': 0.9670120477676392}, {'label': 'NEGATIVE', 'score': 0.9670120477676392}, {'label': 'NEGATIVE', 'score': 0.9670120477676392}, {'label': 'NEGATIVE', 'score': 0.9670120477676392}, {'label': 'NEGATIVE', 'score': 0.9670120477676392}, {'label': 'NEGATIVE', 'score': 0.9670120477676392}, {'label': 'NEGATIVE', 'score': 0.9670120477676392}, {'label': 'NEGATIVE', 'score': 0.9670120477676392}, {'label': 'NEGATIVE', 'score': 0.9670120477676392}]\n",
      "[{'label': 'NEGATIVE', 'score': 0.9670120477676392}, {'label': 'NEGATIVE', 'score': 0.9670120477676392}, {'label': 'NEGATIVE', 'score': 0.9670120477676392}, {'label': 'NEGATIVE', 'score': 0.9670120477676392}, {'label': 'NEGATIVE', 'score': 0.9670120477676392}, {'label': 'NEGATIVE', 'score': 0.9670120477676392}, {'label': 'NEGATIVE', 'score': 0.9670120477676392}, {'label': 'NEGATIVE', 'score': 0.9670120477676392}, {'label': 'NEGATIVE', 'score': 0.9670120477676392}, {'label': 'NEGATIVE', 'score': 0.9670120477676392}, {'label': 'NEGATIVE', 'score': 0.9670120477676392}, {'label': 'NEGATIVE', 'score': 0.9670120477676392}, {'label': 'NEGATIVE', 'score': 0.9670120477676392}, {'label': 'NEGATIVE', 'score': 0.9670120477676392}, {'label': 'NEGATIVE', 'score': 0.9670120477676392}, {'label': 'NEGATIVE', 'score': 0.9670120477676392}]\n",
      "[{'label': 'NEGATIVE', 'score': 0.9670120477676392}, {'label': 'NEGATIVE', 'score': 0.9670120477676392}, {'label': 'NEGATIVE', 'score': 0.9670120477676392}, {'label': 'NEGATIVE', 'score': 0.9670120477676392}, {'label': 'NEGATIVE', 'score': 0.9670120477676392}, {'label': 'NEGATIVE', 'score': 0.9670120477676392}, {'label': 'NEGATIVE', 'score': 0.9670120477676392}, {'label': 'NEGATIVE', 'score': 0.9670120477676392}, {'label': 'NEGATIVE', 'score': 0.9670120477676392}, {'label': 'NEGATIVE', 'score': 0.9670120477676392}, {'label': 'NEGATIVE', 'score': 0.9670120477676392}, {'label': 'NEGATIVE', 'score': 0.9670120477676392}, {'label': 'NEGATIVE', 'score': 0.9670120477676392}, {'label': 'NEGATIVE', 'score': 0.9670120477676392}, {'label': 'NEGATIVE', 'score': 0.9670120477676392}, {'label': 'NEGATIVE', 'score': 0.9670120477676392}, {'label': 'NEGATIVE', 'score': 0.9670120477676392}]\n",
      "[{'label': 'NEGATIVE', 'score': 0.9670120477676392}, {'label': 'NEGATIVE', 'score': 0.9670120477676392}, {'label': 'NEGATIVE', 'score': 0.9670120477676392}, {'label': 'NEGATIVE', 'score': 0.9670120477676392}, {'label': 'NEGATIVE', 'score': 0.9670120477676392}, {'label': 'NEGATIVE', 'score': 0.9670120477676392}, {'label': 'NEGATIVE', 'score': 0.9670120477676392}, {'label': 'NEGATIVE', 'score': 0.9670120477676392}, {'label': 'NEGATIVE', 'score': 0.9670120477676392}, {'label': 'NEGATIVE', 'score': 0.9670120477676392}, {'label': 'NEGATIVE', 'score': 0.9670120477676392}, {'label': 'NEGATIVE', 'score': 0.9670120477676392}, {'label': 'NEGATIVE', 'score': 0.9670120477676392}, {'label': 'NEGATIVE', 'score': 0.9670120477676392}, {'label': 'NEGATIVE', 'score': 0.9670120477676392}, {'label': 'NEGATIVE', 'score': 0.9670120477676392}, {'label': 'NEGATIVE', 'score': 0.9670120477676392}, {'label': 'NEGATIVE', 'score': 0.9670120477676392}]\n",
      "[{'label': 'NEGATIVE', 'score': 0.9670120477676392}, {'label': 'NEGATIVE', 'score': 0.9670120477676392}, {'label': 'NEGATIVE', 'score': 0.9670120477676392}, {'label': 'NEGATIVE', 'score': 0.9670120477676392}, {'label': 'NEGATIVE', 'score': 0.9670120477676392}, {'label': 'NEGATIVE', 'score': 0.9670120477676392}, {'label': 'NEGATIVE', 'score': 0.9670120477676392}, {'label': 'NEGATIVE', 'score': 0.9670120477676392}, {'label': 'NEGATIVE', 'score': 0.9670120477676392}, {'label': 'NEGATIVE', 'score': 0.9670120477676392}, {'label': 'NEGATIVE', 'score': 0.9670120477676392}, {'label': 'NEGATIVE', 'score': 0.9670120477676392}, {'label': 'NEGATIVE', 'score': 0.9670120477676392}, {'label': 'NEGATIVE', 'score': 0.9670120477676392}, {'label': 'NEGATIVE', 'score': 0.9670120477676392}, {'label': 'NEGATIVE', 'score': 0.9670120477676392}, {'label': 'NEGATIVE', 'score': 0.9670120477676392}, {'label': 'NEGATIVE', 'score': 0.9670120477676392}, {'label': 'NEGATIVE', 'score': 0.9670120477676392}]\n",
      "[{'label': 'NEGATIVE', 'score': 0.9670120477676392}, {'label': 'NEGATIVE', 'score': 0.9670120477676392}, {'label': 'NEGATIVE', 'score': 0.9670120477676392}, {'label': 'NEGATIVE', 'score': 0.9670120477676392}, {'label': 'NEGATIVE', 'score': 0.9670120477676392}, {'label': 'NEGATIVE', 'score': 0.9670120477676392}, {'label': 'NEGATIVE', 'score': 0.9670120477676392}, {'label': 'NEGATIVE', 'score': 0.9670120477676392}, {'label': 'NEGATIVE', 'score': 0.9670120477676392}, {'label': 'NEGATIVE', 'score': 0.9670120477676392}, {'label': 'NEGATIVE', 'score': 0.9670120477676392}, {'label': 'NEGATIVE', 'score': 0.9670120477676392}, {'label': 'NEGATIVE', 'score': 0.9670120477676392}, {'label': 'NEGATIVE', 'score': 0.9670120477676392}, {'label': 'NEGATIVE', 'score': 0.9670120477676392}, {'label': 'NEGATIVE', 'score': 0.9670120477676392}, {'label': 'NEGATIVE', 'score': 0.9670120477676392}, {'label': 'NEGATIVE', 'score': 0.9670120477676392}, {'label': 'NEGATIVE', 'score': 0.9670120477676392}, {'label': 'NEGATIVE', 'score': 0.9670120477676392}]\n"
     ]
    }
   ],
   "source": [
    "from transformers import pipeline\n",
    "from torch.utils.data import Dataset\n",
    "from tqdm.auto import tqdm\n",
    "\n",
    "pipe = pipeline(\"text-classification\", device=0)\n",
    "\n",
    "\n",
    "class MyDataset(Dataset):\n",
    "    def __len__(self):\n",
    "        return 20\n",
    "\n",
    "    def __getitem__(self, i):\n",
    "        return \"This is a test\"\n",
    "\n",
    "\n",
    "dataset = MyDataset()\n",
    "\n",
    "results = []\n",
    "\n",
    "for batch_size in [1, 10]:\n",
    "    print(\"-\" * 30)\n",
    "    print(f\"Streaming batch_size={batch_size}\")\n",
    "    result = []\n",
    "    for out in tqdm(pipe(dataset, batch_size=batch_size), total=len(dataset)):\n",
    "#         print(len(out))\n",
    "#         print(out)\n",
    "#         break\n",
    "        result.append(out)\n",
    "        print(result)\n",
    "        pass\n",
    "        \n",
    "    results.append(result)"
   ]
  },
  {
   "cell_type": "code",
   "execution_count": 10,
   "id": "ee66b6ce",
   "metadata": {},
   "outputs": [
    {
     "name": "stdout",
     "output_type": "stream",
     "text": [
      "Downloading and preparing dataset csv/default to /root/.cache/huggingface/datasets/csv/default-50c8ec55ede3b71e/0.0.0/6b34fb8fcf56f7c8ba51dc895bfa2bfbe43546f190a60fcf74bb5e8afdcc2317...\n"
     ]
    },
    {
     "data": {
      "application/vnd.jupyter.widget-view+json": {
       "model_id": "94c5c9effcb6462bbd9b05794e565730",
       "version_major": 2,
       "version_minor": 0
      },
      "text/plain": [
       "Downloading data files:   0%|          | 0/3 [00:00<?, ?it/s]"
      ]
     },
     "metadata": {},
     "output_type": "display_data"
    },
    {
     "data": {
      "application/vnd.jupyter.widget-view+json": {
       "model_id": "28621fc9e49d47baaf9a2b8a86c0b726",
       "version_major": 2,
       "version_minor": 0
      },
      "text/plain": [
       "Extracting data files:   0%|          | 0/3 [00:00<?, ?it/s]"
      ]
     },
     "metadata": {},
     "output_type": "display_data"
    },
    {
     "data": {
      "application/vnd.jupyter.widget-view+json": {
       "model_id": "",
       "version_major": 2,
       "version_minor": 0
      },
      "text/plain": [
       "Generating train split: 0 examples [00:00, ? examples/s]"
      ]
     },
     "metadata": {},
     "output_type": "display_data"
    },
    {
     "name": "stderr",
     "output_type": "stream",
     "text": [
      "/opt/conda/envs/l2v/lib/python3.10/site-packages/datasets/download/streaming_download_manager.py:776: FutureWarning: the 'mangle_dupe_cols' keyword is deprecated and will be removed in a future version. Please take steps to stop the use of 'mangle_dupe_cols'\n",
      "  return pd.read_csv(xopen(filepath_or_buffer, \"rb\", use_auth_token=use_auth_token), **kwargs)\n"
     ]
    },
    {
     "data": {
      "application/vnd.jupyter.widget-view+json": {
       "model_id": "",
       "version_major": 2,
       "version_minor": 0
      },
      "text/plain": [
       "Generating val split: 0 examples [00:00, ? examples/s]"
      ]
     },
     "metadata": {},
     "output_type": "display_data"
    },
    {
     "name": "stderr",
     "output_type": "stream",
     "text": [
      "/opt/conda/envs/l2v/lib/python3.10/site-packages/datasets/download/streaming_download_manager.py:776: FutureWarning: the 'mangle_dupe_cols' keyword is deprecated and will be removed in a future version. Please take steps to stop the use of 'mangle_dupe_cols'\n",
      "  return pd.read_csv(xopen(filepath_or_buffer, \"rb\", use_auth_token=use_auth_token), **kwargs)\n"
     ]
    },
    {
     "data": {
      "application/vnd.jupyter.widget-view+json": {
       "model_id": "",
       "version_major": 2,
       "version_minor": 0
      },
      "text/plain": [
       "Generating test split: 0 examples [00:00, ? examples/s]"
      ]
     },
     "metadata": {},
     "output_type": "display_data"
    },
    {
     "name": "stdout",
     "output_type": "stream",
     "text": [
      "Dataset csv downloaded and prepared to /root/.cache/huggingface/datasets/csv/default-50c8ec55ede3b71e/0.0.0/6b34fb8fcf56f7c8ba51dc895bfa2bfbe43546f190a60fcf74bb5e8afdcc2317. Subsequent calls will reuse this data.\n"
     ]
    },
    {
     "name": "stderr",
     "output_type": "stream",
     "text": [
      "/opt/conda/envs/l2v/lib/python3.10/site-packages/datasets/download/streaming_download_manager.py:776: FutureWarning: the 'mangle_dupe_cols' keyword is deprecated and will be removed in a future version. Please take steps to stop the use of 'mangle_dupe_cols'\n",
      "  return pd.read_csv(xopen(filepath_or_buffer, \"rb\", use_auth_token=use_auth_token), **kwargs)\n"
     ]
    },
    {
     "data": {
      "application/vnd.jupyter.widget-view+json": {
       "model_id": "0b17fd0130c444c39c42906d9792b16a",
       "version_major": 2,
       "version_minor": 0
      },
      "text/plain": [
       "  0%|          | 0/3 [00:00<?, ?it/s]"
      ]
     },
     "metadata": {},
     "output_type": "display_data"
    }
   ],
   "source": [
    "from datasets import load_dataset\n",
    "dataset = load_dataset(\"csv\", data_files={\n",
    "    \"train\": \"/root/data/chex_train.csv\",\n",
    "    \"val\": \"/root/data/chex_val.csv\",\n",
    "    \"test\": \"/root/data/chex_test.csv\"\n",
    "})"
   ]
  },
  {
   "cell_type": "code",
   "execution_count": 11,
   "id": "32dc84ce",
   "metadata": {},
   "outputs": [
    {
     "data": {
      "text/plain": [
       "DatasetDict({\n",
       "    train: Dataset({\n",
       "        features: ['Unnamed: 0', 'Report Impression', 'Enlarged Cardiomediastinum', 'Cardiomegaly', 'Lung Opacity', 'Lung Lesion', 'Edema', 'Consolidation', 'Pneumonia', 'Atelectasis', 'Pneumothorax', 'Pleural Effusion', 'Pleural Other', 'Fracture', 'Support Devices', 'No Finding'],\n",
       "        num_rows: 102304\n",
       "    })\n",
       "    val: Dataset({\n",
       "        features: ['Unnamed: 0', 'Report Impression', 'Enlarged Cardiomediastinum', 'Cardiomegaly', 'Lung Opacity', 'Lung Lesion', 'Edema', 'Consolidation', 'Pneumonia', 'Atelectasis', 'Pneumothorax', 'Pleural Effusion', 'Pleural Other', 'Fracture', 'Support Devices', 'No Finding'],\n",
       "        num_rows: 29230\n",
       "    })\n",
       "    test: Dataset({\n",
       "        features: ['Unnamed: 0', 'Report Impression', 'Enlarged Cardiomediastinum', 'Cardiomegaly', 'Lung Opacity', 'Lung Lesion', 'Edema', 'Consolidation', 'Pneumonia', 'Atelectasis', 'Pneumothorax', 'Pleural Effusion', 'Pleural Other', 'Fracture', 'Support Devices', 'No Finding'],\n",
       "        num_rows: 14615\n",
       "    })\n",
       "})"
      ]
     },
     "execution_count": 11,
     "metadata": {},
     "output_type": "execute_result"
    }
   ],
   "source": [
    "dataset"
   ]
  },
  {
   "cell_type": "code",
   "execution_count": null,
   "id": "cbc5c22a",
   "metadata": {},
   "outputs": [],
   "source": []
  }
 ],
 "metadata": {
  "kernelspec": {
   "display_name": "Python 3 (ipykernel)",
   "language": "python",
   "name": "python3"
  },
  "language_info": {
   "codemirror_mode": {
    "name": "ipython",
    "version": 3
   },
   "file_extension": ".py",
   "mimetype": "text/x-python",
   "name": "python",
   "nbconvert_exporter": "python",
   "pygments_lexer": "ipython3",
   "version": "3.10.9"
  }
 },
 "nbformat": 4,
 "nbformat_minor": 5
}
