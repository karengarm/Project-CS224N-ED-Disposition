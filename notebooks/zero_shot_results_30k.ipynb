{
 "cells": [
  {
   "cell_type": "code",
   "execution_count": 16,
   "id": "c080f710",
   "metadata": {},
   "outputs": [],
   "source": [
    "from transformers import pipeline\n",
    "import numpy as np\n",
    "import pandas as pd\n",
    "from sklearn import metrics\n",
    "import torch\n",
    "from datasets import Dataset\n",
    "from transformers.pipelines.pt_utils import KeyDataset\n",
    "from tqdm.auto import tqdm\n",
    "from sklearn import metrics\n",
    "from sklearn.naive_bayes import GaussianNB # https://scikit-learn.org/stable/modules/naive_bayes.html#gaussian-naive-bayes\n",
    "from matplotlib import pyplot as plt"
   ]
  },
  {
   "cell_type": "code",
   "execution_count": 13,
   "id": "e55059a8",
   "metadata": {},
   "outputs": [
    {
     "data": {
      "text/html": [
       "<div>\n",
       "<style scoped>\n",
       "    .dataframe tbody tr th:only-of-type {\n",
       "        vertical-align: middle;\n",
       "    }\n",
       "\n",
       "    .dataframe tbody tr th {\n",
       "        vertical-align: top;\n",
       "    }\n",
       "\n",
       "    .dataframe thead th {\n",
       "        text-align: right;\n",
       "    }\n",
       "</style>\n",
       "<table border=\"1\" class=\"dataframe\">\n",
       "  <thead>\n",
       "    <tr style=\"text-align: right;\">\n",
       "      <th></th>\n",
       "      <th>Report Impression</th>\n",
       "      <th>Enlarged Cardiomediastinum</th>\n",
       "      <th>Cardiomegaly</th>\n",
       "      <th>Lung Opacity</th>\n",
       "      <th>Lung Lesion</th>\n",
       "      <th>Edema</th>\n",
       "      <th>Consolidation</th>\n",
       "      <th>Pneumonia</th>\n",
       "      <th>Atelectasis</th>\n",
       "      <th>Pneumothorax</th>\n",
       "      <th>Pleural Effusion</th>\n",
       "      <th>Pleural Other</th>\n",
       "      <th>Fracture</th>\n",
       "      <th>Support Devices</th>\n",
       "      <th>No Finding</th>\n",
       "    </tr>\n",
       "  </thead>\n",
       "  <tbody>\n",
       "    <tr>\n",
       "      <th>0</th>\n",
       "      <td>1.  Interval increase in perihilar opacities a...</td>\n",
       "      <td>NaN</td>\n",
       "      <td>NaN</td>\n",
       "      <td>1.0</td>\n",
       "      <td>NaN</td>\n",
       "      <td>1.0</td>\n",
       "      <td>0.0</td>\n",
       "      <td>NaN</td>\n",
       "      <td>NaN</td>\n",
       "      <td>NaN</td>\n",
       "      <td>NaN</td>\n",
       "      <td>NaN</td>\n",
       "      <td>NaN</td>\n",
       "      <td>NaN</td>\n",
       "      <td>NaN</td>\n",
       "    </tr>\n",
       "    <tr>\n",
       "      <th>1</th>\n",
       "      <td>1.  No acute intracranial abnormality. 2.  Mil...</td>\n",
       "      <td>NaN</td>\n",
       "      <td>NaN</td>\n",
       "      <td>NaN</td>\n",
       "      <td>NaN</td>\n",
       "      <td>NaN</td>\n",
       "      <td>NaN</td>\n",
       "      <td>NaN</td>\n",
       "      <td>NaN</td>\n",
       "      <td>NaN</td>\n",
       "      <td>NaN</td>\n",
       "      <td>NaN</td>\n",
       "      <td>0.0</td>\n",
       "      <td>NaN</td>\n",
       "      <td>NaN</td>\n",
       "    </tr>\n",
       "    <tr>\n",
       "      <th>2</th>\n",
       "      <td>1.  Multiple loops of dilated small bowel with...</td>\n",
       "      <td>NaN</td>\n",
       "      <td>NaN</td>\n",
       "      <td>NaN</td>\n",
       "      <td>1.0</td>\n",
       "      <td>NaN</td>\n",
       "      <td>NaN</td>\n",
       "      <td>NaN</td>\n",
       "      <td>NaN</td>\n",
       "      <td>NaN</td>\n",
       "      <td>1.0</td>\n",
       "      <td>NaN</td>\n",
       "      <td>NaN</td>\n",
       "      <td>NaN</td>\n",
       "      <td>NaN</td>\n",
       "    </tr>\n",
       "    <tr>\n",
       "      <th>3</th>\n",
       "      <td>1.  Interval increased loculated moderate meta...</td>\n",
       "      <td>NaN</td>\n",
       "      <td>NaN</td>\n",
       "      <td>NaN</td>\n",
       "      <td>NaN</td>\n",
       "      <td>NaN</td>\n",
       "      <td>1.0</td>\n",
       "      <td>-1.0</td>\n",
       "      <td>-1.0</td>\n",
       "      <td>NaN</td>\n",
       "      <td>1.0</td>\n",
       "      <td>NaN</td>\n",
       "      <td>NaN</td>\n",
       "      <td>NaN</td>\n",
       "      <td>NaN</td>\n",
       "    </tr>\n",
       "    <tr>\n",
       "      <th>4</th>\n",
       "      <td>1.  Redemonstrated fracture of the femoral hea...</td>\n",
       "      <td>NaN</td>\n",
       "      <td>NaN</td>\n",
       "      <td>NaN</td>\n",
       "      <td>NaN</td>\n",
       "      <td>NaN</td>\n",
       "      <td>NaN</td>\n",
       "      <td>NaN</td>\n",
       "      <td>NaN</td>\n",
       "      <td>NaN</td>\n",
       "      <td>NaN</td>\n",
       "      <td>NaN</td>\n",
       "      <td>1.0</td>\n",
       "      <td>NaN</td>\n",
       "      <td>NaN</td>\n",
       "    </tr>\n",
       "  </tbody>\n",
       "</table>\n",
       "</div>"
      ],
      "text/plain": [
       "                                   Report Impression  \\\n",
       "0  1.  Interval increase in perihilar opacities a...   \n",
       "1  1.  No acute intracranial abnormality. 2.  Mil...   \n",
       "2  1.  Multiple loops of dilated small bowel with...   \n",
       "3  1.  Interval increased loculated moderate meta...   \n",
       "4  1.  Redemonstrated fracture of the femoral hea...   \n",
       "\n",
       "   Enlarged Cardiomediastinum  Cardiomegaly  Lung Opacity  Lung Lesion  Edema  \\\n",
       "0                         NaN           NaN           1.0          NaN    1.0   \n",
       "1                         NaN           NaN           NaN          NaN    NaN   \n",
       "2                         NaN           NaN           NaN          1.0    NaN   \n",
       "3                         NaN           NaN           NaN          NaN    NaN   \n",
       "4                         NaN           NaN           NaN          NaN    NaN   \n",
       "\n",
       "   Consolidation  Pneumonia  Atelectasis  Pneumothorax  Pleural Effusion  \\\n",
       "0            0.0        NaN          NaN           NaN               NaN   \n",
       "1            NaN        NaN          NaN           NaN               NaN   \n",
       "2            NaN        NaN          NaN           NaN               1.0   \n",
       "3            1.0       -1.0         -1.0           NaN               1.0   \n",
       "4            NaN        NaN          NaN           NaN               NaN   \n",
       "\n",
       "   Pleural Other  Fracture  Support Devices  No Finding  \n",
       "0            NaN       NaN              NaN         NaN  \n",
       "1            NaN       0.0              NaN         NaN  \n",
       "2            NaN       NaN              NaN         NaN  \n",
       "3            NaN       NaN              NaN         NaN  \n",
       "4            NaN       1.0              NaN         NaN  "
      ]
     },
     "execution_count": 13,
     "metadata": {},
     "output_type": "execute_result"
    }
   ],
   "source": [
    "chex_df = pd.read_csv('/root/Project-CS224N-ED-Disposition/CheXbert-Labeler/labeled_reports_output.csv')\n",
    "chex_df.head()"
   ]
  },
  {
   "cell_type": "code",
   "execution_count": 2,
   "id": "a97d9707",
   "metadata": {},
   "outputs": [
    {
     "data": {
      "text/plain": [
       "30257"
      ]
     },
     "execution_count": 2,
     "metadata": {},
     "output_type": "execute_result"
    }
   ],
   "source": [
    "import pickle\n",
    "results = pickle.load(open('hug_results.pkl', 'rb'))\n",
    "len(results)"
   ]
  },
  {
   "cell_type": "code",
   "execution_count": 4,
   "id": "36e5e031",
   "metadata": {},
   "outputs": [
    {
     "data": {
      "text/plain": [
       "{'sequence': '1.  No acute intracranial abnormality. 2.  Mild right forehead scalp fat stranding, correlate with exam for possible mild soft tissue contusion versus cutaneous lesion. No fracture of the skull or imaged facial bones.',\n",
       " 'labels': ['Atelectasis',\n",
       "  'Fracture',\n",
       "  'Edema',\n",
       "  'Pleural Effusion',\n",
       "  'Cardiomegaly',\n",
       "  'Pneumothorax',\n",
       "  'Pneumonia'],\n",
       " 'scores': [0.19756104052066803,\n",
       "  0.1781538426876068,\n",
       "  0.10632699728012085,\n",
       "  0.09699833393096924,\n",
       "  0.009535381570458412,\n",
       "  0.001084051327779889,\n",
       "  0.0007761425222270191]}"
      ]
     },
     "execution_count": 4,
     "metadata": {},
     "output_type": "execute_result"
    }
   ],
   "source": [
    "results[0]"
   ]
  },
  {
   "cell_type": "code",
   "execution_count": null,
   "id": "49881494",
   "metadata": {},
   "outputs": [],
   "source": [
    "\"\"\"\n",
    "compare against chexbert, assuming chexbert is truth\n",
    "\"\"\"\n",
    "def to_pandas(results_list):\n",
    "    labels = [\"Fracture\", \"Edema\", \"Cardiomegaly\", \"Pneumonia\", \"Atelectasis\", \"Pneumothorax\", \"Pleural Effusion\"]\n",
    "#     labels = ['urgent', 'phone', 'computer', 'not urgent', 'tablet']\n",
    "    schema = {col_name: pd.Series(dtype=\"float64\") for col_name in labels}\n",
    "    schema[\"Impression\"] = pd.Series(dtype=\"object\")\n",
    "    rdf = pd.DataFrame(schema)\n",
    "    for result in results:\n",
    "        row = {label: score for label, score in zip(result[\"labels\"], result[\"scores\"])}\n",
    "        row[\"Impression\"] = result[\"sequence\"]\n",
    "        rdf = rdf.append(row, ignore_index=True)\n",
    "    #     rdf = pd.concat([rdf, pd.DataFrame(row)])\n",
    "    return rdf\n",
    "\n",
    "results_df = to_pandas(results)"
   ]
  },
  {
   "cell_type": "code",
   "execution_count": 8,
   "id": "c971b432",
   "metadata": {},
   "outputs": [
    {
     "data": {
      "text/plain": [
       "(30257, 8)"
      ]
     },
     "execution_count": 8,
     "metadata": {},
     "output_type": "execute_result"
    }
   ],
   "source": [
    "results_df.shape"
   ]
  },
  {
   "cell_type": "code",
   "execution_count": 9,
   "id": "f779e621",
   "metadata": {},
   "outputs": [
    {
     "data": {
      "text/html": [
       "<div>\n",
       "<style scoped>\n",
       "    .dataframe tbody tr th:only-of-type {\n",
       "        vertical-align: middle;\n",
       "    }\n",
       "\n",
       "    .dataframe tbody tr th {\n",
       "        vertical-align: top;\n",
       "    }\n",
       "\n",
       "    .dataframe thead th {\n",
       "        text-align: right;\n",
       "    }\n",
       "</style>\n",
       "<table border=\"1\" class=\"dataframe\">\n",
       "  <thead>\n",
       "    <tr style=\"text-align: right;\">\n",
       "      <th></th>\n",
       "      <th>Fracture</th>\n",
       "      <th>Edema</th>\n",
       "      <th>Cardiomegaly</th>\n",
       "      <th>Pneumonia</th>\n",
       "      <th>Atelectasis</th>\n",
       "      <th>Pneumothorax</th>\n",
       "      <th>Pleural Effusion</th>\n",
       "      <th>Impression</th>\n",
       "    </tr>\n",
       "  </thead>\n",
       "  <tbody>\n",
       "    <tr>\n",
       "      <th>0</th>\n",
       "      <td>0.009016</td>\n",
       "      <td>0.929120</td>\n",
       "      <td>0.002341</td>\n",
       "      <td>0.524612</td>\n",
       "      <td>0.005225</td>\n",
       "      <td>0.118201</td>\n",
       "      <td>0.185744</td>\n",
       "      <td>1.  Interval increase in perihilar opacities a...</td>\n",
       "    </tr>\n",
       "    <tr>\n",
       "      <th>1</th>\n",
       "      <td>0.178154</td>\n",
       "      <td>0.106327</td>\n",
       "      <td>0.009535</td>\n",
       "      <td>0.000776</td>\n",
       "      <td>0.197561</td>\n",
       "      <td>0.001084</td>\n",
       "      <td>0.096998</td>\n",
       "      <td>1.  No acute intracranial abnormality. 2.  Mil...</td>\n",
       "    </tr>\n",
       "    <tr>\n",
       "      <th>2</th>\n",
       "      <td>0.168524</td>\n",
       "      <td>0.070339</td>\n",
       "      <td>0.045323</td>\n",
       "      <td>0.007977</td>\n",
       "      <td>0.306184</td>\n",
       "      <td>0.072368</td>\n",
       "      <td>0.182042</td>\n",
       "      <td>1.  Multiple loops of dilated small bowel with...</td>\n",
       "    </tr>\n",
       "    <tr>\n",
       "      <th>3</th>\n",
       "      <td>0.025490</td>\n",
       "      <td>0.007522</td>\n",
       "      <td>0.002442</td>\n",
       "      <td>0.004349</td>\n",
       "      <td>0.139483</td>\n",
       "      <td>0.008329</td>\n",
       "      <td>0.367868</td>\n",
       "      <td>1.  Interval increased loculated moderate meta...</td>\n",
       "    </tr>\n",
       "    <tr>\n",
       "      <th>4</th>\n",
       "      <td>0.964834</td>\n",
       "      <td>0.011500</td>\n",
       "      <td>0.050998</td>\n",
       "      <td>0.001767</td>\n",
       "      <td>0.081270</td>\n",
       "      <td>0.004236</td>\n",
       "      <td>0.032811</td>\n",
       "      <td>1.  Redemonstrated fracture of the femoral hea...</td>\n",
       "    </tr>\n",
       "  </tbody>\n",
       "</table>\n",
       "</div>"
      ],
      "text/plain": [
       "   Fracture     Edema  Cardiomegaly  Pneumonia  Atelectasis  Pneumothorax  \\\n",
       "0  0.009016  0.929120      0.002341   0.524612     0.005225      0.118201   \n",
       "1  0.178154  0.106327      0.009535   0.000776     0.197561      0.001084   \n",
       "2  0.168524  0.070339      0.045323   0.007977     0.306184      0.072368   \n",
       "3  0.025490  0.007522      0.002442   0.004349     0.139483      0.008329   \n",
       "4  0.964834  0.011500      0.050998   0.001767     0.081270      0.004236   \n",
       "\n",
       "   Pleural Effusion                                         Impression  \n",
       "0          0.185744  1.  Interval increase in perihilar opacities a...  \n",
       "1          0.096998  1.  No acute intracranial abnormality. 2.  Mil...  \n",
       "2          0.182042  1.  Multiple loops of dilated small bowel with...  \n",
       "3          0.367868  1.  Interval increased loculated moderate meta...  \n",
       "4          0.032811  1.  Redemonstrated fracture of the femoral hea...  "
      ]
     },
     "execution_count": 9,
     "metadata": {},
     "output_type": "execute_result"
    }
   ],
   "source": [
    "results_df.head()"
   ]
  },
  {
   "cell_type": "code",
   "execution_count": 33,
   "id": "4ab987fe",
   "metadata": {},
   "outputs": [],
   "source": [
    "def evaluate(pred_df, true_df, col_name):\n",
    "    \"\"\"\n",
    "    compare results against chexbert ground truth\n",
    "    \"\"\"\n",
    "    X = pred_df[[col_name]]\n",
    "    y_true = true_df[col_name]\n",
    "    y = y_true.mask(y_true != 1, 0)\n",
    "\n",
    "    nb = GaussianNB()\n",
    "    nb.fit(X, y)\n",
    "    y_pred = nb.predict(X)\n",
    "    \n",
    "    print(label)\n",
    "    print(metrics.classification_report(y, y_pred))\n",
    "    fpr, tpr, thresholds = metrics.roc_curve(y, y_pred, pos_label=1)\n",
    "    auc = metrics.auc(fpr, tpr)\n",
    "    print(\"AUC\", auc)\n",
    "    return nb\n",
    "    \n",
    "def compare_hist(y_pred, y_true, scale=\"\", title=\"\"):\n",
    "    assert y_pred.shape == y_true.shape\n",
    "    df = pd.DataFrame({ 'y_pred': y_pred, 'y_true': y_true })\n",
    "    \n",
    "    true_scores = df[df[\"y_true\"] == 1][\"y_pred\"]\n",
    "    false_scores = df[df[\"y_true\"] != 1][\"y_pred\"]\n",
    "#     print(true)\n",
    "    bins = np.linspace(-1, 1, 100)\n",
    "\n",
    "    plt.hist(true_scores, bins, alpha=0.5, label='true_scores')\n",
    "    plt.hist(false_scores, bins, alpha=0.5, label='false_scores')\n",
    "    plt.legend(loc='upper right')\n",
    "    if scale == 'log':\n",
    "        plt.yscale('log')\n",
    "    plt.title(title)\n",
    "    plt.show()"
   ]
  },
  {
   "cell_type": "code",
   "execution_count": 34,
   "id": "2458b451",
   "metadata": {},
   "outputs": [
    {
     "name": "stdout",
     "output_type": "stream",
     "text": [
      "Fracture\n",
      "              precision    recall  f1-score   support\n",
      "\n",
      "         0.0       0.99      0.94      0.96     26714\n",
      "         1.0       0.65      0.91      0.76      3543\n",
      "\n",
      "    accuracy                           0.93     30257\n",
      "   macro avg       0.82      0.93      0.86     30257\n",
      "weighted avg       0.95      0.93      0.94     30257\n",
      "\n",
      "AUC 0.9252526543116704\n",
      "Edema\n",
      "              precision    recall  f1-score   support\n",
      "\n",
      "         0.0       0.99      0.97      0.98     28812\n",
      "         1.0       0.64      0.88      0.74      1445\n",
      "\n",
      "    accuracy                           0.97     30257\n",
      "   macro avg       0.81      0.93      0.86     30257\n",
      "weighted avg       0.98      0.97      0.97     30257\n",
      "\n",
      "AUC 0.9268127419034842\n",
      "Cardiomegaly\n",
      "              precision    recall  f1-score   support\n",
      "\n",
      "         0.0       0.99      0.98      0.98     29629\n",
      "         1.0       0.37      0.57      0.45       628\n",
      "\n",
      "    accuracy                           0.97     30257\n",
      "   macro avg       0.68      0.78      0.72     30257\n",
      "weighted avg       0.98      0.97      0.97     30257\n",
      "\n",
      "AUC 0.7761952322060092\n",
      "Pneumonia\n",
      "              precision    recall  f1-score   support\n",
      "\n",
      "         0.0       0.97      0.96      0.97     28865\n",
      "         1.0       0.34      0.43      0.38      1392\n",
      "\n",
      "    accuracy                           0.94     30257\n",
      "   macro avg       0.66      0.70      0.67     30257\n",
      "weighted avg       0.94      0.94      0.94     30257\n",
      "\n",
      "AUC 0.6971157474051819\n",
      "Atelectasis\n",
      "              precision    recall  f1-score   support\n",
      "\n",
      "         0.0       0.98      0.97      0.98     29282\n",
      "         1.0       0.34      0.39      0.36       975\n",
      "\n",
      "    accuracy                           0.96     30257\n",
      "   macro avg       0.66      0.68      0.67     30257\n",
      "weighted avg       0.96      0.96      0.96     30257\n",
      "\n",
      "AUC 0.6803042912509479\n",
      "Pneumothorax\n",
      "              precision    recall  f1-score   support\n",
      "\n",
      "         0.0       1.00      0.98      0.99     29939\n",
      "         1.0       0.26      0.79      0.39       318\n",
      "\n",
      "    accuracy                           0.97     30257\n",
      "   macro avg       0.63      0.88      0.69     30257\n",
      "weighted avg       0.99      0.97      0.98     30257\n",
      "\n",
      "AUC 0.8824793327144649\n",
      "Pleural Effusion\n",
      "              precision    recall  f1-score   support\n",
      "\n",
      "         0.0       0.96      0.98      0.97     27808\n",
      "         1.0       0.68      0.58      0.62      2449\n",
      "\n",
      "    accuracy                           0.94     30257\n",
      "   macro avg       0.82      0.78      0.80     30257\n",
      "weighted avg       0.94      0.94      0.94     30257\n",
      "\n",
      "AUC 0.7775912710197111\n"
     ]
    }
   ],
   "source": [
    "labels = [\"Fracture\", \"Edema\", \"Cardiomegaly\", \"Pneumonia\", \"Atelectasis\", \"Pneumothorax\", \"Pleural Effusion\"]\n",
    "for label in labels:\n",
    "    evaluate(results_df, chex_df[:num_results], label)"
   ]
  },
  {
   "cell_type": "code",
   "execution_count": 27,
   "id": "5a27805a",
   "metadata": {},
   "outputs": [
    {
     "data": {
      "image/png": "[encoded data removed]",
      "text/plain": [
       "<Figure size 640x480 with 1 Axes>"
      ]
     },
     "metadata": {},
     "output_type": "display_data"
    }
   ],
   "source": [
    "num_results = results_df.shape[0]\n",
    "compare_hist(results_df[\"Pneumonia\"], chex_df[\"Pneumonia\"][:num_results], title=\"Pneumonia\")"
   ]
  },
  {
   "cell_type": "code",
   "execution_count": 45,
   "id": "902d9453",
   "metadata": {},
   "outputs": [],
   "source": [
    "from sentence_transformers import SentenceTransformer\n",
    "sentences = [\"This is an example sentence\", \"Each sentence is converted\"]\n",
    "\n",
    "model = SentenceTransformer('sentence-transformers/all-MiniLM-L6-v2')"
   ]
  },
  {
   "cell_type": "code",
   "execution_count": 36,
   "id": "7f0d723e",
   "metadata": {},
   "outputs": [
    {
     "data": {
      "text/plain": [
       "SentenceTransformer(\n",
       "  (0): Transformer({'max_seq_length': 256, 'do_lower_case': False}) with Transformer model: BertModel \n",
       "  (1): Pooling({'word_embedding_dimension': 384, 'pooling_mode_cls_token': False, 'pooling_mode_mean_tokens': True, 'pooling_mode_max_tokens': False, 'pooling_mode_mean_sqrt_len_tokens': False})\n",
       "  (2): Normalize()\n",
       ")"
      ]
     },
     "execution_count": 36,
     "metadata": {},
     "output_type": "execute_result"
    }
   ],
   "source": [
    "model"
   ]
  },
  {
   "cell_type": "code",
   "execution_count": 46,
   "id": "38225885",
   "metadata": {},
   "outputs": [
    {
     "ename": "AttributeError",
     "evalue": "'SentenceTransformer' object has no attribute 'num_parameters'",
     "output_type": "error",
     "traceback": [
      "\u001b[0;31m---------------------------------------------------------------------------\u001b[0m",
      "\u001b[0;31mAttributeError\u001b[0m                            Traceback (most recent call last)",
      "Cell \u001b[0;32mIn[46], line 1\u001b[0m\n\u001b[0;32m----> 1\u001b[0m \u001b[38;5;28msum\u001b[39m(p\u001b[38;5;241m.\u001b[39mnumel() \u001b[38;5;28;01mfor\u001b[39;00m p \u001b[38;5;129;01min\u001b[39;00m model\u001b[38;5;241m.\u001b[39mparameters() \u001b[38;5;28;01mif\u001b[39;00m p\u001b[38;5;241m.\u001b[39mrequires_grad), \u001b[43mmodel\u001b[49m\u001b[38;5;241;43m.\u001b[39;49m\u001b[43mnum_parameters\u001b[49m()\n",
      "File \u001b[0;32m/opt/conda/envs/l2v/lib/python3.10/site-packages/torch/nn/modules/module.py:1269\u001b[0m, in \u001b[0;36mModule.__getattr__\u001b[0;34m(self, name)\u001b[0m\n\u001b[1;32m   1267\u001b[0m     \u001b[38;5;28;01mif\u001b[39;00m name \u001b[38;5;129;01min\u001b[39;00m modules:\n\u001b[1;32m   1268\u001b[0m         \u001b[38;5;28;01mreturn\u001b[39;00m modules[name]\n\u001b[0;32m-> 1269\u001b[0m \u001b[38;5;28;01mraise\u001b[39;00m \u001b[38;5;167;01mAttributeError\u001b[39;00m(\u001b[38;5;124m\"\u001b[39m\u001b[38;5;124m'\u001b[39m\u001b[38;5;132;01m{}\u001b[39;00m\u001b[38;5;124m'\u001b[39m\u001b[38;5;124m object has no attribute \u001b[39m\u001b[38;5;124m'\u001b[39m\u001b[38;5;132;01m{}\u001b[39;00m\u001b[38;5;124m'\u001b[39m\u001b[38;5;124m\"\u001b[39m\u001b[38;5;241m.\u001b[39mformat(\n\u001b[1;32m   1270\u001b[0m     \u001b[38;5;28mtype\u001b[39m(\u001b[38;5;28mself\u001b[39m)\u001b[38;5;241m.\u001b[39m\u001b[38;5;18m__name__\u001b[39m, name))\n",
      "\u001b[0;31mAttributeError\u001b[0m: 'SentenceTransformer' object has no attribute 'num_parameters'"
     ]
    }
   ],
   "source": [
    "sum(p.numel() for p in model.parameters() if p.requires_grad), model.num_parameters()"
   ]
  },
  {
   "cell_type": "code",
   "execution_count": 41,
   "id": "83faedc3",
   "metadata": {},
   "outputs": [
    {
     "data": {
      "text/plain": [
       "22713216"
      ]
     },
     "execution_count": 41,
     "metadata": {},
     "output_type": "execute_result"
    }
   ],
   "source": [
    "from transformers import AutoTokenizer, AutoModel\n",
    "\n",
    "# Load model from HuggingFace Hub\n",
    "tokenizer = AutoTokenizer.from_pretrained('sentence-transformers/all-MiniLM-L6-v2')\n",
    "model = AutoModel.from_pretrained('sentence-transformers/all-MiniLM-L6-v2')\n",
    "\n",
    "sum(p.numel() for p in model.parameters() if p.requires_grad)"
   ]
  },
  {
   "cell_type": "code",
   "execution_count": 38,
   "id": "631fa7d1",
   "metadata": {},
   "outputs": [],
   "source": [
    "pipe = pipeline(\n",
    "    model=\"facebook/bart-large-mnli\",\n",
    "    framework=\"pt\",\n",
    "    device=0,\n",
    ")"
   ]
  },
  {
   "cell_type": "code",
   "execution_count": 42,
   "id": "e60fccb7",
   "metadata": {},
   "outputs": [
    {
     "name": "stderr",
     "output_type": "stream",
     "text": [
      "Some weights of the model checkpoint at facebook/bart-large-mnli were not used when initializing BartModel: ['classification_head.out_proj.bias', 'classification_head.dense.weight', 'classification_head.out_proj.weight', 'classification_head.dense.bias']\n",
      "- This IS expected if you are initializing BartModel from the checkpoint of a model trained on another task or with another architecture (e.g. initializing a BertForSequenceClassification model from a BertForPreTraining model).\n",
      "- This IS NOT expected if you are initializing BartModel from the checkpoint of a model that you expect to be exactly identical (initializing a BertForSequenceClassification model from a BertForSequenceClassification model).\n"
     ]
    },
    {
     "ename": "AttributeError",
     "evalue": "'ZeroShotClassificationPipeline' object has no attribute 'parameters'",
     "output_type": "error",
     "traceback": [
      "\u001b[0;31m---------------------------------------------------------------------------\u001b[0m",
      "\u001b[0;31mAttributeError\u001b[0m                            Traceback (most recent call last)",
      "Cell \u001b[0;32mIn[42], line 3\u001b[0m\n\u001b[1;32m      1\u001b[0m model \u001b[38;5;241m=\u001b[39m AutoModel\u001b[38;5;241m.\u001b[39mfrom_pretrained(\u001b[38;5;124m'\u001b[39m\u001b[38;5;124mfacebook/bart-large-mnli\u001b[39m\u001b[38;5;124m'\u001b[39m)\n\u001b[0;32m----> 3\u001b[0m \u001b[38;5;28msum\u001b[39m(p\u001b[38;5;241m.\u001b[39mnumel() \u001b[38;5;28;01mfor\u001b[39;00m p \u001b[38;5;129;01min\u001b[39;00m \u001b[43mpipe\u001b[49m\u001b[38;5;241;43m.\u001b[39;49m\u001b[43mparameters\u001b[49m() \u001b[38;5;28;01mif\u001b[39;00m p\u001b[38;5;241m.\u001b[39mrequires_grad)\n",
      "\u001b[0;31mAttributeError\u001b[0m: 'ZeroShotClassificationPipeline' object has no attribute 'parameters'"
     ]
    }
   ],
   "source": [
    "model = AutoModel.from_pretrained('facebook/bart-large-mnli')"
   ]
  },
  {
   "cell_type": "code",
   "execution_count": 43,
   "id": "a2d26885",
   "metadata": {},
   "outputs": [
    {
     "data": {
      "text/plain": [
       "406291456"
      ]
     },
     "execution_count": 43,
     "metadata": {},
     "output_type": "execute_result"
    }
   ],
   "source": [
    "sum(p.numel() for p in model.parameters() if p.requires_grad)"
   ]
  },
  {
   "cell_type": "code",
   "execution_count": 44,
   "id": "f0286267",
   "metadata": {},
   "outputs": [
    {
     "data": {
      "text/plain": [
       "406291456"
      ]
     },
     "execution_count": 44,
     "metadata": {},
     "output_type": "execute_result"
    }
   ],
   "source": [
    "model.num_parameters()"
   ]
  },
  {
   "cell_type": "code",
   "execution_count": null,
   "id": "66d31686",
   "metadata": {},
   "outputs": [],
   "source": []
  }
 ],
 "metadata": {
  "kernelspec": {
   "display_name": "Python 3 (ipykernel)",
   "language": "python",
   "name": "python3"
  },
  "language_info": {
   "codemirror_mode": {
    "name": "ipython",
    "version": 3
   },
   "file_extension": ".py",
   "mimetype": "text/x-python",
   "name": "python",
   "nbconvert_exporter": "python",
   "pygments_lexer": "ipython3",
   "version": "3.10.9"
  }
 },
 "nbformat": 4,
 "nbformat_minor": 5
}
