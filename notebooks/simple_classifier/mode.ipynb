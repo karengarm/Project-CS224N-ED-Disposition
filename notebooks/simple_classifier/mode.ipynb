{
 "cells": [
  {
   "cell_type": "code",
   "execution_count": 1,
   "id": "4e5ddc01",
   "metadata": {},
   "outputs": [],
   "source": [
    "import pandas as pd\n",
    "import numpy as np\n",
    "import torch\n",
    "from torch.utils.data import Dataset, DataLoader\n",
    "from sklearn.preprocessing import OneHotEncoder\n",
    "from skorch import NeuralNetClassifier\n",
    "\n",
    "import sys  \n",
    "sys.path.insert(0, '/root/Project-CS224N-ED-Disposition/')\n",
    "from scripts import utils\n",
    "import importlib\n",
    "importlib.reload(utils)\n",
    "\n",
    "index_col = 'Unnamed: 0'"
   ]
  },
  {
   "cell_type": "code",
   "execution_count": 4,
   "id": "bebe1247",
   "metadata": {},
   "outputs": [
    {
     "data": {
      "text/html": [
       "<div>\n",
       "<style scoped>\n",
       "    .dataframe tbody tr th:only-of-type {\n",
       "        vertical-align: middle;\n",
       "    }\n",
       "\n",
       "    .dataframe tbody tr th {\n",
       "        vertical-align: top;\n",
       "    }\n",
       "\n",
       "    .dataframe thead th {\n",
       "        text-align: right;\n",
       "    }\n",
       "</style>\n",
       "<table border=\"1\" class=\"dataframe\">\n",
       "  <thead>\n",
       "    <tr style=\"text-align: right;\">\n",
       "      <th></th>\n",
       "      <th>index</th>\n",
       "      <th>CSN</th>\n",
       "      <th>Rads_order_ID</th>\n",
       "      <th>Study</th>\n",
       "      <th>Impression</th>\n",
       "      <th>ED_dispo</th>\n",
       "    </tr>\n",
       "  </thead>\n",
       "  <tbody>\n",
       "    <tr>\n",
       "      <th>0</th>\n",
       "      <td>0</td>\n",
       "      <td>131290418105</td>\n",
       "      <td>674819827</td>\n",
       "      <td>XR CHEST 2 VIEWS</td>\n",
       "      <td>1.  Interval increase in perihilar opacities a...</td>\n",
       "      <td>Place in Observation</td>\n",
       "    </tr>\n",
       "    <tr>\n",
       "      <th>1</th>\n",
       "      <td>1</td>\n",
       "      <td>131290415760</td>\n",
       "      <td>674821169</td>\n",
       "      <td>CT HEAD WO IV CONTRAST</td>\n",
       "      <td>1.  No acute intracranial abnormality. 2.  Mil...</td>\n",
       "      <td>Admit to Inpatient</td>\n",
       "    </tr>\n",
       "    <tr>\n",
       "      <th>2</th>\n",
       "      <td>2</td>\n",
       "      <td>131290418527</td>\n",
       "      <td>674823260</td>\n",
       "      <td>CT ABDOMEN PELVIS W IV CONTRAST</td>\n",
       "      <td>1.  Multiple loops of dilated small bowel with...</td>\n",
       "      <td>Admit to Inpatient</td>\n",
       "    </tr>\n",
       "    <tr>\n",
       "      <th>3</th>\n",
       "      <td>3</td>\n",
       "      <td>131290418527</td>\n",
       "      <td>674823261</td>\n",
       "      <td>XR CHEST 2 VIEWS</td>\n",
       "      <td>1.  Interval increased loculated moderate meta...</td>\n",
       "      <td>Admit to Inpatient</td>\n",
       "    </tr>\n",
       "    <tr>\n",
       "      <th>4</th>\n",
       "      <td>4</td>\n",
       "      <td>131290415760</td>\n",
       "      <td>674823291</td>\n",
       "      <td>XR PELVIS AND HIP 1 VIEW LEFT</td>\n",
       "      <td>1.  Redemonstrated fracture of the femoral hea...</td>\n",
       "      <td>Admit to Inpatient</td>\n",
       "    </tr>\n",
       "    <tr>\n",
       "      <th>...</th>\n",
       "      <td>...</td>\n",
       "      <td>...</td>\n",
       "      <td>...</td>\n",
       "      <td>...</td>\n",
       "      <td>...</td>\n",
       "      <td>...</td>\n",
       "    </tr>\n",
       "    <tr>\n",
       "      <th>146144</th>\n",
       "      <td>146144</td>\n",
       "      <td>131336973092</td>\n",
       "      <td>813941915</td>\n",
       "      <td>MR LUMBAR SPINE WO IV CONTRAST</td>\n",
       "      <td>1.  Acute superior endplate compression deform...</td>\n",
       "      <td>Admit to Inpatient</td>\n",
       "    </tr>\n",
       "    <tr>\n",
       "      <th>146145</th>\n",
       "      <td>146145</td>\n",
       "      <td>131336952819</td>\n",
       "      <td>813964164</td>\n",
       "      <td>CT ABDOMEN PELVIS W IV CONTRAST</td>\n",
       "      <td>1.  Diffuse anasarca and mesenteric edema. Pat...</td>\n",
       "      <td>Admit to Inpatient</td>\n",
       "    </tr>\n",
       "    <tr>\n",
       "      <th>146146</th>\n",
       "      <td>146146</td>\n",
       "      <td>131336954468</td>\n",
       "      <td>814069582</td>\n",
       "      <td>US LOWER EXTREMITY VEINS DEEP VEIN THROMBOSIS ...</td>\n",
       "      <td>1.  No ultrasound evidence of deep venous thro...</td>\n",
       "      <td>Admit to Inpatient</td>\n",
       "    </tr>\n",
       "    <tr>\n",
       "      <th>146147</th>\n",
       "      <td>146147</td>\n",
       "      <td>131336896882</td>\n",
       "      <td>814099628</td>\n",
       "      <td>XR CHEST 1 VIEW</td>\n",
       "      <td>1.  Mild fluid overload with new small pleural...</td>\n",
       "      <td>Admit to Inpatient</td>\n",
       "    </tr>\n",
       "    <tr>\n",
       "      <th>146148</th>\n",
       "      <td>146148</td>\n",
       "      <td>131336896882</td>\n",
       "      <td>814108675</td>\n",
       "      <td>CT CHEST ABDOMEN PELVIS W IV CONTRAST</td>\n",
       "      <td>1.  Distended gallbladder with mild wall thick...</td>\n",
       "      <td>Admit to Inpatient</td>\n",
       "    </tr>\n",
       "  </tbody>\n",
       "</table>\n",
       "<p>146149 rows × 6 columns</p>\n",
       "</div>"
      ],
      "text/plain": [
       "         index           CSN  Rads_order_ID  \\\n",
       "0            0  131290418105      674819827   \n",
       "1            1  131290415760      674821169   \n",
       "2            2  131290418527      674823260   \n",
       "3            3  131290418527      674823261   \n",
       "4            4  131290415760      674823291   \n",
       "...        ...           ...            ...   \n",
       "146144  146144  131336973092      813941915   \n",
       "146145  146145  131336952819      813964164   \n",
       "146146  146146  131336954468      814069582   \n",
       "146147  146147  131336896882      814099628   \n",
       "146148  146148  131336896882      814108675   \n",
       "\n",
       "                                                    Study  \\\n",
       "0                                        XR CHEST 2 VIEWS   \n",
       "1                                  CT HEAD WO IV CONTRAST   \n",
       "2                         CT ABDOMEN PELVIS W IV CONTRAST   \n",
       "3                                        XR CHEST 2 VIEWS   \n",
       "4                           XR PELVIS AND HIP 1 VIEW LEFT   \n",
       "...                                                   ...   \n",
       "146144                     MR LUMBAR SPINE WO IV CONTRAST   \n",
       "146145                    CT ABDOMEN PELVIS W IV CONTRAST   \n",
       "146146  US LOWER EXTREMITY VEINS DEEP VEIN THROMBOSIS ...   \n",
       "146147                                    XR CHEST 1 VIEW   \n",
       "146148              CT CHEST ABDOMEN PELVIS W IV CONTRAST   \n",
       "\n",
       "                                               Impression  \\\n",
       "0       1.  Interval increase in perihilar opacities a...   \n",
       "1       1.  No acute intracranial abnormality. 2.  Mil...   \n",
       "2       1.  Multiple loops of dilated small bowel with...   \n",
       "3       1.  Interval increased loculated moderate meta...   \n",
       "4       1.  Redemonstrated fracture of the femoral hea...   \n",
       "...                                                   ...   \n",
       "146144  1.  Acute superior endplate compression deform...   \n",
       "146145  1.  Diffuse anasarca and mesenteric edema. Pat...   \n",
       "146146  1.  No ultrasound evidence of deep venous thro...   \n",
       "146147  1.  Mild fluid overload with new small pleural...   \n",
       "146148  1.  Distended gallbladder with mild wall thick...   \n",
       "\n",
       "                    ED_dispo  \n",
       "0       Place in Observation  \n",
       "1         Admit to Inpatient  \n",
       "2         Admit to Inpatient  \n",
       "3         Admit to Inpatient  \n",
       "4         Admit to Inpatient  \n",
       "...                      ...  \n",
       "146144    Admit to Inpatient  \n",
       "146145    Admit to Inpatient  \n",
       "146146    Admit to Inpatient  \n",
       "146147    Admit to Inpatient  \n",
       "146148    Admit to Inpatient  \n",
       "\n",
       "[146149 rows x 6 columns]"
      ]
     },
     "execution_count": 4,
     "metadata": {},
     "output_type": "execute_result"
    }
   ],
   "source": [
    "ed = pd.read_csv('/root/data/ed.csv')\n",
    "ed"
   ]
  },
  {
   "cell_type": "code",
   "execution_count": 5,
   "id": "da351be9",
   "metadata": {},
   "outputs": [
    {
     "data": {
      "text/plain": [
       "Discharge                   71379\n",
       "Admit to Inpatient          66309\n",
       "Place in Observation         7530\n",
       "Place in Observation-CDU      931\n",
       "Name: ED_dispo, dtype: int64"
      ]
     },
     "execution_count": 5,
     "metadata": {},
     "output_type": "execute_result"
    }
   ],
   "source": [
    "ed['ED_dispo'].value_counts()"
   ]
  },
  {
   "cell_type": "code",
   "execution_count": 6,
   "id": "dd6595d5",
   "metadata": {},
   "outputs": [
    {
     "data": {
      "text/plain": [
       "0.4883988258558047"
      ]
     },
     "execution_count": 6,
     "metadata": {},
     "output_type": "execute_result"
    }
   ],
   "source": [
    "71379 / 146149"
   ]
  },
  {
   "cell_type": "markdown",
   "id": "873bf318",
   "metadata": {},
   "source": [
    "zero rate baseline: predicting the mode (always discharge) results in 48.8% accuracy"
   ]
  },
  {
   "cell_type": "code",
   "execution_count": null,
   "id": "45580f8e",
   "metadata": {},
   "outputs": [],
   "source": [
    "TODO: try some simple classifiers like nearest neighbors and random forest"
   ]
  }
 ],
 "metadata": {
  "kernelspec": {
   "display_name": "Python 3 (ipykernel)",
   "language": "python",
   "name": "python3"
  },
  "language_info": {
   "codemirror_mode": {
    "name": "ipython",
    "version": 3
   },
   "file_extension": ".py",
   "mimetype": "text/x-python",
   "name": "python",
   "nbconvert_exporter": "python",
   "pygments_lexer": "ipython3",
   "version": "3.10.9"
  }
 },
 "nbformat": 4,
 "nbformat_minor": 5
}
