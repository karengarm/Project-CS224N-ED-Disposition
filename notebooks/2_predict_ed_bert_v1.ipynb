{
 "cells": [
  {
   "cell_type": "markdown",
   "id": "d75d8979",
   "metadata": {},
   "source": [
    "# Predict ED_dispo with result from Lbl2TransformerVec and without"
   ]
  },
  {
   "cell_type": "markdown",
   "id": "802e39c0",
   "metadata": {},
   "source": [
    "For architecture and weight initialization, we will compare:\n",
    "\n",
    "• BERT (baseline)\n",
    "\n",
    "• BioBERT\n",
    "\n",
    "• Clinical BioBERT\n",
    "\n",
    "• BlueBERT\n",
    "\n",
    "• XLNet (baseline)\n",
    "\n",
    "• Clinical XLnet"
   ]
  },
  {
   "cell_type": "code",
   "execution_count": 1,
   "id": "ceaac702",
   "metadata": {},
   "outputs": [],
   "source": [
    "#!pip install tensorflow_hub"
   ]
  },
  {
   "cell_type": "code",
   "execution_count": 2,
   "id": "486d780c",
   "metadata": {},
   "outputs": [],
   "source": [
    "#!pip install tensorflow-text --no-dependencies"
   ]
  },
  {
   "cell_type": "code",
   "execution_count": 1,
   "id": "a8f0be11",
   "metadata": {},
   "outputs": [
    {
     "name": "stderr",
     "output_type": "stream",
     "text": [
      "2023-03-20 18:39:35.207654: I tensorflow/core/platform/cpu_feature_guard.cc:193] This TensorFlow binary is optimized with oneAPI Deep Neural Network Library (oneDNN) to use the following CPU instructions in performance-critical operations:  AVX2 AVX512F AVX512_VNNI FMA\n",
      "To enable them in other operations, rebuild TensorFlow with the appropriate compiler flags.\n",
      "2023-03-20 18:39:35.951261: I tensorflow/core/util/port.cc:104] oneDNN custom operations are on. You may see slightly different numerical results due to floating-point round-off errors from different computation orders. To turn them off, set the environment variable `TF_ENABLE_ONEDNN_OPTS=0`.\n",
      "2023-03-20 18:39:38.258115: W tensorflow/compiler/xla/stream_executor/platform/default/dso_loader.cc:64] Could not load dynamic library 'libnvinfer.so.7'; dlerror: libnvinfer.so.7: cannot open shared object file: No such file or directory; LD_LIBRARY_PATH: /opt/amazon/efa/lib64:/opt/amazon/openmpi/lib64:/usr/local/cuda/efa/lib:/usr/local/cuda/lib:/usr/local/cuda:/usr/local/cuda/lib64:/usr/local/cuda/extras/CUPTI/lib64:/usr/local/cuda/targets/x86_64-linux/lib:/usr/local/lib:/usr/lib:/lib:\n",
      "2023-03-20 18:39:38.259286: W tensorflow/compiler/xla/stream_executor/platform/default/dso_loader.cc:64] Could not load dynamic library 'libnvinfer_plugin.so.7'; dlerror: libnvinfer_plugin.so.7: cannot open shared object file: No such file or directory; LD_LIBRARY_PATH: /opt/amazon/efa/lib64:/opt/amazon/openmpi/lib64:/usr/local/cuda/efa/lib:/usr/local/cuda/lib:/usr/local/cuda:/usr/local/cuda/lib64:/usr/local/cuda/extras/CUPTI/lib64:/usr/local/cuda/targets/x86_64-linux/lib:/usr/local/lib:/usr/lib:/lib:\n",
      "2023-03-20 18:39:38.259296: W tensorflow/compiler/tf2tensorrt/utils/py_utils.cc:38] TF-TRT Warning: Cannot dlopen some TensorRT libraries. If you would like to use Nvidia GPU with TensorRT, please make sure the missing libraries mentioned above are installed properly.\n"
     ]
    }
   ],
   "source": [
    "import pandas as pd\n",
    "import numpy as np\n",
    "import gc\n",
    "import os\n",
    "from sklearn.metrics import accuracy_score, precision_score, recall_score, f1_score, classification_report, confusion_matrix, roc_curve, auc\n",
    "import re\n",
    "import tensorflow as tf\n",
    "from transformers import TFXLNetModel, XLNetTokenizer\n",
    "from sklearn.utils.fixes import loguniform\n",
    "from sklearn.model_selection import  train_test_split\n",
    "from sklearn.model_selection import ParameterSampler\n",
    "import tensorflow_hub as hub\n",
    "import json\n",
    "import csv \n",
    "\n",
    "import seaborn as sn\n",
    "import matplotlib.pyplot as plt\n",
    "from sklearn.preprocessing import LabelEncoder\n",
    "\n",
    "import mlflow\n",
    "import mlflow.keras\n",
    "import tensorflow_text as text\n",
    "import seaborn as sns"
   ]
  },
  {
   "cell_type": "code",
   "execution_count": 4,
   "id": "27fd0820",
   "metadata": {},
   "outputs": [],
   "source": [
    "#!pip install mlflow\n",
    "#!databricks configure --host https://community.cloud.databricks.com/"
   ]
  },
  {
   "cell_type": "code",
   "execution_count": 5,
   "id": "ec8278f7",
   "metadata": {},
   "outputs": [
    {
     "name": "stdout",
     "output_type": "stream",
     "text": [
      "env: DATABRICKS_USERNAME='karengar@stanford.edu'\n",
      "env: DATABRICKS_PASSWORD='Projectcs224*'\n"
     ]
    }
   ],
   "source": [
    "%env  DATABRICKS_USERNAME= 'karengar@stanford.edu' \n",
    "%env  DATABRICKS_PASSWORD = 'Projectcs224*'"
   ]
  },
  {
   "cell_type": "markdown",
   "id": "fe4a2ed5",
   "metadata": {},
   "source": [
    " - Import data"
   ]
  },
  {
   "cell_type": "code",
   "execution_count": 2,
   "id": "7a32f01d",
   "metadata": {},
   "outputs": [
    {
     "data": {
      "text/html": [
       "<div>\n",
       "<style scoped>\n",
       "    .dataframe tbody tr th:only-of-type {\n",
       "        vertical-align: middle;\n",
       "    }\n",
       "\n",
       "    .dataframe tbody tr th {\n",
       "        vertical-align: top;\n",
       "    }\n",
       "\n",
       "    .dataframe thead th {\n",
       "        text-align: right;\n",
       "    }\n",
       "</style>\n",
       "<table border=\"1\" class=\"dataframe\">\n",
       "  <thead>\n",
       "    <tr style=\"text-align: right;\">\n",
       "      <th></th>\n",
       "      <th>Unnamed: 0</th>\n",
       "      <th>CSN</th>\n",
       "      <th>Rads_order_ID</th>\n",
       "      <th>Study</th>\n",
       "      <th>Impression</th>\n",
       "      <th>ED_dispo</th>\n",
       "    </tr>\n",
       "  </thead>\n",
       "  <tbody>\n",
       "    <tr>\n",
       "      <th>0</th>\n",
       "      <td>80343</td>\n",
       "      <td>131318610796</td>\n",
       "      <td>755426017</td>\n",
       "      <td>XR ELBOW 3 VIEWS LEFT</td>\n",
       "      <td>1.  No displaced fracture or traumatic malalig...</td>\n",
       "      <td>Discharge</td>\n",
       "    </tr>\n",
       "    <tr>\n",
       "      <th>1</th>\n",
       "      <td>66645</td>\n",
       "      <td>131314132694</td>\n",
       "      <td>741821327</td>\n",
       "      <td>XR CHEST 1 VIEW</td>\n",
       "      <td>1.  Apparent retrocardiac opacity favored to b...</td>\n",
       "      <td>Admit to Inpatient</td>\n",
       "    </tr>\n",
       "    <tr>\n",
       "      <th>2</th>\n",
       "      <td>76374</td>\n",
       "      <td>131317332223</td>\n",
       "      <td>751367975</td>\n",
       "      <td>XR CHEST 1 VIEW</td>\n",
       "      <td>1.  No acute cardiopulmonary disease.</td>\n",
       "      <td>Discharge</td>\n",
       "    </tr>\n",
       "    <tr>\n",
       "      <th>3</th>\n",
       "      <td>66912</td>\n",
       "      <td>131314275465</td>\n",
       "      <td>742214156</td>\n",
       "      <td>XR CHEST 1 VIEW</td>\n",
       "      <td>1.  Interval improvement in aeration of the ri...</td>\n",
       "      <td>Admit to Inpatient</td>\n",
       "    </tr>\n",
       "    <tr>\n",
       "      <th>4</th>\n",
       "      <td>118086</td>\n",
       "      <td>131329544269</td>\n",
       "      <td>789721134</td>\n",
       "      <td>CT HEAD WO IV CONTRAST</td>\n",
       "      <td>1.  No acute intracranial abnormality. 2.  Sca...</td>\n",
       "      <td>Discharge</td>\n",
       "    </tr>\n",
       "  </tbody>\n",
       "</table>\n",
       "</div>"
      ],
      "text/plain": [
       "   Unnamed: 0           CSN  Rads_order_ID                   Study  \\\n",
       "0       80343  131318610796      755426017   XR ELBOW 3 VIEWS LEFT   \n",
       "1       66645  131314132694      741821327         XR CHEST 1 VIEW   \n",
       "2       76374  131317332223      751367975         XR CHEST 1 VIEW   \n",
       "3       66912  131314275465      742214156         XR CHEST 1 VIEW   \n",
       "4      118086  131329544269      789721134  CT HEAD WO IV CONTRAST   \n",
       "\n",
       "                                          Impression            ED_dispo  \n",
       "0  1.  No displaced fracture or traumatic malalig...           Discharge  \n",
       "1  1.  Apparent retrocardiac opacity favored to b...  Admit to Inpatient  \n",
       "2              1.  No acute cardiopulmonary disease.           Discharge  \n",
       "3  1.  Interval improvement in aeration of the ri...  Admit to Inpatient  \n",
       "4  1.  No acute intracranial abnormality. 2.  Sca...           Discharge  "
      ]
     },
     "execution_count": 2,
     "metadata": {},
     "output_type": "execute_result"
    }
   ],
   "source": [
    "data_test = pd.read_csv('/root/data/ed_test.csv')\n",
    "data_train = pd.read_csv('/root/data/ed_train.csv')\n",
    "data_val = pd.read_csv('/root/data/ed_val.csv')\n",
    "data_val.head()"
   ]
  },
  {
   "cell_type": "code",
   "execution_count": 11,
   "id": "3141e45c",
   "metadata": {},
   "outputs": [
    {
     "data": {
      "text/plain": [
       "ED_dispo\n",
       "Admit to Inpatient          46484\n",
       "Discharge                   49897\n",
       "Place in Observation         5260\n",
       "Place in Observation-CDU      663\n",
       "dtype: int64"
      ]
     },
     "execution_count": 11,
     "metadata": {},
     "output_type": "execute_result"
    }
   ],
   "source": [
    "data_train.groupby('ED_dispo').size()"
   ]
  },
  {
   "cell_type": "code",
   "execution_count": 15,
   "id": "5416244e",
   "metadata": {},
   "outputs": [
    {
     "data": {
      "text/plain": [
       "ED_dispo\n",
       "Admit to Inpatient          45.437129\n",
       "Discharge                   48.773264\n",
       "Place in Observation         5.141539\n",
       "Place in Observation-CDU     0.648069\n",
       "dtype: float64"
      ]
     },
     "execution_count": 15,
     "metadata": {},
     "output_type": "execute_result"
    }
   ],
   "source": [
    "(data_train.groupby('ED_dispo').size()/data_train.groupby('ED_dispo').size().sum()) *100"
   ]
  },
  {
   "cell_type": "code",
   "execution_count": 14,
   "id": "b8fe189a",
   "metadata": {},
   "outputs": [
    {
     "data": {
      "text/plain": [
       "ED_dispo\n",
       "Admit to Inpatient          6608\n",
       "Discharge                   7187\n",
       "Place in Observation         733\n",
       "Place in Observation-CDU      87\n",
       "dtype: int64"
      ]
     },
     "execution_count": 14,
     "metadata": {},
     "output_type": "execute_result"
    }
   ],
   "source": [
    "data_test.groupby('ED_dispo').size()"
   ]
  },
  {
   "cell_type": "code",
   "execution_count": 16,
   "id": "3c37123d",
   "metadata": {},
   "outputs": [
    {
     "data": {
      "text/plain": [
       "ED_dispo\n",
       "Admit to Inpatient          45.213821\n",
       "Discharge                   49.175505\n",
       "Place in Observation         5.015395\n",
       "Place in Observation-CDU     0.595279\n",
       "dtype: float64"
      ]
     },
     "execution_count": 16,
     "metadata": {},
     "output_type": "execute_result"
    }
   ],
   "source": [
    "(data_test.groupby('ED_dispo').size()/data_test.groupby('ED_dispo').size().sum())*100"
   ]
  },
  {
   "cell_type": "code",
   "execution_count": 18,
   "id": "02ca1557",
   "metadata": {},
   "outputs": [
    {
     "data": {
      "text/plain": [
       "29230"
      ]
     },
     "execution_count": 18,
     "metadata": {},
     "output_type": "execute_result"
    }
   ],
   "source": [
    "data_val.groupby('ED_dispo').size().sum()"
   ]
  },
  {
   "cell_type": "code",
   "execution_count": 20,
   "id": "a56d0018",
   "metadata": {},
   "outputs": [
    {
     "data": {
      "text/plain": [
       "ED_dispo\n",
       "Admit to Inpatient          45.217243\n",
       "Discharge                   48.905234\n",
       "Place in Observation         5.258296\n",
       "Place in Observation-CDU     0.619227\n",
       "dtype: float64"
      ]
     },
     "execution_count": 20,
     "metadata": {},
     "output_type": "execute_result"
    }
   ],
   "source": [
    "(data_val.groupby('ED_dispo').size()/data_val.groupby('ED_dispo').size().sum()) *100"
   ]
  },
  {
   "cell_type": "code",
   "execution_count": 7,
   "id": "1e28be02",
   "metadata": {},
   "outputs": [],
   "source": [
    "#result_l2v = pd.read_csv('/root/Project-CS224N-ED-Disposition/result_l2v_v1.csv') \n",
    "#result_l2v.head()"
   ]
  },
  {
   "cell_type": "code",
   "execution_count": 22,
   "id": "7d74f81d",
   "metadata": {},
   "outputs": [],
   "source": [
    "def plot_roc_curve(y_proba, y_test, labels, mlflow, split_type):\n",
    "    # Plots the Probability Distributions and the ROC Curves One vs Rest\n",
    "    fig = plt.figure(figsize = (17, 8))\n",
    "    bins = [i/20 for i in range(20)] + [1]\n",
    "    roc_auc_ovr = {}\n",
    "    for i in range(len(labels)):\n",
    "        # Gets the class\n",
    "        c = labels[i]\n",
    "\n",
    "        # Prepares an auxiliar dataframe to help with the plots\n",
    "        df_aux = pd.DataFrame()\n",
    "        df_aux['class'] = [1 if y == c else 0 for y in y_test]\n",
    "        df_aux['prob'] = y_proba[:, i]\n",
    "        df_aux = df_aux.reset_index(drop = True)\n",
    "\n",
    "        # Plots the probability distribution for the class and the rest\n",
    "        fig_upper = plt.subplot(2, 4, i+1)\n",
    "        x = df_aux[df_aux['class'] ==0]\n",
    "        plt.hist(x['prob'], density=True, label='Rest')\n",
    "        y = df_aux[df_aux['class'] ==1]\n",
    "        plt.hist(y['prob'], density=True, label=f\" {c}\", bins = bins)\n",
    "        plt.title(c)\n",
    "        plt.legend(loc='upper right')\n",
    "        plt.xlabel(f\"P(x = {c})\")\n",
    "        #plt.show()\n",
    "        #mlflow.log_figure(fig, f\"Histogram: {c}.png\") \n",
    "\n",
    "\n",
    "        # Calculates the ROC Coordinates and plots the ROC Curves\n",
    "        fpr, tpr, thresholds = roc_curve(df_aux['class'], df_aux['prob'], pos_label=1)\n",
    "        mauc = auc(fpr, tpr)\n",
    "        fig_bottom = plt.subplot(2, 4, i+5)\n",
    "        plt.title( f\"ROC: {c}\")\n",
    "        plt.plot(fpr, tpr, 'b', label = 'AUC = %0.2f' % mauc)\n",
    "        plt.legend(loc = 'lower right')\n",
    "        plt.plot([0, 1], [0, 1],'r--')\n",
    "        plt.xlim([0, 1])\n",
    "        plt.ylim([0, 1])\n",
    "        plt.ylabel('True Positive Rate')\n",
    "        plt.xlabel('False Positive Rate')\n",
    "        #plt.show()\n",
    "        mlflow.log_metric(\"auc_\" + split_type + \"_\"+  c, mauc) \n",
    "\n",
    "    plt.tight_layout()\n",
    "    mlflow.log_figure(fig, \"Hist_and_ROC_\" + c+ \"_\"+ split_type + \".png\") \n",
    "    \n",
    "def evaluate(y_test, y_pred, mlflow,  split_type):\n",
    "    \"\"\"\n",
    "    Evaluation function. For each of the text in evaluation data, it reads the score from\n",
    "    the predictions made. And based on this, it calculates the values of\n",
    "    True positive, True negative, False positive, and False negative.\n",
    "\n",
    "    :param y_test: true labels\n",
    "    :param y_pred: predicted labels\n",
    "    :param labels: list of possible labels\n",
    "    :return: evaluation metrics for classification like, precision, recall, and f_score\n",
    "    \"\"\"\n",
    "     \n",
    "    b = np.zeros_like(y_pred)\n",
    "    b[np.arange(len(y_pred)), y_pred.argmax(1)] = 1\n",
    "    y_proba = y_pred\n",
    "\n",
    "    y_pred = pd.DataFrame(b, columns = list(y_test.columns))\n",
    "    y_pred = y_pred.idxmax(axis=1)\n",
    "    y_test = y_test.idxmax(axis=1)\n",
    "\n",
    "    labels = list(y_test.unique())\n",
    "    labels = sorted(labels)\n",
    "\n",
    "    plot_roc_curve(y_proba, y_test, labels, mlflow, split_type)\n",
    "\n",
    "    \n",
    "    confusion = confusion_matrix(y_test, y_pred)\n",
    "\n",
    "    # importing accuracy_score, precision_score, recall_score, f1_score\n",
    "    accuracy = accuracy_score(y_test, y_pred)\n",
    "    precision = precision_score(y_test, y_pred, average= None)\n",
    "    recall = recall_score(y_test, y_pred, average= None)\n",
    "    f1score = f1_score(y_test, y_pred, average= None)\n",
    "\n",
    "\n",
    "    report = classification_report(y_test, y_pred, target_names = labels)\n",
    "    print(report)\n",
    "    f_name = 'report_ '+ split_type +'.yaml'\n",
    "    mlflow.log_dict(report, f_name)\n",
    "    #mlflow.log_metric(\"auc_\" + split_type, mauc) \n",
    "    mlflow.log_metric(\"accuracy_\"+ split_type, accuracy)\n",
    "   \n",
    "\n",
    "    return accuracy, precision, recall, f1score\n",
    "\n",
    "\n",
    "\n",
    "\n",
    "def mlflow_log_parameters(parameter):\n",
    "    # Log parameters\n",
    "    mlflow.log_param(\"dropout\", parameter['dropout'])\n",
    "    mlflow.log_param(\"learning_rate\", parameter['learning_rate'])\n",
    "    mlflow.log_param(\"epochs\", parameter['epochs'])\n",
    "    mlflow.log_param(\"batch_size\", parameter['batch_size'])\n",
    "\n",
    "\n",
    "def get_inputs(impresions, tokenizer, max_len=120):\n",
    "    \"\"\" Gets tensors from text using the tokenizer provided\"\"\"\n",
    "    inps = [tokenizer.encode_plus(t, max_length=max_len, pad_to_max_length=True, add_special_tokens=True) for t in impresions]\n",
    "    inp_tok = np.array([a['input_ids'] for a in inps])\n",
    "    ids = np.array([a['attention_mask'] for a in inps])\n",
    "    segments = np.array([a['token_type_ids'] for a in inps])\n",
    "    return inp_tok, ids, segments\n",
    "\n",
    "def create_bert(learning_rate=1e-3, dropout=0.1):\n",
    "    # Input layer\n",
    "    text_input = tf.keras.layers.Input(shape=(), dtype=tf.string, name='Text')\n",
    "    text_input.trainable = False\n",
    "    \n",
    "    # Bert encoding\n",
    "    bert_preprocess = hub.KerasLayer(\"https://tfhub.dev/tensorflow/bert_en_cased_preprocess/3\", name = \"Bert_preprocessing\")\n",
    "    # Freeze the bert_preprocess layer\n",
    "    bert_preprocess.trainable = False\n",
    "    \n",
    "    bert_encoder = hub.KerasLayer(\"https://tfhub.dev/tensorflow/bert_en_cased_L-24_H-1024_A-16/4\", name = \"Bert_encoding\")\n",
    "    # Freeze the bert_encoder layer\n",
    "    bert_encoder.trainable = False\n",
    "    \n",
    "    preprocessed_text = bert_preprocess(text_input)\n",
    "    outputs = bert_encoder(preprocessed_text)\n",
    "    \n",
    "    # Classification layer with dropout for regularization\n",
    "    layer1 = tf.keras.layers.Dropout(dropout, name='Dropout')(outputs['pooled_output'])\n",
    "    # Freeze the layer1\n",
    "    layer1.trainable = False\n",
    "\n",
    "    layer2 = tf.keras.layers.Dense(4, activation='softmax', name='outputs')(layer1)\n",
    "    layer2.trainable = False\n",
    "    # Compile model\n",
    "    model = tf.keras.Model(inputs=[text_input], outputs=[layer2])\n",
    "    model.compile(optimizer=tf.keras.optimizers.Adam(learning_rate=learning_rate), loss='categorical_crossentropy', \n",
    "                   metrics=[tf.keras.metrics.AUC(), 'accuracy', tf.keras.metrics.Precision(), tf.keras.metrics.Recall()])\n",
    "\n",
    "    return model\n",
    "\n",
    "\n",
    "def training_test_mae( mlflow, history):\n",
    "    # Plot training and test loss at each epoch \n",
    "    fig, ax = plt.subplots()\n",
    "    ax.plot(history.history['accuracy'], label='Training acc')\n",
    "    #plt.plot(history.history['val_accuracy'], label='Validation acc')\n",
    "    plt.title('Training and validation accuracy')\n",
    "    plt.xlabel('Epochs')\n",
    "    plt.ylabel('accuracy')\n",
    "    plt.legend()\n",
    "    plt.show()\n",
    "    mlflow.log_figure(fig, \"training_validation_accuracy.png\") \n",
    "\n",
    "    fig, ax = plt.subplots()\n",
    "    plt.plot(history.history['loss'])\n",
    "    #plt.plot(history.history['val_loss'])\n",
    "    plt.title('model loss')\n",
    "    plt.ylabel('loss')\n",
    "    plt.xlabel('epoch')\n",
    "    #plt.legend(['train', 'test'], loc='upper left')\n",
    "    plt.show()\n",
    "    mlflow.log_figure(fig, \"training_validation_loss.png\") \n"
   ]
  },
  {
   "cell_type": "markdown",
   "id": "4d50d8eb",
   "metadata": {},
   "source": [
    "# Scenario 1"
   ]
  },
  {
   "cell_type": "markdown",
   "id": "8e31fac1",
   "metadata": {},
   "source": [
    "- Without using results from l2v"
   ]
  },
  {
   "cell_type": "code",
   "execution_count": 9,
   "id": "368484dc",
   "metadata": {},
   "outputs": [
    {
     "data": {
      "text/plain": [
       "<Experiment: artifact_location='dbfs:/databricks/mlflow-tracking/1072956514573773', creation_time=1678354854333, experiment_id='1072956514573773', last_update_time=1678578685444, lifecycle_stage='active', name='/Users/karengar@stanford.edu/BERT_l2v', tags={'mlflow.experiment.sourceName': '/Users/karengar@stanford.edu/BERT_l2v',\n",
       " 'mlflow.experimentType': 'MLFLOW_EXPERIMENT',\n",
       " 'mlflow.ownerEmail': 'karengar@stanford.edu',\n",
       " 'mlflow.ownerId': '3913783827154434'}>"
      ]
     },
     "execution_count": 9,
     "metadata": {},
     "output_type": "execute_result"
    }
   ],
   "source": [
    "mlflow.set_tracking_uri(\"databricks\")\n",
    "mlflow.set_experiment(\"/Users/karengar@stanford.edu/BERT_l2v\")"
   ]
  },
  {
   "cell_type": "code",
   "execution_count": 10,
   "id": "30bdc03d",
   "metadata": {},
   "outputs": [],
   "source": [
    "#data[list(result_l2v.iloc[:, 3:].columns)] = result_l2v.iloc[:, 3:]\n",
    "#data.head()"
   ]
  },
  {
   "cell_type": "code",
   "execution_count": 11,
   "id": "ab2e4643",
   "metadata": {},
   "outputs": [],
   "source": [
    "X_train = data_train.drop(['Unnamed: 0', 'ED_dispo', 'CSN', 'Rads_order_ID'], axis=1)\n",
    "X_test =  data_test.drop(['Unnamed: 0', 'ED_dispo', 'CSN', 'Rads_order_ID'], axis=1)\n",
    "X_val = data_val.drop(['Unnamed: 0', 'ED_dispo', 'CSN', 'Rads_order_ID'], axis=1)\n",
    "\n",
    "# Assigning numerical values and storing in another column\n",
    "y_train =  pd.get_dummies(data_train['ED_dispo'])\n",
    "y_test = pd.get_dummies(data_test['ED_dispo'])[list(y_train.columns)]\n",
    "y_val =  pd.get_dummies(data_val['ED_dispo'])[list(y_train.columns)]\n",
    "\n"
   ]
  },
  {
   "cell_type": "code",
   "execution_count": 12,
   "id": "f453718b",
   "metadata": {},
   "outputs": [],
   "source": [
    "del data_train, data_test, data_val "
   ]
  },
  {
   "cell_type": "code",
   "execution_count": 32,
   "id": "1c5075ea",
   "metadata": {},
   "outputs": [],
   "source": [
    "rng = np.random.RandomState(0)\n",
    "param_dist = {    'dropout': [0.1,0.2, 0.3],\n",
    "                  'learning_rate': loguniform.rvs(1e-3, 1e-1, size= 10),\n",
    "                  'epochs': [1],\n",
    "                  'batch_size':[128]\n",
    "                  }\n",
    "            \n",
    "dict_parameters = ParameterSampler(param_distributions=param_dist, n_iter= 10, random_state=rng)\n"
   ]
  },
  {
   "cell_type": "code",
   "execution_count": 33,
   "id": "4db44de0",
   "metadata": {},
   "outputs": [
    {
     "name": "stdout",
     "output_type": "stream",
     "text": [
      "{'learning_rate': 0.012715165291328228, 'epochs': 1, 'dropout': 0.1, 'batch_size': 64}\n",
      "Training\n",
      "   7/1599 [..............................] - ETA: 46:27 - loss: 6.0114 - auc_5: 0.6478 - accuracy: 0.4487 - precision_5: 0.4531 - recall_5: 0.4308"
     ]
    },
    {
     "ename": "KeyboardInterrupt",
     "evalue": "",
     "output_type": "error",
     "traceback": [
      "\u001b[0;31m---------------------------------------------------------------------------\u001b[0m",
      "\u001b[0;31mKeyboardInterrupt\u001b[0m                         Traceback (most recent call last)",
      "Cell \u001b[0;32mIn[33], line 5\u001b[0m\n\u001b[1;32m      3\u001b[0m \u001b[38;5;28mprint\u001b[39m(\u001b[38;5;124m'\u001b[39m\u001b[38;5;124mTraining\u001b[39m\u001b[38;5;124m'\u001b[39m)\n\u001b[1;32m      4\u001b[0m bert_model \u001b[38;5;241m=\u001b[39m create_bert(parameter[\u001b[38;5;124m'\u001b[39m\u001b[38;5;124mlearning_rate\u001b[39m\u001b[38;5;124m'\u001b[39m], parameter[\u001b[38;5;124m'\u001b[39m\u001b[38;5;124mdropout\u001b[39m\u001b[38;5;124m'\u001b[39m])\n\u001b[0;32m----> 5\u001b[0m hist \u001b[38;5;241m=\u001b[39m \u001b[43mbert_model\u001b[49m\u001b[38;5;241;43m.\u001b[39;49m\u001b[43mfit\u001b[49m\u001b[43m(\u001b[49m\u001b[43mx\u001b[49m\u001b[38;5;241;43m=\u001b[39;49m\u001b[43mX_train\u001b[49m\u001b[43m[\u001b[49m\u001b[38;5;124;43m'\u001b[39;49m\u001b[38;5;124;43mImpression\u001b[39;49m\u001b[38;5;124;43m'\u001b[39;49m\u001b[43m]\u001b[49m\u001b[43m,\u001b[49m\u001b[43m \u001b[49m\u001b[43my\u001b[49m\u001b[38;5;241;43m=\u001b[39;49m\u001b[43my_train\u001b[49m\u001b[43m,\u001b[49m\u001b[43m \u001b[49m\u001b[43mepochs\u001b[49m\u001b[38;5;241;43m=\u001b[39;49m\u001b[43mparameter\u001b[49m\u001b[43m[\u001b[49m\u001b[38;5;124;43m'\u001b[39;49m\u001b[38;5;124;43mepochs\u001b[39;49m\u001b[38;5;124;43m'\u001b[39;49m\u001b[43m]\u001b[49m\u001b[43m,\u001b[49m\u001b[43m \u001b[49m\u001b[43mbatch_size\u001b[49m\u001b[38;5;241;43m=\u001b[39;49m\u001b[43mparameter\u001b[49m\u001b[43m[\u001b[49m\u001b[38;5;124;43m'\u001b[39;49m\u001b[38;5;124;43mbatch_size\u001b[39;49m\u001b[38;5;124;43m'\u001b[39;49m\u001b[43m]\u001b[49m\u001b[43m)\u001b[49m\n\u001b[1;32m      6\u001b[0m \u001b[38;5;28;01mwith\u001b[39;00m mlflow\u001b[38;5;241m.\u001b[39mstart_run(): \n\u001b[1;32m      7\u001b[0m     training_test_mae( mlflow, hist)\n",
      "File \u001b[0;32m/opt/conda/envs/l2v/lib/python3.10/site-packages/keras/utils/traceback_utils.py:65\u001b[0m, in \u001b[0;36mfilter_traceback.<locals>.error_handler\u001b[0;34m(*args, **kwargs)\u001b[0m\n\u001b[1;32m     63\u001b[0m filtered_tb \u001b[38;5;241m=\u001b[39m \u001b[38;5;28;01mNone\u001b[39;00m\n\u001b[1;32m     64\u001b[0m \u001b[38;5;28;01mtry\u001b[39;00m:\n\u001b[0;32m---> 65\u001b[0m     \u001b[38;5;28;01mreturn\u001b[39;00m \u001b[43mfn\u001b[49m\u001b[43m(\u001b[49m\u001b[38;5;241;43m*\u001b[39;49m\u001b[43margs\u001b[49m\u001b[43m,\u001b[49m\u001b[43m \u001b[49m\u001b[38;5;241;43m*\u001b[39;49m\u001b[38;5;241;43m*\u001b[39;49m\u001b[43mkwargs\u001b[49m\u001b[43m)\u001b[49m\n\u001b[1;32m     66\u001b[0m \u001b[38;5;28;01mexcept\u001b[39;00m \u001b[38;5;167;01mException\u001b[39;00m \u001b[38;5;28;01mas\u001b[39;00m e:\n\u001b[1;32m     67\u001b[0m     filtered_tb \u001b[38;5;241m=\u001b[39m _process_traceback_frames(e\u001b[38;5;241m.\u001b[39m__traceback__)\n",
      "File \u001b[0;32m/opt/conda/envs/l2v/lib/python3.10/site-packages/keras/engine/training.py:1650\u001b[0m, in \u001b[0;36mModel.fit\u001b[0;34m(self, x, y, batch_size, epochs, verbose, callbacks, validation_split, validation_data, shuffle, class_weight, sample_weight, initial_epoch, steps_per_epoch, validation_steps, validation_batch_size, validation_freq, max_queue_size, workers, use_multiprocessing)\u001b[0m\n\u001b[1;32m   1642\u001b[0m \u001b[38;5;28;01mwith\u001b[39;00m tf\u001b[38;5;241m.\u001b[39mprofiler\u001b[38;5;241m.\u001b[39mexperimental\u001b[38;5;241m.\u001b[39mTrace(\n\u001b[1;32m   1643\u001b[0m     \u001b[38;5;124m\"\u001b[39m\u001b[38;5;124mtrain\u001b[39m\u001b[38;5;124m\"\u001b[39m,\n\u001b[1;32m   1644\u001b[0m     epoch_num\u001b[38;5;241m=\u001b[39mepoch,\n\u001b[0;32m   (...)\u001b[0m\n\u001b[1;32m   1647\u001b[0m     _r\u001b[38;5;241m=\u001b[39m\u001b[38;5;241m1\u001b[39m,\n\u001b[1;32m   1648\u001b[0m ):\n\u001b[1;32m   1649\u001b[0m     callbacks\u001b[38;5;241m.\u001b[39mon_train_batch_begin(step)\n\u001b[0;32m-> 1650\u001b[0m     tmp_logs \u001b[38;5;241m=\u001b[39m \u001b[38;5;28;43mself\u001b[39;49m\u001b[38;5;241;43m.\u001b[39;49m\u001b[43mtrain_function\u001b[49m\u001b[43m(\u001b[49m\u001b[43miterator\u001b[49m\u001b[43m)\u001b[49m\n\u001b[1;32m   1651\u001b[0m     \u001b[38;5;28;01mif\u001b[39;00m data_handler\u001b[38;5;241m.\u001b[39mshould_sync:\n\u001b[1;32m   1652\u001b[0m         context\u001b[38;5;241m.\u001b[39masync_wait()\n",
      "File \u001b[0;32m/opt/conda/envs/l2v/lib/python3.10/site-packages/tensorflow/python/util/traceback_utils.py:150\u001b[0m, in \u001b[0;36mfilter_traceback.<locals>.error_handler\u001b[0;34m(*args, **kwargs)\u001b[0m\n\u001b[1;32m    148\u001b[0m filtered_tb \u001b[38;5;241m=\u001b[39m \u001b[38;5;28;01mNone\u001b[39;00m\n\u001b[1;32m    149\u001b[0m \u001b[38;5;28;01mtry\u001b[39;00m:\n\u001b[0;32m--> 150\u001b[0m   \u001b[38;5;28;01mreturn\u001b[39;00m \u001b[43mfn\u001b[49m\u001b[43m(\u001b[49m\u001b[38;5;241;43m*\u001b[39;49m\u001b[43margs\u001b[49m\u001b[43m,\u001b[49m\u001b[43m \u001b[49m\u001b[38;5;241;43m*\u001b[39;49m\u001b[38;5;241;43m*\u001b[39;49m\u001b[43mkwargs\u001b[49m\u001b[43m)\u001b[49m\n\u001b[1;32m    151\u001b[0m \u001b[38;5;28;01mexcept\u001b[39;00m \u001b[38;5;167;01mException\u001b[39;00m \u001b[38;5;28;01mas\u001b[39;00m e:\n\u001b[1;32m    152\u001b[0m   filtered_tb \u001b[38;5;241m=\u001b[39m _process_traceback_frames(e\u001b[38;5;241m.\u001b[39m__traceback__)\n",
      "File \u001b[0;32m/opt/conda/envs/l2v/lib/python3.10/site-packages/tensorflow/python/eager/polymorphic_function/polymorphic_function.py:880\u001b[0m, in \u001b[0;36mFunction.__call__\u001b[0;34m(self, *args, **kwds)\u001b[0m\n\u001b[1;32m    877\u001b[0m compiler \u001b[38;5;241m=\u001b[39m \u001b[38;5;124m\"\u001b[39m\u001b[38;5;124mxla\u001b[39m\u001b[38;5;124m\"\u001b[39m \u001b[38;5;28;01mif\u001b[39;00m \u001b[38;5;28mself\u001b[39m\u001b[38;5;241m.\u001b[39m_jit_compile \u001b[38;5;28;01melse\u001b[39;00m \u001b[38;5;124m\"\u001b[39m\u001b[38;5;124mnonXla\u001b[39m\u001b[38;5;124m\"\u001b[39m\n\u001b[1;32m    879\u001b[0m \u001b[38;5;28;01mwith\u001b[39;00m OptionalXlaContext(\u001b[38;5;28mself\u001b[39m\u001b[38;5;241m.\u001b[39m_jit_compile):\n\u001b[0;32m--> 880\u001b[0m   result \u001b[38;5;241m=\u001b[39m \u001b[38;5;28;43mself\u001b[39;49m\u001b[38;5;241;43m.\u001b[39;49m\u001b[43m_call\u001b[49m\u001b[43m(\u001b[49m\u001b[38;5;241;43m*\u001b[39;49m\u001b[43margs\u001b[49m\u001b[43m,\u001b[49m\u001b[43m \u001b[49m\u001b[38;5;241;43m*\u001b[39;49m\u001b[38;5;241;43m*\u001b[39;49m\u001b[43mkwds\u001b[49m\u001b[43m)\u001b[49m\n\u001b[1;32m    882\u001b[0m new_tracing_count \u001b[38;5;241m=\u001b[39m \u001b[38;5;28mself\u001b[39m\u001b[38;5;241m.\u001b[39mexperimental_get_tracing_count()\n\u001b[1;32m    883\u001b[0m without_tracing \u001b[38;5;241m=\u001b[39m (tracing_count \u001b[38;5;241m==\u001b[39m new_tracing_count)\n",
      "File \u001b[0;32m/opt/conda/envs/l2v/lib/python3.10/site-packages/tensorflow/python/eager/polymorphic_function/polymorphic_function.py:912\u001b[0m, in \u001b[0;36mFunction._call\u001b[0;34m(self, *args, **kwds)\u001b[0m\n\u001b[1;32m    909\u001b[0m   \u001b[38;5;28mself\u001b[39m\u001b[38;5;241m.\u001b[39m_lock\u001b[38;5;241m.\u001b[39mrelease()\n\u001b[1;32m    910\u001b[0m   \u001b[38;5;66;03m# In this case we have created variables on the first call, so we run the\u001b[39;00m\n\u001b[1;32m    911\u001b[0m   \u001b[38;5;66;03m# defunned version which is guaranteed to never create variables.\u001b[39;00m\n\u001b[0;32m--> 912\u001b[0m   \u001b[38;5;28;01mreturn\u001b[39;00m \u001b[38;5;28;43mself\u001b[39;49m\u001b[38;5;241;43m.\u001b[39;49m\u001b[43m_no_variable_creation_fn\u001b[49m\u001b[43m(\u001b[49m\u001b[38;5;241;43m*\u001b[39;49m\u001b[43margs\u001b[49m\u001b[43m,\u001b[49m\u001b[43m \u001b[49m\u001b[38;5;241;43m*\u001b[39;49m\u001b[38;5;241;43m*\u001b[39;49m\u001b[43mkwds\u001b[49m\u001b[43m)\u001b[49m  \u001b[38;5;66;03m# pylint: disable=not-callable\u001b[39;00m\n\u001b[1;32m    913\u001b[0m \u001b[38;5;28;01melif\u001b[39;00m \u001b[38;5;28mself\u001b[39m\u001b[38;5;241m.\u001b[39m_variable_creation_fn \u001b[38;5;129;01mis\u001b[39;00m \u001b[38;5;129;01mnot\u001b[39;00m \u001b[38;5;28;01mNone\u001b[39;00m:\n\u001b[1;32m    914\u001b[0m   \u001b[38;5;66;03m# Release the lock early so that multiple threads can perform the call\u001b[39;00m\n\u001b[1;32m    915\u001b[0m   \u001b[38;5;66;03m# in parallel.\u001b[39;00m\n\u001b[1;32m    916\u001b[0m   \u001b[38;5;28mself\u001b[39m\u001b[38;5;241m.\u001b[39m_lock\u001b[38;5;241m.\u001b[39mrelease()\n",
      "File \u001b[0;32m/opt/conda/envs/l2v/lib/python3.10/site-packages/tensorflow/python/eager/polymorphic_function/tracing_compiler.py:134\u001b[0m, in \u001b[0;36mTracingCompiler.__call__\u001b[0;34m(self, *args, **kwargs)\u001b[0m\n\u001b[1;32m    131\u001b[0m \u001b[38;5;28;01mwith\u001b[39;00m \u001b[38;5;28mself\u001b[39m\u001b[38;5;241m.\u001b[39m_lock:\n\u001b[1;32m    132\u001b[0m   (concrete_function,\n\u001b[1;32m    133\u001b[0m    filtered_flat_args) \u001b[38;5;241m=\u001b[39m \u001b[38;5;28mself\u001b[39m\u001b[38;5;241m.\u001b[39m_maybe_define_function(args, kwargs)\n\u001b[0;32m--> 134\u001b[0m \u001b[38;5;28;01mreturn\u001b[39;00m \u001b[43mconcrete_function\u001b[49m\u001b[38;5;241;43m.\u001b[39;49m\u001b[43m_call_flat\u001b[49m\u001b[43m(\u001b[49m\n\u001b[1;32m    135\u001b[0m \u001b[43m    \u001b[49m\u001b[43mfiltered_flat_args\u001b[49m\u001b[43m,\u001b[49m\u001b[43m \u001b[49m\u001b[43mcaptured_inputs\u001b[49m\u001b[38;5;241;43m=\u001b[39;49m\u001b[43mconcrete_function\u001b[49m\u001b[38;5;241;43m.\u001b[39;49m\u001b[43mcaptured_inputs\u001b[49m\u001b[43m)\u001b[49m\n",
      "File \u001b[0;32m/opt/conda/envs/l2v/lib/python3.10/site-packages/tensorflow/python/eager/polymorphic_function/monomorphic_function.py:1745\u001b[0m, in \u001b[0;36mConcreteFunction._call_flat\u001b[0;34m(self, args, captured_inputs, cancellation_manager)\u001b[0m\n\u001b[1;32m   1741\u001b[0m possible_gradient_type \u001b[38;5;241m=\u001b[39m gradients_util\u001b[38;5;241m.\u001b[39mPossibleTapeGradientTypes(args)\n\u001b[1;32m   1742\u001b[0m \u001b[38;5;28;01mif\u001b[39;00m (possible_gradient_type \u001b[38;5;241m==\u001b[39m gradients_util\u001b[38;5;241m.\u001b[39mPOSSIBLE_GRADIENT_TYPES_NONE\n\u001b[1;32m   1743\u001b[0m     \u001b[38;5;129;01mand\u001b[39;00m executing_eagerly):\n\u001b[1;32m   1744\u001b[0m   \u001b[38;5;66;03m# No tape is watching; skip to running the function.\u001b[39;00m\n\u001b[0;32m-> 1745\u001b[0m   \u001b[38;5;28;01mreturn\u001b[39;00m \u001b[38;5;28mself\u001b[39m\u001b[38;5;241m.\u001b[39m_build_call_outputs(\u001b[38;5;28;43mself\u001b[39;49m\u001b[38;5;241;43m.\u001b[39;49m\u001b[43m_inference_function\u001b[49m\u001b[38;5;241;43m.\u001b[39;49m\u001b[43mcall\u001b[49m\u001b[43m(\u001b[49m\n\u001b[1;32m   1746\u001b[0m \u001b[43m      \u001b[49m\u001b[43mctx\u001b[49m\u001b[43m,\u001b[49m\u001b[43m \u001b[49m\u001b[43margs\u001b[49m\u001b[43m,\u001b[49m\u001b[43m \u001b[49m\u001b[43mcancellation_manager\u001b[49m\u001b[38;5;241;43m=\u001b[39;49m\u001b[43mcancellation_manager\u001b[49m\u001b[43m)\u001b[49m)\n\u001b[1;32m   1747\u001b[0m forward_backward \u001b[38;5;241m=\u001b[39m \u001b[38;5;28mself\u001b[39m\u001b[38;5;241m.\u001b[39m_select_forward_and_backward_functions(\n\u001b[1;32m   1748\u001b[0m     args,\n\u001b[1;32m   1749\u001b[0m     possible_gradient_type,\n\u001b[1;32m   1750\u001b[0m     executing_eagerly)\n\u001b[1;32m   1751\u001b[0m forward_function, args_with_tangents \u001b[38;5;241m=\u001b[39m forward_backward\u001b[38;5;241m.\u001b[39mforward()\n",
      "File \u001b[0;32m/opt/conda/envs/l2v/lib/python3.10/site-packages/tensorflow/python/eager/polymorphic_function/monomorphic_function.py:378\u001b[0m, in \u001b[0;36m_EagerDefinedFunction.call\u001b[0;34m(self, ctx, args, cancellation_manager)\u001b[0m\n\u001b[1;32m    376\u001b[0m \u001b[38;5;28;01mwith\u001b[39;00m _InterpolateFunctionError(\u001b[38;5;28mself\u001b[39m):\n\u001b[1;32m    377\u001b[0m   \u001b[38;5;28;01mif\u001b[39;00m cancellation_manager \u001b[38;5;129;01mis\u001b[39;00m \u001b[38;5;28;01mNone\u001b[39;00m:\n\u001b[0;32m--> 378\u001b[0m     outputs \u001b[38;5;241m=\u001b[39m \u001b[43mexecute\u001b[49m\u001b[38;5;241;43m.\u001b[39;49m\u001b[43mexecute\u001b[49m\u001b[43m(\u001b[49m\n\u001b[1;32m    379\u001b[0m \u001b[43m        \u001b[49m\u001b[38;5;28;43mstr\u001b[39;49m\u001b[43m(\u001b[49m\u001b[38;5;28;43mself\u001b[39;49m\u001b[38;5;241;43m.\u001b[39;49m\u001b[43msignature\u001b[49m\u001b[38;5;241;43m.\u001b[39;49m\u001b[43mname\u001b[49m\u001b[43m)\u001b[49m\u001b[43m,\u001b[49m\n\u001b[1;32m    380\u001b[0m \u001b[43m        \u001b[49m\u001b[43mnum_outputs\u001b[49m\u001b[38;5;241;43m=\u001b[39;49m\u001b[38;5;28;43mself\u001b[39;49m\u001b[38;5;241;43m.\u001b[39;49m\u001b[43m_num_outputs\u001b[49m\u001b[43m,\u001b[49m\n\u001b[1;32m    381\u001b[0m \u001b[43m        \u001b[49m\u001b[43minputs\u001b[49m\u001b[38;5;241;43m=\u001b[39;49m\u001b[43margs\u001b[49m\u001b[43m,\u001b[49m\n\u001b[1;32m    382\u001b[0m \u001b[43m        \u001b[49m\u001b[43mattrs\u001b[49m\u001b[38;5;241;43m=\u001b[39;49m\u001b[43mattrs\u001b[49m\u001b[43m,\u001b[49m\n\u001b[1;32m    383\u001b[0m \u001b[43m        \u001b[49m\u001b[43mctx\u001b[49m\u001b[38;5;241;43m=\u001b[39;49m\u001b[43mctx\u001b[49m\u001b[43m)\u001b[49m\n\u001b[1;32m    384\u001b[0m   \u001b[38;5;28;01melse\u001b[39;00m:\n\u001b[1;32m    385\u001b[0m     outputs \u001b[38;5;241m=\u001b[39m execute\u001b[38;5;241m.\u001b[39mexecute_with_cancellation(\n\u001b[1;32m    386\u001b[0m         \u001b[38;5;28mstr\u001b[39m(\u001b[38;5;28mself\u001b[39m\u001b[38;5;241m.\u001b[39msignature\u001b[38;5;241m.\u001b[39mname),\n\u001b[1;32m    387\u001b[0m         num_outputs\u001b[38;5;241m=\u001b[39m\u001b[38;5;28mself\u001b[39m\u001b[38;5;241m.\u001b[39m_num_outputs,\n\u001b[0;32m   (...)\u001b[0m\n\u001b[1;32m    390\u001b[0m         ctx\u001b[38;5;241m=\u001b[39mctx,\n\u001b[1;32m    391\u001b[0m         cancellation_manager\u001b[38;5;241m=\u001b[39mcancellation_manager)\n",
      "File \u001b[0;32m/opt/conda/envs/l2v/lib/python3.10/site-packages/tensorflow/python/eager/execute.py:52\u001b[0m, in \u001b[0;36mquick_execute\u001b[0;34m(op_name, num_outputs, inputs, attrs, ctx, name)\u001b[0m\n\u001b[1;32m     50\u001b[0m \u001b[38;5;28;01mtry\u001b[39;00m:\n\u001b[1;32m     51\u001b[0m   ctx\u001b[38;5;241m.\u001b[39mensure_initialized()\n\u001b[0;32m---> 52\u001b[0m   tensors \u001b[38;5;241m=\u001b[39m \u001b[43mpywrap_tfe\u001b[49m\u001b[38;5;241;43m.\u001b[39;49m\u001b[43mTFE_Py_Execute\u001b[49m\u001b[43m(\u001b[49m\u001b[43mctx\u001b[49m\u001b[38;5;241;43m.\u001b[39;49m\u001b[43m_handle\u001b[49m\u001b[43m,\u001b[49m\u001b[43m \u001b[49m\u001b[43mdevice_name\u001b[49m\u001b[43m,\u001b[49m\u001b[43m \u001b[49m\u001b[43mop_name\u001b[49m\u001b[43m,\u001b[49m\n\u001b[1;32m     53\u001b[0m \u001b[43m                                      \u001b[49m\u001b[43minputs\u001b[49m\u001b[43m,\u001b[49m\u001b[43m \u001b[49m\u001b[43mattrs\u001b[49m\u001b[43m,\u001b[49m\u001b[43m \u001b[49m\u001b[43mnum_outputs\u001b[49m\u001b[43m)\u001b[49m\n\u001b[1;32m     54\u001b[0m \u001b[38;5;28;01mexcept\u001b[39;00m core\u001b[38;5;241m.\u001b[39m_NotOkStatusException \u001b[38;5;28;01mas\u001b[39;00m e:\n\u001b[1;32m     55\u001b[0m   \u001b[38;5;28;01mif\u001b[39;00m name \u001b[38;5;129;01mis\u001b[39;00m \u001b[38;5;129;01mnot\u001b[39;00m \u001b[38;5;28;01mNone\u001b[39;00m:\n",
      "\u001b[0;31mKeyboardInterrupt\u001b[0m: "
     ]
    }
   ],
   "source": [
    "for parameter in dict_parameters:\n",
    "    print(parameter)\n",
    "    print('Training')\n",
    "    with mlflow.start_run(): \n",
    "        mlflow_log_parameters(parameter) \n",
    "        bert_model = create_bert(parameter['learning_rate'], parameter['dropout'])\n",
    "        hist = bert_model.fit(x=X_train['Impression'], y=y_train, epochs=parameter['epochs'], batch_size=parameter['batch_size'])\n",
    "        training_test_mae( mlflow, hist)\n",
    "        \n",
    "        print('Testing')\n",
    "        split_type = 'test'\n",
    "        y_pred = bert_model.predict(X_test['Impression'])\n",
    "        accuracy, precision, recall, f1score = evaluate(y_test, y_pred, mlflow, split_type)\n",
    "        \n",
    "        print('Validation')\n",
    "        split_type = 'validation'\n",
    "        y_pred = bert_model.predict(X_val['Impression'])\n",
    "        accuracy, precision, recall, f1score = evaluate(y_val, y_pred, mlflow,  split_type)\n",
    "        \n",
    "        mlflow.end_run()"
   ]
  }
 ],
 "metadata": {
  "kernelspec": {
   "display_name": "Python 3 (ipykernel)",
   "language": "python",
   "name": "python3"
  },
  "language_info": {
   "codemirror_mode": {
    "name": "ipython",
    "version": 3
   },
   "file_extension": ".py",
   "mimetype": "text/x-python",
   "name": "python",
   "nbconvert_exporter": "python",
   "pygments_lexer": "ipython3",
   "version": "3.10.9"
  }
 },
 "nbformat": 4,
 "nbformat_minor": 5
}
