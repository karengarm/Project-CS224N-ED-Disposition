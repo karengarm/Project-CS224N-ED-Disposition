{
 "cells": [
  {
   "cell_type": "code",
   "execution_count": null,
   "id": "8691a28a",
   "metadata": {},
   "outputs": [],
   "source": [
    "1 + 46"
   ]
  },
  {
   "cell_type": "code",
   "execution_count": null,
   "id": "27847724",
   "metadata": {},
   "outputs": [],
   "source": [
    "from gensim.models import doc2vec\n",
    "from lbl2vec import Lbl2Vec\n",
    "import pandas as pd\n",
    "# from tqdm import tqdm\n",
    "from tqdm.auto import tqdm\n",
    "\n",
    "tqdm.pandas()"
   ]
  },
  {
   "cell_type": "code",
   "execution_count": null,
   "id": "ec4af2a8",
   "metadata": {},
   "outputs": [],
   "source": [
    "keywords_small = [[\"infection\"], [\"edema\"], [\"pneumothorax\"]]\n",
    "keywords_small"
   ]
  },
  {
   "cell_type": "code",
   "execution_count": null,
   "id": "caa6e06a",
   "metadata": {},
   "outputs": [],
   "source": [
    "df = pd.read_csv('~/rads_dispo_lim_2023_02_23.csv')\n",
    "df = df.reset_index()\n",
    "df.head()"
   ]
  },
  {
   "cell_type": "code",
   "execution_count": null,
   "id": "848d10c8",
   "metadata": {},
   "outputs": [],
   "source": [
    "df_small = df[:1000]"
   ]
  },
  {
   "cell_type": "code",
   "execution_count": null,
   "id": "0b5759f0",
   "metadata": {},
   "outputs": [],
   "source": [
    "from lbl2vec import Lbl2TransformerVec\n",
    "\n",
    "# init model using the default transformer-embedding model (\"sentence-transformers/all-MiniLM-L6-v2\")\n",
    "model = Lbl2TransformerVec(\n",
    "    keywords_list=keywords_small,\n",
    "    documents=df_small[\"Impression\"],\n",
    ")\n",
    "model.fit()"
   ]
  },
  {
   "cell_type": "code",
   "execution_count": null,
   "id": "286d601e",
   "metadata": {},
   "outputs": [],
   "source": []
  }
 ],
 "metadata": {
  "kernelspec": {
   "display_name": "Python 3 (ipykernel)",
   "language": "python",
   "name": "python3"
  },
  "language_info": {
   "codemirror_mode": {
    "name": "ipython",
    "version": 3
   },
   "file_extension": ".py",
   "mimetype": "text/x-python",
   "name": "python",
   "nbconvert_exporter": "python",
   "pygments_lexer": "ipython3",
   "version": "3.10.9"
  }
 },
 "nbformat": 4,
 "nbformat_minor": 5
}
